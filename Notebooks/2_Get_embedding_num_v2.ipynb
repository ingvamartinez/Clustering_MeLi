{
 "cells": [
  {
   "cell_type": "markdown",
   "id": "664ef4a7",
   "metadata": {
    "vscode": {
     "languageId": "html"
    }
   },
   "source": [
    "![](../src/image/meli5.JPG)\n"
   ]
  },
  {
   "cell_type": "markdown",
   "id": "b5e5fb69",
   "metadata": {},
   "source": [
    "# Generador Embeddings Text-Embedding-3-Small\n",
    "\n",
    "#### En este punto usare  el text-embedding-3-small para la generacion de los embeddings.\n",
    "\n",
    "### Pasos\n",
    "1. [Preparacion de la data.](#1)\n",
    "1. [Preprocesamiento de los datos.](#2)\n",
    "1. [Generacion de Embedding](#3)\n",
    "1. [Extraccion de Embedding](#4)\n"
   ]
  },
  {
   "cell_type": "markdown",
   "id": "cfce241d",
   "metadata": {},
   "source": [
    "<a id=\"1\"></a> <br>\n",
    "## 1.Preparacion de la data\n",
    "\n",
    "#### El dataset usado es el proporcionado en el ejercicio ya con las etiquetas obtenidas en la clusterizacion. El dataset posee 185250 registros los cuales 117094 poseen etiquetas. Esta data mantiene la informacion de sellers de un e-commerce. de los cuales tomaremos 50 registros de cada cluster, 10 de los que no tienen etiqueta para la prediccion.\n",
    "\n",
    "#### Combinaran las variables, y con el modelo se codificara las variables combinadas y dara resultado un vector embedding"
   ]
  },
  {
   "cell_type": "code",
   "execution_count": null,
   "id": "cae894d9",
   "metadata": {},
   "outputs": [],
   "source": [
    "import pandas as pd\n",
    "import tiktoken\n",
    "import matplotlib.pyplot as plt\n",
    "import numpy as np\n",
    "#openai\n",
    "from openai import OpenAI\n",
    "from utils.embeddings_utils import get_embedding"
   ]
  },
  {
   "cell_type": "code",
   "execution_count": 39,
   "id": "bd231f72",
   "metadata": {},
   "outputs": [],
   "source": [
    "embedding_model = \"text-embedding-3-small\"\n",
    "embedding_encoding = \"cl100k_base\"\n",
    "max_tokens = 8000  "
   ]
  },
  {
   "cell_type": "code",
   "execution_count": 40,
   "id": "55350613",
   "metadata": {},
   "outputs": [],
   "source": [
    "path = 'D:\\Clustering_MeLi\\src\\data\\processed\\data_num_v2.csv'\n",
    "df = pd.read_csv(path)"
   ]
  },
  {
   "cell_type": "code",
   "execution_count": 41,
   "id": "b4eec043",
   "metadata": {},
   "outputs": [
    {
     "name": "stdout",
     "output_type": "stream",
     "text": [
      "<class 'pandas.core.frame.DataFrame'>\n",
      "RangeIndex: 13370 entries, 0 to 13369\n",
      "Data columns (total 10 columns):\n",
      " #   Column                Non-Null Count  Dtype  \n",
      "---  ------                --------------  -----  \n",
      " 0   Unnamed: 0            13370 non-null  int64  \n",
      " 1   seller_nickname       13370 non-null  object \n",
      " 2   stock                 13370 non-null  int64  \n",
      " 3   price                 13370 non-null  float64\n",
      " 4   regular_price         13370 non-null  float64\n",
      " 5   Products              13370 non-null  int64  \n",
      " 6   total_amount          13370 non-null  float64\n",
      " 7   regular_total_amount  13370 non-null  float64\n",
      " 8   Kmeans                13370 non-null  int64  \n",
      " 9   AgC                   13370 non-null  int64  \n",
      "dtypes: float64(4), int64(5), object(1)\n",
      "memory usage: 1.0+ MB\n"
     ]
    }
   ],
   "source": [
    "df.info()"
   ]
  },
  {
   "cell_type": "code",
   "execution_count": 42,
   "id": "b6f2293b",
   "metadata": {},
   "outputs": [],
   "source": [
    "df['stock']=df['stock'].astype(str)\n",
    "df['price']=df['price'].astype(str)\n",
    "df['stock']=df['stock'].astype(str)\n",
    "df['regular_price']=df['regular_price'].astype(str)\n",
    "df['Products']=df['Products'].astype(str)\n",
    "df['total_amount']=df['total_amount'].astype(str)\n",
    "df['regular_total_amount']=df['regular_total_amount'].astype(str)\n",
    "df['Kmeans']=df['Kmeans'].astype(str)\n",
    "df['AgC']=df['AgC'].astype(str)\n",
    "\n",
    "df.drop('Unnamed: 0',axis=1,inplace=True)"
   ]
  },
  {
   "cell_type": "code",
   "execution_count": 43,
   "id": "1b89436e",
   "metadata": {},
   "outputs": [
    {
     "name": "stdout",
     "output_type": "stream",
     "text": [
      "<class 'pandas.core.frame.DataFrame'>\n",
      "RangeIndex: 13370 entries, 0 to 13369\n",
      "Data columns (total 9 columns):\n",
      " #   Column                Non-Null Count  Dtype \n",
      "---  ------                --------------  ----- \n",
      " 0   seller_nickname       13370 non-null  object\n",
      " 1   stock                 13370 non-null  object\n",
      " 2   price                 13370 non-null  object\n",
      " 3   regular_price         13370 non-null  object\n",
      " 4   Products              13370 non-null  object\n",
      " 5   total_amount          13370 non-null  object\n",
      " 6   regular_total_amount  13370 non-null  object\n",
      " 7   Kmeans                13370 non-null  object\n",
      " 8   AgC                   13370 non-null  object\n",
      "dtypes: object(9)\n",
      "memory usage: 940.2+ KB\n"
     ]
    }
   ],
   "source": [
    "df.info()"
   ]
  },
  {
   "cell_type": "code",
   "execution_count": 44,
   "id": "c8082b90",
   "metadata": {},
   "outputs": [
    {
     "name": "stdout",
     "output_type": "stream",
     "text": [
      "(13370, 10)\n"
     ]
    },
    {
     "data": {
      "text/html": [
       "<div>\n",
       "<style scoped>\n",
       "    .dataframe tbody tr th:only-of-type {\n",
       "        vertical-align: middle;\n",
       "    }\n",
       "\n",
       "    .dataframe tbody tr th {\n",
       "        vertical-align: top;\n",
       "    }\n",
       "\n",
       "    .dataframe thead th {\n",
       "        text-align: right;\n",
       "    }\n",
       "</style>\n",
       "<table border=\"1\" class=\"dataframe\">\n",
       "  <thead>\n",
       "    <tr style=\"text-align: right;\">\n",
       "      <th></th>\n",
       "      <th>seller_nickname</th>\n",
       "      <th>stock</th>\n",
       "      <th>price</th>\n",
       "      <th>regular_price</th>\n",
       "      <th>Products</th>\n",
       "      <th>total_amount</th>\n",
       "      <th>regular_total_amount</th>\n",
       "      <th>Kmeans</th>\n",
       "      <th>AgC</th>\n",
       "      <th>mix</th>\n",
       "    </tr>\n",
       "  </thead>\n",
       "  <tbody>\n",
       "    <tr>\n",
       "      <th>0</th>\n",
       "      <td>000e60a7db</td>\n",
       "      <td>2286</td>\n",
       "      <td>1030.53</td>\n",
       "      <td>2583.58</td>\n",
       "      <td>8</td>\n",
       "      <td>2355791.58</td>\n",
       "      <td>2662456.6974</td>\n",
       "      <td>1</td>\n",
       "      <td>1</td>\n",
       "      <td>Stock: 2286; Price: 1030.53; Regular_price: 25...</td>\n",
       "    </tr>\n",
       "    <tr>\n",
       "      <th>1</th>\n",
       "      <td>0010978f04</td>\n",
       "      <td>388</td>\n",
       "      <td>259.12</td>\n",
       "      <td>528.0</td>\n",
       "      <td>2</td>\n",
       "      <td>100538.56</td>\n",
       "      <td>136815.36000000002</td>\n",
       "      <td>1</td>\n",
       "      <td>3</td>\n",
       "      <td>Stock: 388; Price: 259.12; Regular_price: 528....</td>\n",
       "    </tr>\n",
       "  </tbody>\n",
       "</table>\n",
       "</div>"
      ],
      "text/plain": [
       "  seller_nickname stock    price regular_price Products total_amount  \\\n",
       "0      000e60a7db  2286  1030.53       2583.58        8   2355791.58   \n",
       "1      0010978f04   388   259.12         528.0        2    100538.56   \n",
       "\n",
       "  regular_total_amount Kmeans AgC  \\\n",
       "0         2662456.6974      1   1   \n",
       "1   136815.36000000002      1   3   \n",
       "\n",
       "                                                 mix  \n",
       "0  Stock: 2286; Price: 1030.53; Regular_price: 25...  \n",
       "1  Stock: 388; Price: 259.12; Regular_price: 528....  "
      ]
     },
     "execution_count": 44,
     "metadata": {},
     "output_type": "execute_result"
    }
   ],
   "source": [
    "df['mix'] = \"Stock: \" + df['stock'].str.strip() + \"; Price: \" + df['price'].str.strip() + \"; Regular_price: \" + df['regular_price'].str.strip()+ \"; Products: \" + df.Products.str.strip() + \"; total_amount: \" + df.total_amount.str.strip() + \"; Regular_total_amount \" + df['regular_total_amount'].str.strip()\n",
    "print(df.shape)\n",
    "\n",
    "\n",
    "df.head(2)"
   ]
  },
  {
   "cell_type": "markdown",
   "id": "5e7575fe",
   "metadata": {},
   "source": [
    "#### Como mencione anteriormente seleccionaremos 200 de cada cluster para tener una data de 1000 registros. y 100 para predecir."
   ]
  },
  {
   "cell_type": "code",
   "execution_count": 45,
   "id": "89ea1e94",
   "metadata": {},
   "outputs": [
    {
     "data": {
      "text/plain": [
       "Index(['seller_nickname', 'stock', 'price', 'regular_price', 'Products',\n",
       "       'total_amount', 'regular_total_amount', 'Kmeans', 'AgC', 'mix'],\n",
       "      dtype='object')"
      ]
     },
     "execution_count": 45,
     "metadata": {},
     "output_type": "execute_result"
    }
   ],
   "source": [
    "df.columns"
   ]
  },
  {
   "cell_type": "code",
   "execution_count": 46,
   "id": "f080f9ad",
   "metadata": {},
   "outputs": [
    {
     "data": {
      "text/plain": [
       "Kmeans\n",
       "1    11214\n",
       "3     1455\n",
       "0      368\n",
       "2      333\n",
       "Name: count, dtype: int64"
      ]
     },
     "execution_count": 46,
     "metadata": {},
     "output_type": "execute_result"
    }
   ],
   "source": [
    "df['Kmeans'].value_counts()"
   ]
  },
  {
   "cell_type": "code",
   "execution_count": 47,
   "id": "88f77d8f",
   "metadata": {},
   "outputs": [
    {
     "name": "stdout",
     "output_type": "stream",
     "text": [
      "Cluster 0\n",
      "Cluster 1\n",
      "Cluster 2\n",
      "Cluster 3\n",
      "(800, 10)\n",
      "Kmeans\n",
      "0    200\n",
      "1    200\n",
      "2    200\n",
      "3    200\n",
      "Name: count, dtype: int64\n",
      "(800, 10)\n"
     ]
    },
    {
     "data": {
      "text/html": [
       "<div>\n",
       "<style scoped>\n",
       "    .dataframe tbody tr th:only-of-type {\n",
       "        vertical-align: middle;\n",
       "    }\n",
       "\n",
       "    .dataframe tbody tr th {\n",
       "        vertical-align: top;\n",
       "    }\n",
       "\n",
       "    .dataframe thead th {\n",
       "        text-align: right;\n",
       "    }\n",
       "</style>\n",
       "<table border=\"1\" class=\"dataframe\">\n",
       "  <thead>\n",
       "    <tr style=\"text-align: right;\">\n",
       "      <th></th>\n",
       "      <th>seller_nickname</th>\n",
       "      <th>stock</th>\n",
       "      <th>price</th>\n",
       "      <th>regular_price</th>\n",
       "      <th>Products</th>\n",
       "      <th>total_amount</th>\n",
       "      <th>regular_total_amount</th>\n",
       "      <th>Kmeans</th>\n",
       "      <th>AgC</th>\n",
       "      <th>mix</th>\n",
       "    </tr>\n",
       "  </thead>\n",
       "  <tbody>\n",
       "    <tr>\n",
       "      <th>0</th>\n",
       "      <td>d985aaaae5</td>\n",
       "      <td>10386</td>\n",
       "      <td>1558.78</td>\n",
       "      <td>1640.89</td>\n",
       "      <td>4</td>\n",
       "      <td>16189489.08</td>\n",
       "      <td>2557786.5142</td>\n",
       "      <td>2</td>\n",
       "      <td>2</td>\n",
       "      <td>Stock: 10386; Price: 1558.78; Regular_price: 1...</td>\n",
       "    </tr>\n",
       "    <tr>\n",
       "      <th>1</th>\n",
       "      <td>afcb33009c</td>\n",
       "      <td>14</td>\n",
       "      <td>7140.41</td>\n",
       "      <td>7843.88</td>\n",
       "      <td>9</td>\n",
       "      <td>99965.74</td>\n",
       "      <td>56008519.1908</td>\n",
       "      <td>3</td>\n",
       "      <td>1</td>\n",
       "      <td>Stock: 14; Price: 7140.41; Regular_price: 7843...</td>\n",
       "    </tr>\n",
       "  </tbody>\n",
       "</table>\n",
       "</div>"
      ],
      "text/plain": [
       "  seller_nickname  stock    price regular_price Products total_amount  \\\n",
       "0      d985aaaae5  10386  1558.78       1640.89        4  16189489.08   \n",
       "1      afcb33009c     14  7140.41       7843.88        9     99965.74   \n",
       "\n",
       "  regular_total_amount Kmeans AgC  \\\n",
       "0         2557786.5142      2   2   \n",
       "1        56008519.1908      3   1   \n",
       "\n",
       "                                                 mix  \n",
       "0  Stock: 10386; Price: 1558.78; Regular_price: 1...  \n",
       "1  Stock: 14; Price: 7140.41; Regular_price: 7843...  "
      ]
     },
     "execution_count": 47,
     "metadata": {},
     "output_type": "execute_result"
    }
   ],
   "source": [
    "col = ['seller_nickname', 'stock', 'price', 'regular_price', 'Products',\n",
    "       'total_amount', 'regular_total_amount', 'Kmeans', 'AgC', 'mix']\n",
    "cntxcluster = 200\n",
    "clusters=4\n",
    "dfy=pd.DataFrame()\n",
    "for i in range(0,clusters): # Sacamos los 50 registros de cada cluster.\n",
    "    print(f\"Cluster {i}\")\n",
    "    reviews = df[df.Kmeans == str(i)].sample(cntxcluster, random_state=42).values\n",
    "    dfx = pd.DataFrame(data=reviews,columns=col)\n",
    "    dfy = pd.concat([dfy,dfx], axis=0)\n",
    "\n",
    "\n",
    "\n",
    "print(dfy.shape)\n",
    "print(dfy.Kmeans.value_counts())\n",
    "dfy = pd.concat([dfy,df[df['Kmeans'].isnull()][:100]], axis=0) # concatenamos con los\n",
    "print(dfy.shape)\n",
    "dfy = dfy.iloc[np.random.permutation(len(dfy))].reset_index(drop=True)\n",
    "dfy.head(2)"
   ]
  },
  {
   "cell_type": "markdown",
   "id": "f3e63449",
   "metadata": {},
   "source": [
    "<a id=\"2\"></a> <br>\n",
    "## 2. Preprocesamiento de Datos"
   ]
  },
  {
   "cell_type": "markdown",
   "id": "0d5949fd",
   "metadata": {},
   "source": [
    "#### Ya con la data seleccionada ahora lo que realizaremos sera la tokenizacion  con tiktoken utilizando el encoding de 3-small definido al inicio."
   ]
  },
  {
   "cell_type": "code",
   "execution_count": 48,
   "id": "31f252c7",
   "metadata": {},
   "outputs": [],
   "source": [
    "encoding = tiktoken.get_encoding(embedding_encoding)\n",
    "\n",
    "# Dado que utilizar la API de OpenAI no es gratis, debemos tartar de controlar los token\n",
    "# que vamos a gastar con el fin de no gastar creditos innecesarios.\n",
    "# Aun que 3-small es muy barata.\n",
    "# tambien es importante revisar que tanto es la maxima cantidad de token, ya que el\n",
    "# 3-small tienen un limite de 8000 tokens por entrada o por registro.\n",
    "dfy['tokens'] = dfy.mix.apply(lambda x: len(encoding.encode(x)))\n"
   ]
  },
  {
   "cell_type": "code",
   "execution_count": 49,
   "id": "0e43add4",
   "metadata": {},
   "outputs": [
    {
     "name": "stdout",
     "output_type": "stream",
     "text": [
      "36948\n"
     ]
    },
    {
     "data": {
      "image/png": "[encoded data removed]",
      "text/plain": [
       "<Figure size 640x480 with 1 Axes>"
      ]
     },
     "metadata": {},
     "output_type": "display_data"
    }
   ],
   "source": [
    "print(sum(dfy.tokens.values))\n",
    "plt.hist(dfy.tokens, bins= 40);\n"
   ]
  },
  {
   "cell_type": "markdown",
   "id": "c5b8a3e4",
   "metadata": {},
   "source": [
    "<a id=\"3\"></a> <br>\n",
    "# 3. Generacions de Embedding"
   ]
  },
  {
   "cell_type": "markdown",
   "id": "5db1049d",
   "metadata": {},
   "source": [
    "##### para esta primera prueba utilizaremos de input 85977 tokens de entrada y de respuesta seran 250."
   ]
  },
  {
   "cell_type": "code",
   "execution_count": 50,
   "id": "dcd0c0f5",
   "metadata": {},
   "outputs": [],
   "source": [
    "# antes de correr cualquier modelo de la api de openai debemos asegurarnos que esta ya esta,\n",
    "#completamente configurada en el ambiente.\n",
    "\n",
    "#ahora\n",
    "dfy[\"embedding\"] = dfy.mix.apply(lambda x: get_embedding(x, model=embedding_model))\n",
    "\n"
   ]
  },
  {
   "cell_type": "code",
   "execution_count": 51,
   "id": "f4d618bf",
   "metadata": {},
   "outputs": [
    {
     "data": {
      "text/html": [
       "<div>\n",
       "<style scoped>\n",
       "    .dataframe tbody tr th:only-of-type {\n",
       "        vertical-align: middle;\n",
       "    }\n",
       "\n",
       "    .dataframe tbody tr th {\n",
       "        vertical-align: top;\n",
       "    }\n",
       "\n",
       "    .dataframe thead th {\n",
       "        text-align: right;\n",
       "    }\n",
       "</style>\n",
       "<table border=\"1\" class=\"dataframe\">\n",
       "  <thead>\n",
       "    <tr style=\"text-align: right;\">\n",
       "      <th></th>\n",
       "      <th>seller_nickname</th>\n",
       "      <th>stock</th>\n",
       "      <th>price</th>\n",
       "      <th>regular_price</th>\n",
       "      <th>Products</th>\n",
       "      <th>total_amount</th>\n",
       "      <th>regular_total_amount</th>\n",
       "      <th>Kmeans</th>\n",
       "      <th>AgC</th>\n",
       "      <th>mix</th>\n",
       "      <th>tokens</th>\n",
       "      <th>embedding</th>\n",
       "    </tr>\n",
       "  </thead>\n",
       "  <tbody>\n",
       "    <tr>\n",
       "      <th>0</th>\n",
       "      <td>d985aaaae5</td>\n",
       "      <td>10386</td>\n",
       "      <td>1558.78</td>\n",
       "      <td>1640.89</td>\n",
       "      <td>4</td>\n",
       "      <td>16189489.08</td>\n",
       "      <td>2557786.5142</td>\n",
       "      <td>2</td>\n",
       "      <td>2</td>\n",
       "      <td>Stock: 10386; Price: 1558.78; Regular_price: 1...</td>\n",
       "      <td>48</td>\n",
       "      <td>[0.020505458116531372, -0.031195444986224174, ...</td>\n",
       "    </tr>\n",
       "    <tr>\n",
       "      <th>1</th>\n",
       "      <td>afcb33009c</td>\n",
       "      <td>14</td>\n",
       "      <td>7140.41</td>\n",
       "      <td>7843.88</td>\n",
       "      <td>9</td>\n",
       "      <td>99965.74</td>\n",
       "      <td>56008519.1908</td>\n",
       "      <td>3</td>\n",
       "      <td>1</td>\n",
       "      <td>Stock: 14; Price: 7140.41; Regular_price: 7843...</td>\n",
       "      <td>46</td>\n",
       "      <td>[0.015826193615794182, -0.044457923620939255, ...</td>\n",
       "    </tr>\n",
       "    <tr>\n",
       "      <th>2</th>\n",
       "      <td>c3bceed391</td>\n",
       "      <td>162</td>\n",
       "      <td>1211.93</td>\n",
       "      <td>1275.72</td>\n",
       "      <td>3</td>\n",
       "      <td>196332.66</td>\n",
       "      <td>1546083.3396</td>\n",
       "      <td>1</td>\n",
       "      <td>3</td>\n",
       "      <td>Stock: 162; Price: 1211.93; Regular_price: 127...</td>\n",
       "      <td>46</td>\n",
       "      <td>[0.031208906322717667, -0.04408421367406845, 0...</td>\n",
       "    </tr>\n",
       "    <tr>\n",
       "      <th>3</th>\n",
       "      <td>29c2c29a0d</td>\n",
       "      <td>110</td>\n",
       "      <td>13908.1</td>\n",
       "      <td>25215.69</td>\n",
       "      <td>5</td>\n",
       "      <td>1529891.0</td>\n",
       "      <td>350702338.089</td>\n",
       "      <td>0</td>\n",
       "      <td>0</td>\n",
       "      <td>Stock: 110; Price: 13908.1; Regular_price: 252...</td>\n",
       "      <td>46</td>\n",
       "      <td>[0.019841866567730904, -0.0383894182741642, 0....</td>\n",
       "    </tr>\n",
       "    <tr>\n",
       "      <th>4</th>\n",
       "      <td>f5500a2cf9</td>\n",
       "      <td>5</td>\n",
       "      <td>7494.85</td>\n",
       "      <td>9397.0</td>\n",
       "      <td>3</td>\n",
       "      <td>37474.25</td>\n",
       "      <td>70429105.45</td>\n",
       "      <td>3</td>\n",
       "      <td>1</td>\n",
       "      <td>Stock: 5; Price: 7494.85; Regular_price: 9397....</td>\n",
       "      <td>45</td>\n",
       "      <td>[0.009939435869455338, -0.02513420581817627, -...</td>\n",
       "    </tr>\n",
       "  </tbody>\n",
       "</table>\n",
       "</div>"
      ],
      "text/plain": [
       "  seller_nickname  stock    price regular_price Products total_amount  \\\n",
       "0      d985aaaae5  10386  1558.78       1640.89        4  16189489.08   \n",
       "1      afcb33009c     14  7140.41       7843.88        9     99965.74   \n",
       "2      c3bceed391    162  1211.93       1275.72        3    196332.66   \n",
       "3      29c2c29a0d    110  13908.1      25215.69        5    1529891.0   \n",
       "4      f5500a2cf9      5  7494.85        9397.0        3     37474.25   \n",
       "\n",
       "  regular_total_amount Kmeans AgC  \\\n",
       "0         2557786.5142      2   2   \n",
       "1        56008519.1908      3   1   \n",
       "2         1546083.3396      1   3   \n",
       "3        350702338.089      0   0   \n",
       "4          70429105.45      3   1   \n",
       "\n",
       "                                                 mix  tokens  \\\n",
       "0  Stock: 10386; Price: 1558.78; Regular_price: 1...      48   \n",
       "1  Stock: 14; Price: 7140.41; Regular_price: 7843...      46   \n",
       "2  Stock: 162; Price: 1211.93; Regular_price: 127...      46   \n",
       "3  Stock: 110; Price: 13908.1; Regular_price: 252...      46   \n",
       "4  Stock: 5; Price: 7494.85; Regular_price: 9397....      45   \n",
       "\n",
       "                                           embedding  \n",
       "0  [0.020505458116531372, -0.031195444986224174, ...  \n",
       "1  [0.015826193615794182, -0.044457923620939255, ...  \n",
       "2  [0.031208906322717667, -0.04408421367406845, 0...  \n",
       "3  [0.019841866567730904, -0.0383894182741642, 0....  \n",
       "4  [0.009939435869455338, -0.02513420581817627, -...  "
      ]
     },
     "execution_count": 51,
     "metadata": {},
     "output_type": "execute_result"
    }
   ],
   "source": [
    "dfy.head(5)"
   ]
  },
  {
   "cell_type": "code",
   "execution_count": 52,
   "id": "d47bd0f0",
   "metadata": {},
   "outputs": [
    {
     "name": "stdout",
     "output_type": "stream",
     "text": [
      "(800,)\n"
     ]
    },
    {
     "data": {
      "text/plain": [
       "0      [0.020505458116531372, -0.031195444986224174, ...\n",
       "1      [0.015826193615794182, -0.044457923620939255, ...\n",
       "2      [0.031208906322717667, -0.04408421367406845, 0...\n",
       "3      [0.019841866567730904, -0.0383894182741642, 0....\n",
       "4      [0.009939435869455338, -0.02513420581817627, -...\n",
       "                             ...                        \n",
       "795    [0.016631027683615685, -0.04490247741341591, 0...\n",
       "796    [0.02472490444779396, -0.04814310371875763, 0....\n",
       "797    [0.016653267666697502, -0.04116836562752724, 0...\n",
       "798    [0.028462931513786316, -0.05598494037985802, -...\n",
       "799    [0.03404590114951134, -0.04014121741056442, -0...\n",
       "Name: embedding, Length: 800, dtype: object"
      ]
     },
     "execution_count": 52,
     "metadata": {},
     "output_type": "execute_result"
    }
   ],
   "source": [
    "#ahora vemos nuestras lista los embedding desde 3-small de la muestra de nuestros datos.\n",
    "print(dfy['embedding'].shape)\n",
    "dfy['embedding']"
   ]
  },
  {
   "cell_type": "markdown",
   "id": "30c42991",
   "metadata": {},
   "source": [
    "<a id=\"4\"></a> <br>\n",
    "# 4. Exportacion del Embedding"
   ]
  },
  {
   "cell_type": "code",
   "execution_count": 53,
   "id": "6b713504",
   "metadata": {},
   "outputs": [],
   "source": [
    "#Exportamos el embedding\n",
    "\n",
    "dfy.to_csv(\"data/data_embedding_numeric.csv\")\n"
   ]
  }
 ],
 "metadata": {
  "kernelspec": {
   "display_name": "openai",
   "language": "python",
   "name": "python3"
  },
  "language_info": {
   "codemirror_mode": {
    "name": "ipython",
    "version": 3
   },
   "file_extension": ".py",
   "mimetype": "text/x-python",
   "name": "python",
   "nbconvert_exporter": "python",
   "pygments_lexer": "ipython3",
   "version": "3.11.13"
  }
 },
 "nbformat": 4,
 "nbformat_minor": 5
}
