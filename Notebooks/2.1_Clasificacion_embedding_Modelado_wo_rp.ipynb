{
 "cells": [
  {
   "cell_type": "markdown",
   "id": "6b3dfb64",
   "metadata": {},
   "source": [
    "![](../src/image/meli3.JPG)"
   ]
  },
  {
   "cell_type": "markdown",
   "id": "4bba15d6",
   "metadata": {},
   "source": [
    "# Entrenamiento, y Modelado y Validacion del Classifier\n",
    "\n",
    "#### Ya teniendo en nuestro embedding de la data fuente, realizaremos el entrenamiento de 3 modelos de Clasificacion, RandomForest, SVMClassifier y el XGBOOST. para ver cual de ellos nos clasifica mejor."
   ]
  },
  {
   "cell_type": "markdown",
   "id": "bb17f8a8",
   "metadata": {},
   "source": [
    "\n",
    "### Pasos\n",
    "1. [Preparacion de la data.](#1)\n",
    "1. [Modelado y entrenamiento](#2)\n",
    "1. [Validacion](#3)"
   ]
  },
  {
   "cell_type": "markdown",
   "id": "f9346332",
   "metadata": {},
   "source": [
    "<a id=\"1\"></a> <br>\n",
    "# 1. Preparacion de la Data"
   ]
  },
  {
   "cell_type": "code",
   "execution_count": 10,
   "id": "1697ede0",
   "metadata": {},
   "outputs": [],
   "source": [
    "import pandas as pd\n",
    "import numpy as np\n",
    "from sklearn.ensemble import RandomForestClassifier\n",
    "from sklearn.svm import SVC\n",
    "from xgboost import XGBClassifier\n",
    "from sklearn.model_selection import train_test_split\n",
    "from sklearn.metrics import ConfusionMatrixDisplay, confusion_matrix\n",
    "from sklearn.metrics import classification_report\n",
    "from ast import literal_eval\n"
   ]
  },
  {
   "cell_type": "code",
   "execution_count": 11,
   "id": "c46dd326",
   "metadata": {},
   "outputs": [],
   "source": [
    "#Leo los datos ya procesados con los embeddings de 3-small\n",
    "df_270 = pd.read_csv(\"./data/data_embedding_numeric_wo_rp.csv\")\n"
   ]
  },
  {
   "cell_type": "code",
   "execution_count": 12,
   "id": "4a6b62a8",
   "metadata": {},
   "outputs": [
    {
     "name": "stdout",
     "output_type": "stream",
     "text": [
      "(1000, 11)\n"
     ]
    },
    {
     "data": {
      "text/html": [
       "<div>\n",
       "<style scoped>\n",
       "    .dataframe tbody tr th:only-of-type {\n",
       "        vertical-align: middle;\n",
       "    }\n",
       "\n",
       "    .dataframe tbody tr th {\n",
       "        vertical-align: top;\n",
       "    }\n",
       "\n",
       "    .dataframe thead th {\n",
       "        text-align: right;\n",
       "    }\n",
       "</style>\n",
       "<table border=\"1\" class=\"dataframe\">\n",
       "  <thead>\n",
       "    <tr style=\"text-align: right;\">\n",
       "      <th></th>\n",
       "      <th>Unnamed: 0</th>\n",
       "      <th>seller_nickname</th>\n",
       "      <th>stock</th>\n",
       "      <th>price</th>\n",
       "      <th>Products</th>\n",
       "      <th>total_amount</th>\n",
       "      <th>Kmeans</th>\n",
       "      <th>AgC</th>\n",
       "      <th>mix</th>\n",
       "      <th>tokens</th>\n",
       "      <th>embedding</th>\n",
       "    </tr>\n",
       "  </thead>\n",
       "  <tbody>\n",
       "    <tr>\n",
       "      <th>0</th>\n",
       "      <td>0</td>\n",
       "      <td>d2907af75d</td>\n",
       "      <td>42017</td>\n",
       "      <td>585.00</td>\n",
       "      <td>2</td>\n",
       "      <td>24579945.00</td>\n",
       "      <td>2</td>\n",
       "      <td>0</td>\n",
       "      <td>Stock: 42017; Price: 585.0;  Products: 2; tota...</td>\n",
       "      <td>28</td>\n",
       "      <td>[0.014666757546365261, -0.05899205431342125, 0...</td>\n",
       "    </tr>\n",
       "    <tr>\n",
       "      <th>1</th>\n",
       "      <td>1</td>\n",
       "      <td>8a1b7be2c0</td>\n",
       "      <td>875</td>\n",
       "      <td>11910.47</td>\n",
       "      <td>22</td>\n",
       "      <td>10421661.25</td>\n",
       "      <td>4</td>\n",
       "      <td>1</td>\n",
       "      <td>Stock: 875; Price: 11910.47;  Products: 22; to...</td>\n",
       "      <td>28</td>\n",
       "      <td>[0.0177466943860054, -0.04711324721574783, 0.0...</td>\n",
       "    </tr>\n",
       "  </tbody>\n",
       "</table>\n",
       "</div>"
      ],
      "text/plain": [
       "   Unnamed: 0 seller_nickname  stock     price  Products  total_amount  \\\n",
       "0           0      d2907af75d  42017    585.00         2   24579945.00   \n",
       "1           1      8a1b7be2c0    875  11910.47        22   10421661.25   \n",
       "\n",
       "   Kmeans  AgC                                                mix  tokens  \\\n",
       "0       2    0  Stock: 42017; Price: 585.0;  Products: 2; tota...      28   \n",
       "1       4    1  Stock: 875; Price: 11910.47;  Products: 22; to...      28   \n",
       "\n",
       "                                           embedding  \n",
       "0  [0.014666757546365261, -0.05899205431342125, 0...  \n",
       "1  [0.0177466943860054, -0.04711324721574783, 0.0...  "
      ]
     },
     "execution_count": 12,
     "metadata": {},
     "output_type": "execute_result"
    }
   ],
   "source": [
    "df_270[\"embedding\"] = df_270.embedding.apply(literal_eval).apply(np.array)\n",
    "print(df_270.shape)\n",
    "df_270.head(2)"
   ]
  },
  {
   "cell_type": "code",
   "execution_count": 13,
   "id": "3aa221a3",
   "metadata": {},
   "outputs": [
    {
     "name": "stdout",
     "output_type": "stream",
     "text": [
      "(0, 11)\n"
     ]
    },
    {
     "data": {
      "text/html": [
       "<div>\n",
       "<style scoped>\n",
       "    .dataframe tbody tr th:only-of-type {\n",
       "        vertical-align: middle;\n",
       "    }\n",
       "\n",
       "    .dataframe tbody tr th {\n",
       "        vertical-align: top;\n",
       "    }\n",
       "\n",
       "    .dataframe thead th {\n",
       "        text-align: right;\n",
       "    }\n",
       "</style>\n",
       "<table border=\"1\" class=\"dataframe\">\n",
       "  <thead>\n",
       "    <tr style=\"text-align: right;\">\n",
       "      <th></th>\n",
       "      <th>Unnamed: 0</th>\n",
       "      <th>seller_nickname</th>\n",
       "      <th>stock</th>\n",
       "      <th>price</th>\n",
       "      <th>Products</th>\n",
       "      <th>total_amount</th>\n",
       "      <th>Kmeans</th>\n",
       "      <th>AgC</th>\n",
       "      <th>mix</th>\n",
       "      <th>tokens</th>\n",
       "      <th>embedding</th>\n",
       "    </tr>\n",
       "  </thead>\n",
       "  <tbody>\n",
       "    <tr>\n",
       "      <th>0</th>\n",
       "      <td>0</td>\n",
       "      <td>d2907af75d</td>\n",
       "      <td>42017</td>\n",
       "      <td>585.00</td>\n",
       "      <td>2</td>\n",
       "      <td>24579945.00</td>\n",
       "      <td>2</td>\n",
       "      <td>0</td>\n",
       "      <td>Stock: 42017; Price: 585.0;  Products: 2; tota...</td>\n",
       "      <td>28</td>\n",
       "      <td>[0.014666757546365261, -0.05899205431342125, 0...</td>\n",
       "    </tr>\n",
       "    <tr>\n",
       "      <th>1</th>\n",
       "      <td>1</td>\n",
       "      <td>8a1b7be2c0</td>\n",
       "      <td>875</td>\n",
       "      <td>11910.47</td>\n",
       "      <td>22</td>\n",
       "      <td>10421661.25</td>\n",
       "      <td>4</td>\n",
       "      <td>1</td>\n",
       "      <td>Stock: 875; Price: 11910.47;  Products: 22; to...</td>\n",
       "      <td>28</td>\n",
       "      <td>[0.0177466943860054, -0.04711324721574783, 0.0...</td>\n",
       "    </tr>\n",
       "  </tbody>\n",
       "</table>\n",
       "</div>"
      ],
      "text/plain": [
       "   Unnamed: 0 seller_nickname  stock     price  Products  total_amount  \\\n",
       "0           0      d2907af75d  42017    585.00         2   24579945.00   \n",
       "1           1      8a1b7be2c0    875  11910.47        22   10421661.25   \n",
       "\n",
       "   Kmeans  AgC                                                mix  tokens  \\\n",
       "0       2    0  Stock: 42017; Price: 585.0;  Products: 2; tota...      28   \n",
       "1       4    1  Stock: 875; Price: 11910.47;  Products: 22; to...      28   \n",
       "\n",
       "                                           embedding  \n",
       "0  [0.014666757546365261, -0.05899205431342125, 0...  \n",
       "1  [0.0177466943860054, -0.04711324721574783, 0.0...  "
      ]
     },
     "execution_count": 13,
     "metadata": {},
     "output_type": "execute_result"
    }
   ],
   "source": [
    "# Separo la data de validacion de la train y test,\n",
    "df_val=df_270[df_270['Kmeans'].isnull()]\n",
    "print(df_val.shape)\n",
    "df_270=df_270[df_270['Kmeans'].isnull()==False]\n",
    "df_270[df_270['Kmeans'].isnull()] # Valido que ninguno no tengan datos con valores en la etiqueta\n",
    "df270 = df_270.iloc[np.random.permutation(len(df_270))].reset_index(drop=True)\n",
    "df_270.head(2)"
   ]
  },
  {
   "cell_type": "code",
   "execution_count": 14,
   "id": "18f00f8c",
   "metadata": {},
   "outputs": [
    {
     "data": {
      "text/plain": [
       "Kmeans\n",
       "2    200\n",
       "4    200\n",
       "3    200\n",
       "1    200\n",
       "0    200\n",
       "Name: count, dtype: int64"
      ]
     },
     "execution_count": 14,
     "metadata": {},
     "output_type": "execute_result"
    }
   ],
   "source": [
    "# Obtenemos los datos de entrenamiento y de test\n",
    "\n",
    "x_train,x_test,y_train,y_test = train_test_split(\n",
    "    list(df_270.embedding.values),df_270.Kmeans,test_size=20,random_state=13\n",
    ")\n",
    "\n",
    "df_270['Kmeans'].value_counts()"
   ]
  },
  {
   "cell_type": "markdown",
   "id": "ce25bd09",
   "metadata": {},
   "source": [
    "<a id=\"2\"></a> <br>\n",
    "# 2. Modelado y entrenamiento."
   ]
  },
  {
   "cell_type": "markdown",
   "id": "2994bf65",
   "metadata": {},
   "source": [
    "# RANDOM-FOREST - CLASSIFIER"
   ]
  },
  {
   "cell_type": "code",
   "execution_count": 15,
   "id": "425097cc",
   "metadata": {},
   "outputs": [
    {
     "name": "stdout",
     "output_type": "stream",
     "text": [
      "              precision    recall  f1-score   support\n",
      "\n",
      "           0       1.00      0.75      0.86         8\n",
      "           1       0.67      0.67      0.67         3\n",
      "           2       1.00      1.00      1.00         3\n",
      "           3       1.00      1.00      1.00         1\n",
      "           4       0.71      1.00      0.83         5\n",
      "\n",
      "    accuracy                           0.85        20\n",
      "   macro avg       0.88      0.88      0.87        20\n",
      "weighted avg       0.88      0.85      0.85        20\n",
      "\n"
     ]
    },
    {
     "data": {
      "text/plain": [
       "<sklearn.metrics._plot.confusion_matrix.ConfusionMatrixDisplay at 0x20f176d7790>"
      ]
     },
     "execution_count": 15,
     "metadata": {},
     "output_type": "execute_result"
    },
    {
     "data": {
      "image/png": "[encoded data removed]",
      "text/plain": [
       "<Figure size 640x480 with 2 Axes>"
      ]
     },
     "metadata": {},
     "output_type": "display_data"
    }
   ],
   "source": [
    "# Modelado, Entrenamiento, Evaluacion\n",
    "clf = RandomForestClassifier(n_estimators=100) #iniciamos el modelo\n",
    "clf.fit(x_train, y_train) #entrenamos el modelo\n",
    "predicts = clf.predict(x_test) #realizamos las predicciones\n",
    "probas = clf.predict_proba(x_test) #realizamos las probabilidades\n",
    "\n",
    "report = classification_report(y_test, predicts)\n",
    "print(report)\n",
    "matrix = confusion_matrix(y_pred= predicts ,y_true= y_test)\n",
    "disp=ConfusionMatrixDisplay(matrix)\n",
    "disp.plot()"
   ]
  },
  {
   "cell_type": "markdown",
   "id": "f8b8dcfa",
   "metadata": {},
   "source": [
    "## SUPPORT VECTOR MACHINE - CLASSIFIER"
   ]
  },
  {
   "cell_type": "code",
   "execution_count": 17,
   "id": "78082bde",
   "metadata": {},
   "outputs": [
    {
     "name": "stdout",
     "output_type": "stream",
     "text": [
      "              precision    recall  f1-score   support\n",
      "\n",
      "           0       1.00      0.88      0.93         8\n",
      "           1       0.60      1.00      0.75         3\n",
      "           2       1.00      1.00      1.00         3\n",
      "           3       1.00      1.00      1.00         1\n",
      "           4       0.75      0.60      0.67         5\n",
      "\n",
      "    accuracy                           0.85        20\n",
      "   macro avg       0.87      0.89      0.87        20\n",
      "weighted avg       0.88      0.85      0.85        20\n",
      "\n"
     ]
    },
    {
     "data": {
      "text/plain": [
       "<sklearn.metrics._plot.confusion_matrix.ConfusionMatrixDisplay at 0x20f1b5d1750>"
      ]
     },
     "execution_count": 17,
     "metadata": {},
     "output_type": "execute_result"
    },
    {
     "data": {
      "image/png": "[encoded data removed]",
      "text/plain": [
       "<Figure size 640x480 with 2 Axes>"
      ]
     },
     "metadata": {},
     "output_type": "display_data"
    }
   ],
   "source": [
    "# Modelado, Entrenamiento, Evaluacion\n",
    "clf = SVC() #iniciamos el modelo\n",
    "clf.fit(x_train, y_train) #entrenamos el modelo\n",
    "predicts = clf.predict(x_test) #realizamos las predicciones\n",
    "\n",
    "\n",
    "report = classification_report(y_test, predicts)\n",
    "print(report)\n",
    "matrix = confusion_matrix(y_pred= predicts ,y_true= y_test)\n",
    "disp=ConfusionMatrixDisplay(matrix)\n",
    "disp.plot()"
   ]
  },
  {
   "cell_type": "markdown",
   "id": "9dfec480",
   "metadata": {},
   "source": [
    "# XGBOOST - CLASSIFIER"
   ]
  },
  {
   "cell_type": "code",
   "execution_count": 18,
   "id": "4ff179c6",
   "metadata": {},
   "outputs": [
    {
     "name": "stdout",
     "output_type": "stream",
     "text": [
      "              precision    recall  f1-score   support\n",
      "\n",
      "           0       1.00      0.88      0.93         8\n",
      "           1       0.60      1.00      0.75         3\n",
      "           2       1.00      1.00      1.00         3\n",
      "           3       1.00      1.00      1.00         1\n",
      "           4       1.00      0.80      0.89         5\n",
      "\n",
      "    accuracy                           0.90        20\n",
      "   macro avg       0.92      0.93      0.91        20\n",
      "weighted avg       0.94      0.90      0.91        20\n",
      "\n"
     ]
    },
    {
     "data": {
      "text/plain": [
       "<sklearn.metrics._plot.confusion_matrix.ConfusionMatrixDisplay at 0x20f1b57ac10>"
      ]
     },
     "execution_count": 18,
     "metadata": {},
     "output_type": "execute_result"
    },
    {
     "data": {
      "image/png": "[encoded data removed]",
      "text/plain": [
       "<Figure size 640x480 with 2 Axes>"
      ]
     },
     "metadata": {},
     "output_type": "display_data"
    }
   ],
   "source": [
    "# Modelado, Entrenamiento, Evaluacion\n",
    "clf = XGBClassifier() #iniciamos el modelo\n",
    "clf.fit(x_train, y_train) #entrenamos el modelo\n",
    "predicts = clf.predict(x_test) #realizamos las predicciones\n",
    "\n",
    "\n",
    "report = classification_report(y_test, predicts)\n",
    "print(report)\n",
    "matrix = confusion_matrix(y_pred= predicts ,y_true= y_test)\n",
    "disp=ConfusionMatrixDisplay(matrix)\n",
    "disp.plot()"
   ]
  },
  {
   "cell_type": "markdown",
   "id": "5e532aec",
   "metadata": {},
   "source": [
    "<a id=\"3\"></a> <br>\n",
    "# 3. Validacion"
   ]
  },
  {
   "cell_type": "code",
   "execution_count": null,
   "id": "561623ea",
   "metadata": {},
   "outputs": [],
   "source": []
  }
 ],
 "metadata": {
  "kernelspec": {
   "display_name": "openai",
   "language": "python",
   "name": "python3"
  },
  "language_info": {
   "codemirror_mode": {
    "name": "ipython",
    "version": 3
   },
   "file_extension": ".py",
   "mimetype": "text/x-python",
   "name": "python",
   "nbconvert_exporter": "python",
   "pygments_lexer": "ipython3",
   "version": "3.11.13"
  }
 },
 "nbformat": 4,
 "nbformat_minor": 5
}
