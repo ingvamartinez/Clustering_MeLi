{
 "cells": [
  {
   "cell_type": "markdown",
   "id": "6b3dfb64",
   "metadata": {},
   "source": [
    "![](../src/image/meli3.JPG)"
   ]
  },
  {
   "cell_type": "markdown",
   "id": "4bba15d6",
   "metadata": {},
   "source": [
    "# Entrenamiento, y Modelado y Validacion del Classifier\n",
    "\n",
    "#### Ya teniendo en nuestro embedding de la data fuente, realizaremos el entrenamiento de 3 modelos de Clasificacion, RandomForest, SVMClassifier y el XGBOOST. para ver cual de ellos nos clasifica mejor."
   ]
  },
  {
   "cell_type": "markdown",
   "id": "bb17f8a8",
   "metadata": {},
   "source": [
    "\n",
    "### Pasos\n",
    "1. [Preparacion de la data.](#1)\n",
    "1. [Modelado y entrenamiento](#2)\n",
    "1. [Validacion](#3)"
   ]
  },
  {
   "cell_type": "markdown",
   "id": "f9346332",
   "metadata": {},
   "source": [
    "<a id=\"1\"></a> <br>\n",
    "# 1. Preparacion de la Data"
   ]
  },
  {
   "cell_type": "code",
   "execution_count": 36,
   "id": "1697ede0",
   "metadata": {},
   "outputs": [],
   "source": [
    "import pandas as pd\n",
    "import numpy as np\n",
    "from sklearn.ensemble import RandomForestClassifier\n",
    "from sklearn.svm import SVC\n",
    "from xgboost import XGBClassifier\n",
    "from sklearn.model_selection import train_test_split\n",
    "from sklearn.metrics import ConfusionMatrixDisplay, confusion_matrix\n",
    "from sklearn.metrics import classification_report\n",
    "from ast import literal_eval\n"
   ]
  },
  {
   "cell_type": "code",
   "execution_count": 37,
   "id": "c46dd326",
   "metadata": {},
   "outputs": [],
   "source": [
    "#Leo los datos ya procesados con los embeddings de 3-small\n",
    "df_270 = pd.read_csv(\"D:\\Clustering_MeLi\\src\\data\\processed\\data_embedding_numeric_wo_rp.csv\")\n"
   ]
  },
  {
   "cell_type": "code",
   "execution_count": 38,
   "id": "4a6b62a8",
   "metadata": {},
   "outputs": [
    {
     "name": "stdout",
     "output_type": "stream",
     "text": [
      "(1200, 11)\n"
     ]
    },
    {
     "data": {
      "text/html": [
       "<div>\n",
       "<style scoped>\n",
       "    .dataframe tbody tr th:only-of-type {\n",
       "        vertical-align: middle;\n",
       "    }\n",
       "\n",
       "    .dataframe tbody tr th {\n",
       "        vertical-align: top;\n",
       "    }\n",
       "\n",
       "    .dataframe thead th {\n",
       "        text-align: right;\n",
       "    }\n",
       "</style>\n",
       "<table border=\"1\" class=\"dataframe\">\n",
       "  <thead>\n",
       "    <tr style=\"text-align: right;\">\n",
       "      <th></th>\n",
       "      <th>Unnamed: 0</th>\n",
       "      <th>seller_nickname</th>\n",
       "      <th>stock</th>\n",
       "      <th>price</th>\n",
       "      <th>Products</th>\n",
       "      <th>total_amount</th>\n",
       "      <th>Kmeans</th>\n",
       "      <th>AgC</th>\n",
       "      <th>mix</th>\n",
       "      <th>tokens</th>\n",
       "      <th>embedding</th>\n",
       "    </tr>\n",
       "  </thead>\n",
       "  <tbody>\n",
       "    <tr>\n",
       "      <th>0</th>\n",
       "      <td>0</td>\n",
       "      <td>5916f2ce4b</td>\n",
       "      <td>1</td>\n",
       "      <td>14999999.0</td>\n",
       "      <td>1</td>\n",
       "      <td>14999999.0</td>\n",
       "      <td>2</td>\n",
       "      <td>2</td>\n",
       "      <td>Stock: 1; Price: 14999999.0;  Products: 1; tot...</td>\n",
       "      <td>29</td>\n",
       "      <td>[0.02232317067682743, -0.038039837032556534, 0...</td>\n",
       "    </tr>\n",
       "    <tr>\n",
       "      <th>1</th>\n",
       "      <td>1</td>\n",
       "      <td>02db3ca90d</td>\n",
       "      <td>118</td>\n",
       "      <td>182727.0</td>\n",
       "      <td>23</td>\n",
       "      <td>21561786.0</td>\n",
       "      <td>5</td>\n",
       "      <td>1</td>\n",
       "      <td>Stock: 118; Price: 182727.0;  Products: 23; to...</td>\n",
       "      <td>28</td>\n",
       "      <td>[-0.00459056394174695, -0.05380024015903473, 0...</td>\n",
       "    </tr>\n",
       "  </tbody>\n",
       "</table>\n",
       "</div>"
      ],
      "text/plain": [
       "   Unnamed: 0 seller_nickname  stock       price  Products  total_amount  \\\n",
       "0           0      5916f2ce4b      1  14999999.0         1    14999999.0   \n",
       "1           1      02db3ca90d    118    182727.0        23    21561786.0   \n",
       "\n",
       "   Kmeans  AgC                                                mix  tokens  \\\n",
       "0       2    2  Stock: 1; Price: 14999999.0;  Products: 1; tot...      29   \n",
       "1       5    1  Stock: 118; Price: 182727.0;  Products: 23; to...      28   \n",
       "\n",
       "                                           embedding  \n",
       "0  [0.02232317067682743, -0.038039837032556534, 0...  \n",
       "1  [-0.00459056394174695, -0.05380024015903473, 0...  "
      ]
     },
     "execution_count": 38,
     "metadata": {},
     "output_type": "execute_result"
    }
   ],
   "source": [
    "df_270[\"embedding\"] = df_270.embedding.apply(literal_eval).apply(np.array)\n",
    "print(df_270.shape)\n",
    "df_270.head(2)"
   ]
  },
  {
   "cell_type": "code",
   "execution_count": 39,
   "id": "3aa221a3",
   "metadata": {},
   "outputs": [
    {
     "name": "stdout",
     "output_type": "stream",
     "text": [
      "(0, 11)\n",
      "(1200, 11)\n"
     ]
    },
    {
     "data": {
      "text/plain": [
       "(1150, 11)"
      ]
     },
     "execution_count": 39,
     "metadata": {},
     "output_type": "execute_result"
    }
   ],
   "source": [
    "# Separo la data de validacion de la train y test,\n",
    "df_val=df_270[df_270['Kmeans'].isnull()]\n",
    "print(df_val.shape)\n",
    "df_270=df_270[df_270['Kmeans'].isnull()==False]\n",
    "df_270[df_270['Kmeans'].isnull()] # Valido que ninguno no tengan datos con valores en la etiqueta\n",
    "\n",
    "print(df270.shape)\n",
    "df_val = df_270.tail(50) # extraigo 50 registros pa validar\n",
    "df_270 = df_270.iloc[:-50,:]\n",
    "df_270.shape"
   ]
  },
  {
   "cell_type": "code",
   "execution_count": 40,
   "id": "18f00f8c",
   "metadata": {},
   "outputs": [
    {
     "data": {
      "text/plain": [
       "Kmeans\n",
       "4    195\n",
       "2    194\n",
       "0    193\n",
       "5    192\n",
       "1    188\n",
       "3    188\n",
       "Name: count, dtype: int64"
      ]
     },
     "execution_count": 40,
     "metadata": {},
     "output_type": "execute_result"
    }
   ],
   "source": [
    "# Obtenemos los datos de entrenamiento y de test\n",
    "\n",
    "x_train,x_test,y_train,y_test = train_test_split(\n",
    "    list(df_270.embedding.values),df_270.Kmeans,test_size=20,random_state=13\n",
    ")\n",
    "\n",
    "df_270['Kmeans'].value_counts()"
   ]
  },
  {
   "cell_type": "markdown",
   "id": "ce25bd09",
   "metadata": {},
   "source": [
    "<a id=\"2\"></a> <br>\n",
    "# 2. Modelado y entrenamiento."
   ]
  },
  {
   "cell_type": "markdown",
   "id": "2994bf65",
   "metadata": {},
   "source": [
    "# RANDOM-FOREST - CLASSIFIER"
   ]
  },
  {
   "cell_type": "code",
   "execution_count": 41,
   "id": "425097cc",
   "metadata": {},
   "outputs": [
    {
     "name": "stdout",
     "output_type": "stream",
     "text": [
      "              precision    recall  f1-score   support\n",
      "\n",
      "           0       1.00      0.50      0.67         2\n",
      "           1       0.83      0.71      0.77         7\n",
      "           2       1.00      1.00      1.00         2\n",
      "           3       1.00      1.00      1.00         3\n",
      "           4       1.00      1.00      1.00         3\n",
      "           5       0.60      1.00      0.75         3\n",
      "\n",
      "    accuracy                           0.85        20\n",
      "   macro avg       0.91      0.87      0.86        20\n",
      "weighted avg       0.88      0.85      0.85        20\n",
      "\n"
     ]
    },
    {
     "data": {
      "text/plain": [
       "<sklearn.metrics._plot.confusion_matrix.ConfusionMatrixDisplay at 0x1f8093eaa10>"
      ]
     },
     "execution_count": 41,
     "metadata": {},
     "output_type": "execute_result"
    },
    {
     "data": {
      "image/png": "[encoded data removed]",
      "text/plain": [
       "<Figure size 640x480 with 2 Axes>"
      ]
     },
     "metadata": {},
     "output_type": "display_data"
    }
   ],
   "source": [
    "# Modelado, Entrenamiento, Evaluacion\n",
    "RFclf = RandomForestClassifier(n_estimators=100) #iniciamos el modelo\n",
    "RFclf.fit(x_train, y_train) #entrenamos el modelo\n",
    "predicts = clf.predict(x_test) #realizamos las predicciones\n",
    "probas = clf.predict_proba(x_test) #realizamos las probabilidades\n",
    "\n",
    "report = classification_report(y_test, predicts)\n",
    "print(report)\n",
    "matrix = confusion_matrix(y_pred= predicts ,y_true= y_test)\n",
    "disp=ConfusionMatrixDisplay(matrix)\n",
    "disp.plot()"
   ]
  },
  {
   "cell_type": "markdown",
   "id": "f8b8dcfa",
   "metadata": {},
   "source": [
    "## SUPPORT VECTOR MACHINE - CLASSIFIER"
   ]
  },
  {
   "cell_type": "code",
   "execution_count": 42,
   "id": "78082bde",
   "metadata": {},
   "outputs": [
    {
     "name": "stdout",
     "output_type": "stream",
     "text": [
      "              precision    recall  f1-score   support\n",
      "\n",
      "           0       1.00      0.50      0.67         2\n",
      "           1       0.83      0.71      0.77         7\n",
      "           2       1.00      1.00      1.00         2\n",
      "           3       1.00      1.00      1.00         3\n",
      "           4       1.00      1.00      1.00         3\n",
      "           5       0.60      1.00      0.75         3\n",
      "\n",
      "    accuracy                           0.85        20\n",
      "   macro avg       0.91      0.87      0.86        20\n",
      "weighted avg       0.88      0.85      0.85        20\n",
      "\n"
     ]
    },
    {
     "data": {
      "text/plain": [
       "<sklearn.metrics._plot.confusion_matrix.ConfusionMatrixDisplay at 0x1f80a6dbf50>"
      ]
     },
     "execution_count": 42,
     "metadata": {},
     "output_type": "execute_result"
    },
    {
     "data": {
      "image/png": "[encoded data removed]",
      "text/plain": [
       "<Figure size 640x480 with 2 Axes>"
      ]
     },
     "metadata": {},
     "output_type": "display_data"
    }
   ],
   "source": [
    "# Modelado, Entrenamiento, Evaluacion\n",
    "SVMclf = SVC() #iniciamos el modelo\n",
    "SVMclf.fit(x_train, y_train) #entrenamos el modelo\n",
    "predicts = clf.predict(x_test) #realizamos las predicciones\n",
    "\n",
    "\n",
    "report = classification_report(y_test, predicts)\n",
    "print(report)\n",
    "matrix = confusion_matrix(y_pred= predicts ,y_true= y_test)\n",
    "disp=ConfusionMatrixDisplay(matrix)\n",
    "disp.plot()"
   ]
  },
  {
   "cell_type": "markdown",
   "id": "9dfec480",
   "metadata": {},
   "source": [
    "# XGBOOST - CLASSIFIER"
   ]
  },
  {
   "cell_type": "code",
   "execution_count": 43,
   "id": "4ff179c6",
   "metadata": {},
   "outputs": [
    {
     "name": "stdout",
     "output_type": "stream",
     "text": [
      "              precision    recall  f1-score   support\n",
      "\n",
      "           0       1.00      0.50      0.67         2\n",
      "           1       0.83      0.71      0.77         7\n",
      "           2       1.00      1.00      1.00         2\n",
      "           3       1.00      1.00      1.00         3\n",
      "           4       1.00      1.00      1.00         3\n",
      "           5       0.60      1.00      0.75         3\n",
      "\n",
      "    accuracy                           0.85        20\n",
      "   macro avg       0.91      0.87      0.86        20\n",
      "weighted avg       0.88      0.85      0.85        20\n",
      "\n"
     ]
    },
    {
     "data": {
      "text/plain": [
       "<sklearn.metrics._plot.confusion_matrix.ConfusionMatrixDisplay at 0x1f80a652ad0>"
      ]
     },
     "execution_count": 43,
     "metadata": {},
     "output_type": "execute_result"
    },
    {
     "data": {
      "image/png": "[encoded data removed]",
      "text/plain": [
       "<Figure size 640x480 with 2 Axes>"
      ]
     },
     "metadata": {},
     "output_type": "display_data"
    }
   ],
   "source": [
    "# Modelado, Entrenamiento, Evaluacion\n",
    "XGBclf = XGBClassifier() #iniciamos el modelo\n",
    "XGBclf.fit(x_train, y_train) #entrenamos el modelo\n",
    "predicts = clf.predict(x_test) #realizamos las predicciones\n",
    "\n",
    "\n",
    "report = classification_report(y_test, predicts)\n",
    "print(report)\n",
    "matrix = confusion_matrix(y_pred= predicts ,y_true= y_test)\n",
    "disp=ConfusionMatrixDisplay(matrix)\n",
    "disp.plot()"
   ]
  },
  {
   "cell_type": "markdown",
   "id": "5e532aec",
   "metadata": {},
   "source": [
    "<a id=\"3\"></a> <br>\n",
    "# 3. Validacion"
   ]
  },
  {
   "cell_type": "markdown",
   "id": "fd0bd5e3",
   "metadata": {},
   "source": [
    "#### Los resultados con la data sin variables categoricas (Clustering v3), sin la variable Regular_Price, en el modelado todos son perfectos con un valor de accuracy 85%. y como vemos mas adelante se obtiene un accuracy de 78% un valor muy bueno. teniendo en cuenta que no se han modificado hyperparametros de los modelos seleccionados."
   ]
  },
  {
   "cell_type": "code",
   "execution_count": 45,
   "id": "561623ea",
   "metadata": {},
   "outputs": [
    {
     "name": "stdout",
     "output_type": "stream",
     "text": [
      "<class 'numpy.int64'>\n",
      "              precision    recall  f1-score   support\n",
      "\n",
      "           0       1.00      1.00      1.00         7\n",
      "           1       0.60      0.25      0.35        12\n",
      "           2       1.00      1.00      1.00         6\n",
      "           3       0.73      0.92      0.81        12\n",
      "           4       1.00      1.00      1.00         5\n",
      "           5       0.58      0.88      0.70         8\n",
      "\n",
      "    accuracy                           0.78        50\n",
      "   macro avg       0.82      0.84      0.81        50\n",
      "weighted avg       0.77      0.78      0.75        50\n",
      "\n"
     ]
    },
    {
     "data": {
      "text/plain": [
       "<sklearn.metrics._plot.confusion_matrix.ConfusionMatrixDisplay at 0x1f808e2da10>"
      ]
     },
     "execution_count": 45,
     "metadata": {},
     "output_type": "execute_result"
    },
    {
     "data": {
      "image/png": "[encoded data removed]",
      "text/plain": [
       "<Figure size 640x480 with 2 Axes>"
      ]
     },
     "metadata": {},
     "output_type": "display_data"
    }
   ],
   "source": [
    "# AHora haremos las validacion con el set validacion df_val de 50 registros, registros nos vistos en el entrenamiento escogeremos solo un modelo\n",
    "xval=list(df_val.embedding.values)\n",
    "yval=df_val['Kmeans']\n",
    "ypredict= RFclf.predict(xval).astype(int)\n",
    "print(type(ypredict[1]))\n",
    "# Evaluamos la prediccion\n",
    "report = classification_report(yval, ypredict)\n",
    "print(report)\n",
    "matrix = confusion_matrix(y_pred= ypredict ,y_true= yval)\n",
    "disp=ConfusionMatrixDisplay(matrix)\n",
    "disp.plot()\n"
   ]
  }
 ],
 "metadata": {
  "kernelspec": {
   "display_name": "openai",
   "language": "python",
   "name": "python3"
  },
  "language_info": {
   "codemirror_mode": {
    "name": "ipython",
    "version": 3
   },
   "file_extension": ".py",
   "mimetype": "text/x-python",
   "name": "python",
   "nbconvert_exporter": "python",
   "pygments_lexer": "ipython3",
   "version": "3.11.13"
  }
 },
 "nbformat": 4,
 "nbformat_minor": 5
}
