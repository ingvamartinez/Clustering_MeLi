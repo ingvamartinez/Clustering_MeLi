{
 "cells": [
  {
   "cell_type": "markdown",
   "id": "3c2ca657",
   "metadata": {},
   "source": [
    "![](../src/image/meli3.JPG)"
   ]
  },
  {
   "cell_type": "markdown",
   "id": "4bba15d6",
   "metadata": {},
   "source": [
    "# Entrenamiento, y Modelado y Validacion del Classifier\n",
    "\n",
    "#### Ya teniendo en nuestro embedding de la data fuente, realizaremos el entrenamiento de 3 modelos de Clasificacion, RandomForest, SVMClassifier y el XGBOOST. para ver cual de ellos nos clasifica mejor."
   ]
  },
  {
   "cell_type": "markdown",
   "id": "57e9a8a3",
   "metadata": {},
   "source": [
    "\n",
    "### Pasos\n",
    "1. [Preparacion de la data.](#1)\n",
    "1. [Modelado y entrenamiento](#2)\n",
    "1. [Validacion](#3)"
   ]
  },
  {
   "cell_type": "markdown",
   "id": "1511a5b5",
   "metadata": {},
   "source": [
    "<a id=\"1\"></a> <br>\n",
    "# 1. Preparacion de la Data"
   ]
  },
  {
   "cell_type": "code",
   "execution_count": 33,
   "id": "1697ede0",
   "metadata": {},
   "outputs": [],
   "source": [
    "import pandas as pd\n",
    "import numpy as np\n",
    "from sklearn.ensemble import RandomForestClassifier\n",
    "from sklearn.svm import SVC\n",
    "from xgboost import XGBClassifier\n",
    "from sklearn.model_selection import train_test_split\n",
    "from sklearn.metrics import ConfusionMatrixDisplay, confusion_matrix\n",
    "from sklearn.metrics import classification_report\n",
    "from ast import literal_eval\n"
   ]
  },
  {
   "cell_type": "code",
   "execution_count": 34,
   "id": "c46dd326",
   "metadata": {},
   "outputs": [],
   "source": [
    "#Leo los datos ya procesados con los embeddings de 3-small\n",
    "df_270 = pd.read_csv(\"./data/data_embedding_numeric.csv\")\n"
   ]
  },
  {
   "cell_type": "code",
   "execution_count": 35,
   "id": "4a6b62a8",
   "metadata": {},
   "outputs": [
    {
     "data": {
      "text/html": [
       "<div>\n",
       "<style scoped>\n",
       "    .dataframe tbody tr th:only-of-type {\n",
       "        vertical-align: middle;\n",
       "    }\n",
       "\n",
       "    .dataframe tbody tr th {\n",
       "        vertical-align: top;\n",
       "    }\n",
       "\n",
       "    .dataframe thead th {\n",
       "        text-align: right;\n",
       "    }\n",
       "</style>\n",
       "<table border=\"1\" class=\"dataframe\">\n",
       "  <thead>\n",
       "    <tr style=\"text-align: right;\">\n",
       "      <th></th>\n",
       "      <th>Unnamed: 0</th>\n",
       "      <th>seller_nickname</th>\n",
       "      <th>stock</th>\n",
       "      <th>price</th>\n",
       "      <th>regular_price</th>\n",
       "      <th>Products</th>\n",
       "      <th>total_amount</th>\n",
       "      <th>regular_total_amount</th>\n",
       "      <th>Kmeans</th>\n",
       "      <th>AgC</th>\n",
       "      <th>mix</th>\n",
       "      <th>tokens</th>\n",
       "      <th>embedding</th>\n",
       "    </tr>\n",
       "  </thead>\n",
       "  <tbody>\n",
       "    <tr>\n",
       "      <th>46</th>\n",
       "      <td>46</td>\n",
       "      <td>ebbb5d901c</td>\n",
       "      <td>5</td>\n",
       "      <td>3192.00</td>\n",
       "      <td>3800.00</td>\n",
       "      <td>1</td>\n",
       "      <td>15960.00</td>\n",
       "      <td>1.212960e+07</td>\n",
       "      <td>0</td>\n",
       "      <td>0</td>\n",
       "      <td>Stock: 5; Price: 3192.0; Regular_price: 3800.0...</td>\n",
       "      <td>45</td>\n",
       "      <td>[0.024363234639167786, -0.024069219827651978, ...</td>\n",
       "    </tr>\n",
       "    <tr>\n",
       "      <th>523</th>\n",
       "      <td>523</td>\n",
       "      <td>2b42a1dadd</td>\n",
       "      <td>241</td>\n",
       "      <td>187.06</td>\n",
       "      <td>336.71</td>\n",
       "      <td>2</td>\n",
       "      <td>45081.46</td>\n",
       "      <td>6.298497e+04</td>\n",
       "      <td>0</td>\n",
       "      <td>0</td>\n",
       "      <td>Stock: 241; Price: 187.06; Regular_price: 336....</td>\n",
       "      <td>49</td>\n",
       "      <td>[0.0009372422355227172, -0.04406501352787018, ...</td>\n",
       "    </tr>\n",
       "  </tbody>\n",
       "</table>\n",
       "</div>"
      ],
      "text/plain": [
       "     Unnamed: 0 seller_nickname  stock    price  regular_price  Products  \\\n",
       "46           46      ebbb5d901c      5  3192.00        3800.00         1   \n",
       "523         523      2b42a1dadd    241   187.06         336.71         2   \n",
       "\n",
       "     total_amount  regular_total_amount  Kmeans  AgC  \\\n",
       "46       15960.00          1.212960e+07       0    0   \n",
       "523      45081.46          6.298497e+04       0    0   \n",
       "\n",
       "                                                   mix  tokens  \\\n",
       "46   Stock: 5; Price: 3192.0; Regular_price: 3800.0...      45   \n",
       "523  Stock: 241; Price: 187.06; Regular_price: 336....      49   \n",
       "\n",
       "                                             embedding  \n",
       "46   [0.024363234639167786, -0.024069219827651978, ...  \n",
       "523  [0.0009372422355227172, -0.04406501352787018, ...  "
      ]
     },
     "execution_count": 35,
     "metadata": {},
     "output_type": "execute_result"
    }
   ],
   "source": [
    "df_270[\"embedding\"] = df_270.embedding.apply(literal_eval).apply(np.array)\n",
    "import numpy as np\n",
    "import pandas as pd\n",
    "\n",
    "df_270 = df_270.iloc[np.random.permutation(len(df_270))]\n",
    "df_270.head(2)"
   ]
  },
  {
   "cell_type": "code",
   "execution_count": 36,
   "id": "d2fa3f2f",
   "metadata": {},
   "outputs": [
    {
     "name": "stdout",
     "output_type": "stream",
     "text": [
      "(0, 13)\n"
     ]
    }
   ],
   "source": [
    "# Separo la data de validacion que son los registros que tienen null,\n",
    "df_val=df_270[df_270['Kmeans'].isnull()]\n",
    "print(df_val.shape)"
   ]
  },
  {
   "cell_type": "code",
   "execution_count": 37,
   "id": "3aa221a3",
   "metadata": {},
   "outputs": [
    {
     "name": "stdout",
     "output_type": "stream",
     "text": [
      "Empty DataFrame\n",
      "Columns: [Unnamed: 0, seller_nickname, stock, price, regular_price, Products, total_amount, regular_total_amount, Kmeans, AgC, mix, tokens, embedding]\n",
      "Index: []\n"
     ]
    },
    {
     "data": {
      "text/html": [
       "<div>\n",
       "<style scoped>\n",
       "    .dataframe tbody tr th:only-of-type {\n",
       "        vertical-align: middle;\n",
       "    }\n",
       "\n",
       "    .dataframe tbody tr th {\n",
       "        vertical-align: top;\n",
       "    }\n",
       "\n",
       "    .dataframe thead th {\n",
       "        text-align: right;\n",
       "    }\n",
       "</style>\n",
       "<table border=\"1\" class=\"dataframe\">\n",
       "  <thead>\n",
       "    <tr style=\"text-align: right;\">\n",
       "      <th></th>\n",
       "      <th>Unnamed: 0</th>\n",
       "      <th>seller_nickname</th>\n",
       "      <th>stock</th>\n",
       "      <th>price</th>\n",
       "      <th>regular_price</th>\n",
       "      <th>Products</th>\n",
       "      <th>total_amount</th>\n",
       "      <th>regular_total_amount</th>\n",
       "      <th>Kmeans</th>\n",
       "      <th>AgC</th>\n",
       "      <th>mix</th>\n",
       "      <th>tokens</th>\n",
       "      <th>embedding</th>\n",
       "    </tr>\n",
       "  </thead>\n",
       "  <tbody>\n",
       "    <tr>\n",
       "      <th>46</th>\n",
       "      <td>46</td>\n",
       "      <td>ebbb5d901c</td>\n",
       "      <td>5</td>\n",
       "      <td>3192.00</td>\n",
       "      <td>3800.00</td>\n",
       "      <td>1</td>\n",
       "      <td>15960.00</td>\n",
       "      <td>1.212960e+07</td>\n",
       "      <td>0</td>\n",
       "      <td>0</td>\n",
       "      <td>Stock: 5; Price: 3192.0; Regular_price: 3800.0...</td>\n",
       "      <td>45</td>\n",
       "      <td>[0.024363234639167786, -0.024069219827651978, ...</td>\n",
       "    </tr>\n",
       "    <tr>\n",
       "      <th>523</th>\n",
       "      <td>523</td>\n",
       "      <td>2b42a1dadd</td>\n",
       "      <td>241</td>\n",
       "      <td>187.06</td>\n",
       "      <td>336.71</td>\n",
       "      <td>2</td>\n",
       "      <td>45081.46</td>\n",
       "      <td>6.298497e+04</td>\n",
       "      <td>0</td>\n",
       "      <td>0</td>\n",
       "      <td>Stock: 241; Price: 187.06; Regular_price: 336....</td>\n",
       "      <td>49</td>\n",
       "      <td>[0.0009372422355227172, -0.04406501352787018, ...</td>\n",
       "    </tr>\n",
       "    <tr>\n",
       "      <th>298</th>\n",
       "      <td>298</td>\n",
       "      <td>968e2f5f70</td>\n",
       "      <td>9</td>\n",
       "      <td>693.00</td>\n",
       "      <td>990.00</td>\n",
       "      <td>1</td>\n",
       "      <td>6237.00</td>\n",
       "      <td>6.860700e+05</td>\n",
       "      <td>0</td>\n",
       "      <td>0</td>\n",
       "      <td>Stock: 9; Price: 693.0; Regular_price: 990.0; ...</td>\n",
       "      <td>42</td>\n",
       "      <td>[0.021042803302407265, -0.02342013642191887, 0...</td>\n",
       "    </tr>\n",
       "    <tr>\n",
       "      <th>582</th>\n",
       "      <td>582</td>\n",
       "      <td>f5c64d6bb7</td>\n",
       "      <td>6</td>\n",
       "      <td>11814.02</td>\n",
       "      <td>13596.00</td>\n",
       "      <td>4</td>\n",
       "      <td>70884.12</td>\n",
       "      <td>1.606234e+08</td>\n",
       "      <td>1</td>\n",
       "      <td>3</td>\n",
       "      <td>Stock: 6; Price: 11814.02; Regular_price: 1359...</td>\n",
       "      <td>47</td>\n",
       "      <td>[0.015176234766840935, -0.03914421796798706, 0...</td>\n",
       "    </tr>\n",
       "    <tr>\n",
       "      <th>605</th>\n",
       "      <td>605</td>\n",
       "      <td>9431c5a107</td>\n",
       "      <td>9</td>\n",
       "      <td>10974.04</td>\n",
       "      <td>14796.00</td>\n",
       "      <td>5</td>\n",
       "      <td>98766.36</td>\n",
       "      <td>1.623719e+08</td>\n",
       "      <td>1</td>\n",
       "      <td>3</td>\n",
       "      <td>Stock: 9; Price: 10974.04; Regular_price: 1479...</td>\n",
       "      <td>47</td>\n",
       "      <td>[0.013576646335422993, -0.023300638422369957, ...</td>\n",
       "    </tr>\n",
       "    <tr>\n",
       "      <th>711</th>\n",
       "      <td>711</td>\n",
       "      <td>5fc29552fa</td>\n",
       "      <td>43</td>\n",
       "      <td>2049.25</td>\n",
       "      <td>2193.30</td>\n",
       "      <td>9</td>\n",
       "      <td>88117.75</td>\n",
       "      <td>4.494620e+06</td>\n",
       "      <td>3</td>\n",
       "      <td>0</td>\n",
       "      <td>Stock: 43; Price: 2049.25; Regular_price: 2193...</td>\n",
       "      <td>45</td>\n",
       "      <td>[0.019146844744682312, -0.0548921674489975, 0....</td>\n",
       "    </tr>\n",
       "    <tr>\n",
       "      <th>188</th>\n",
       "      <td>188</td>\n",
       "      <td>afb736ae78</td>\n",
       "      <td>1</td>\n",
       "      <td>1752.75</td>\n",
       "      <td>1845.00</td>\n",
       "      <td>1</td>\n",
       "      <td>1752.75</td>\n",
       "      <td>3.233824e+06</td>\n",
       "      <td>0</td>\n",
       "      <td>0</td>\n",
       "      <td>Stock: 1; Price: 1752.75; Regular_price: 1845....</td>\n",
       "      <td>45</td>\n",
       "      <td>[0.015592481940984726, -0.03960037603974342, 0...</td>\n",
       "    </tr>\n",
       "    <tr>\n",
       "      <th>318</th>\n",
       "      <td>318</td>\n",
       "      <td>9bf71502f3</td>\n",
       "      <td>26998</td>\n",
       "      <td>266.56</td>\n",
       "      <td>280.59</td>\n",
       "      <td>1</td>\n",
       "      <td>7196586.88</td>\n",
       "      <td>7.479407e+04</td>\n",
       "      <td>2</td>\n",
       "      <td>2</td>\n",
       "      <td>Stock: 26998; Price: 266.56; Regular_price: 28...</td>\n",
       "      <td>45</td>\n",
       "      <td>[0.026369262486696243, -0.038173407316207886, ...</td>\n",
       "    </tr>\n",
       "    <tr>\n",
       "      <th>356</th>\n",
       "      <td>356</td>\n",
       "      <td>f4bbb9bcdd</td>\n",
       "      <td>26</td>\n",
       "      <td>1197.82</td>\n",
       "      <td>1982.00</td>\n",
       "      <td>2</td>\n",
       "      <td>31143.32</td>\n",
       "      <td>2.374079e+06</td>\n",
       "      <td>0</td>\n",
       "      <td>0</td>\n",
       "      <td>Stock: 26; Price: 1197.8200000000002; Regular_...</td>\n",
       "      <td>52</td>\n",
       "      <td>[0.015638211742043495, -0.04273168370127678, -...</td>\n",
       "    </tr>\n",
       "    <tr>\n",
       "      <th>81</th>\n",
       "      <td>81</td>\n",
       "      <td>1d0970a474</td>\n",
       "      <td>283</td>\n",
       "      <td>9868.15</td>\n",
       "      <td>11110.84</td>\n",
       "      <td>10</td>\n",
       "      <td>2792686.45</td>\n",
       "      <td>1.096434e+08</td>\n",
       "      <td>1</td>\n",
       "      <td>3</td>\n",
       "      <td>Stock: 283; Price: 9868.15; Regular_price: 111...</td>\n",
       "      <td>46</td>\n",
       "      <td>[0.03869644179940224, -0.030576620250940323, 0...</td>\n",
       "    </tr>\n",
       "  </tbody>\n",
       "</table>\n",
       "</div>"
      ],
      "text/plain": [
       "     Unnamed: 0 seller_nickname  stock     price  regular_price  Products  \\\n",
       "46           46      ebbb5d901c      5   3192.00        3800.00         1   \n",
       "523         523      2b42a1dadd    241    187.06         336.71         2   \n",
       "298         298      968e2f5f70      9    693.00         990.00         1   \n",
       "582         582      f5c64d6bb7      6  11814.02       13596.00         4   \n",
       "605         605      9431c5a107      9  10974.04       14796.00         5   \n",
       "711         711      5fc29552fa     43   2049.25        2193.30         9   \n",
       "188         188      afb736ae78      1   1752.75        1845.00         1   \n",
       "318         318      9bf71502f3  26998    266.56         280.59         1   \n",
       "356         356      f4bbb9bcdd     26   1197.82        1982.00         2   \n",
       "81           81      1d0970a474    283   9868.15       11110.84        10   \n",
       "\n",
       "     total_amount  regular_total_amount Kmeans AgC  \\\n",
       "46       15960.00          1.212960e+07      0   0   \n",
       "523      45081.46          6.298497e+04      0   0   \n",
       "298       6237.00          6.860700e+05      0   0   \n",
       "582      70884.12          1.606234e+08      1   3   \n",
       "605      98766.36          1.623719e+08      1   3   \n",
       "711      88117.75          4.494620e+06      3   0   \n",
       "188       1752.75          3.233824e+06      0   0   \n",
       "318    7196586.88          7.479407e+04      2   2   \n",
       "356      31143.32          2.374079e+06      0   0   \n",
       "81     2792686.45          1.096434e+08      1   3   \n",
       "\n",
       "                                                   mix  tokens  \\\n",
       "46   Stock: 5; Price: 3192.0; Regular_price: 3800.0...      45   \n",
       "523  Stock: 241; Price: 187.06; Regular_price: 336....      49   \n",
       "298  Stock: 9; Price: 693.0; Regular_price: 990.0; ...      42   \n",
       "582  Stock: 6; Price: 11814.02; Regular_price: 1359...      47   \n",
       "605  Stock: 9; Price: 10974.04; Regular_price: 1479...      47   \n",
       "711  Stock: 43; Price: 2049.25; Regular_price: 2193...      45   \n",
       "188  Stock: 1; Price: 1752.75; Regular_price: 1845....      45   \n",
       "318  Stock: 26998; Price: 266.56; Regular_price: 28...      45   \n",
       "356  Stock: 26; Price: 1197.8200000000002; Regular_...      52   \n",
       "81   Stock: 283; Price: 9868.15; Regular_price: 111...      46   \n",
       "\n",
       "                                             embedding  \n",
       "46   [0.024363234639167786, -0.024069219827651978, ...  \n",
       "523  [0.0009372422355227172, -0.04406501352787018, ...  \n",
       "298  [0.021042803302407265, -0.02342013642191887, 0...  \n",
       "582  [0.015176234766840935, -0.03914421796798706, 0...  \n",
       "605  [0.013576646335422993, -0.023300638422369957, ...  \n",
       "711  [0.019146844744682312, -0.0548921674489975, 0....  \n",
       "188  [0.015592481940984726, -0.03960037603974342, 0...  \n",
       "318  [0.026369262486696243, -0.038173407316207886, ...  \n",
       "356  [0.015638211742043495, -0.04273168370127678, -...  \n",
       "81   [0.03869644179940224, -0.030576620250940323, 0...  "
      ]
     },
     "execution_count": 37,
     "metadata": {},
     "output_type": "execute_result"
    }
   ],
   "source": [
    "#retiro los nulls del dataframe fuente\n",
    "df_270=df_270[df_270['Kmeans'].isnull()==False]\n",
    "print(df_270[df_270['Kmeans'].isnull()]) # Valido que ninguno no tengan datos con valores en la etiqueta\n",
    "df_270['Kmeans'] =df_270['Kmeans'].astype(str)\n",
    "df_270['AgC'] =df_270['AgC'].astype(str)\n",
    "df_270.head(10)"
   ]
  },
  {
   "cell_type": "code",
   "execution_count": 38,
   "id": "18f00f8c",
   "metadata": {},
   "outputs": [
    {
     "data": {
      "text/plain": [
       "Kmeans\n",
       "0    200\n",
       "1    200\n",
       "3    200\n",
       "2    200\n",
       "Name: count, dtype: int64"
      ]
     },
     "execution_count": 38,
     "metadata": {},
     "output_type": "execute_result"
    }
   ],
   "source": [
    "# Obtenemos los datos de entrenamiento y de test\n",
    "\n",
    "x_train,x_test,y_train,y_test = train_test_split(\n",
    "    list(df_270.embedding.values),df_270.Kmeans,test_size=30,random_state=13\n",
    ")\n",
    "\n",
    "df_270['Kmeans'].value_counts()"
   ]
  },
  {
   "cell_type": "markdown",
   "id": "ce25bd09",
   "metadata": {},
   "source": [
    "<a id=\"2\"></a> <br>\n",
    "# 2. Modelado y entrenamiento."
   ]
  },
  {
   "cell_type": "markdown",
   "id": "2994bf65",
   "metadata": {},
   "source": [
    "## RANDOM-FOREST - CLASSIFIER"
   ]
  },
  {
   "cell_type": "code",
   "execution_count": 39,
   "id": "425097cc",
   "metadata": {},
   "outputs": [
    {
     "name": "stdout",
     "output_type": "stream",
     "text": [
      "              precision    recall  f1-score   support\n",
      "\n",
      "           0       1.00      0.92      0.96        12\n",
      "           1       0.67      0.67      0.67         6\n",
      "           2       0.75      0.86      0.80         7\n",
      "           3       0.60      0.60      0.60         5\n",
      "\n",
      "    accuracy                           0.80        30\n",
      "   macro avg       0.75      0.76      0.76        30\n",
      "weighted avg       0.81      0.80      0.80        30\n",
      "\n"
     ]
    },
    {
     "data": {
      "text/plain": [
       "<sklearn.metrics._plot.confusion_matrix.ConfusionMatrixDisplay at 0x20effeed650>"
      ]
     },
     "execution_count": 39,
     "metadata": {},
     "output_type": "execute_result"
    },
    {
     "data": {
      "image/png": "[encoded data removed]",
      "text/plain": [
       "<Figure size 640x480 with 2 Axes>"
      ]
     },
     "metadata": {},
     "output_type": "display_data"
    }
   ],
   "source": [
    "# Modelado, Entrenamiento, Evaluacion\n",
    "clf = RandomForestClassifier(n_estimators=100) #iniciamos el modelo\n",
    "clf.fit(x_train, y_train) #entrenamos el modelo\n",
    "predicts = clf.predict(x_test) #realizamos las predicciones\n",
    "probas = clf.predict_proba(x_test) #realizamos las probabilidades\n",
    "\n",
    "report = classification_report(y_test, predicts)\n",
    "print(report)\n",
    "matrix = confusion_matrix(y_pred= predicts ,y_true= y_test)\n",
    "disp=ConfusionMatrixDisplay(matrix)\n",
    "disp.plot()"
   ]
  },
  {
   "cell_type": "markdown",
   "id": "f8b8dcfa",
   "metadata": {},
   "source": [
    "## SUPPORT VECTOR MACHINE - CLASSIFIER"
   ]
  },
  {
   "cell_type": "code",
   "execution_count": 40,
   "id": "78082bde",
   "metadata": {},
   "outputs": [
    {
     "name": "stdout",
     "output_type": "stream",
     "text": [
      "              precision    recall  f1-score   support\n",
      "\n",
      "           0       1.00      0.92      0.96        12\n",
      "           1       0.71      0.83      0.77         6\n",
      "           2       1.00      0.86      0.92         7\n",
      "           3       0.83      1.00      0.91         5\n",
      "\n",
      "    accuracy                           0.90        30\n",
      "   macro avg       0.89      0.90      0.89        30\n",
      "weighted avg       0.92      0.90      0.90        30\n",
      "\n"
     ]
    },
    {
     "data": {
      "text/plain": [
       "<sklearn.metrics._plot.confusion_matrix.ConfusionMatrixDisplay at 0x20e880319d0>"
      ]
     },
     "execution_count": 40,
     "metadata": {},
     "output_type": "execute_result"
    },
    {
     "data": {
      "image/png": "[encoded data removed]",
      "text/plain": [
       "<Figure size 640x480 with 2 Axes>"
      ]
     },
     "metadata": {},
     "output_type": "display_data"
    }
   ],
   "source": [
    "# Modelado, Entrenamiento, Evaluacion\n",
    "clf = SVC() #iniciamos el modelo\n",
    "clf.fit(x_train, y_train) #entrenamos el modelo\n",
    "predicts = clf.predict(x_test) #realizamos las predicciones\n",
    "\n",
    "\n",
    "report = classification_report(y_test, predicts)\n",
    "print(report)\n",
    "matrix = confusion_matrix(y_pred= predicts ,y_true= y_test)\n",
    "disp=ConfusionMatrixDisplay(matrix)\n",
    "disp.plot()"
   ]
  },
  {
   "cell_type": "markdown",
   "id": "6559c352",
   "metadata": {},
   "source": [
    "# XGBOOST - CLASSIFIER"
   ]
  },
  {
   "cell_type": "code",
   "execution_count": null,
   "id": "9bebd035",
   "metadata": {},
   "outputs": [],
   "source": [
    "# Modelado, Entrenamiento, Evaluacion\n",
    "clf = XGBClassifier() #iniciamos el modelo\n",
    "clf.fit(x_train, y_train) #entrenamos el modelo\n",
    "predicts = clf.predict(x_test) #realizamos las predicciones\n",
    "\n",
    "\n",
    "report = classification_report(y_test, predicts)\n",
    "print(report)\n",
    "matrix = confusion_matrix(y_pred= predicts ,y_true= y_test)\n",
    "disp=ConfusionMatrixDisplay(matrix)\n",
    "disp.plot()"
   ]
  },
  {
   "cell_type": "markdown",
   "id": "7b1608a5",
   "metadata": {},
   "source": [
    "<a id=\"3\"></a> <br>\n",
    "# 3. Validacion"
   ]
  },
  {
   "cell_type": "code",
   "execution_count": null,
   "id": "4159622e",
   "metadata": {},
   "outputs": [],
   "source": []
  }
 ],
 "metadata": {
  "kernelspec": {
   "display_name": "openai",
   "language": "python",
   "name": "python3"
  },
  "language_info": {
   "codemirror_mode": {
    "name": "ipython",
    "version": 3
   },
   "file_extension": ".py",
   "mimetype": "text/x-python",
   "name": "python",
   "nbconvert_exporter": "python",
   "pygments_lexer": "ipython3",
   "version": "3.11.13"
  }
 },
 "nbformat": 4,
 "nbformat_minor": 5
}
