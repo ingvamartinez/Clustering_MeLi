{
 "cells": [
  {
   "cell_type": "markdown",
   "id": "d8ade4a1",
   "metadata": {},
   "source": [
    "![](../src/image/meli5.JPG)"
   ]
  },
  {
   "cell_type": "markdown",
   "id": "b5e5fb69",
   "metadata": {},
   "source": [
    "# Generador Embeddings Text-Embedding-3-Small\n",
    "\n",
    "#### En este punto usare  el text-embedding-3-small para la generacion de los embeddings.\n",
    "\n",
    "### Pasos\n",
    "1. [Preparacion de la data.](#1)\n",
    "1. [Preprocesamiento de los datos.](#2)\n",
    "1. [Generacion de Embedding](#3)\n",
    "1. [Extraccion de Embedding](#4)\n"
   ]
  },
  {
   "cell_type": "markdown",
   "id": "cfce241d",
   "metadata": {},
   "source": [
    "<a id=\"1\"></a> <br>\n",
    "# 1. Preparacion de la data\n",
    "\n",
    "#### El dataset usado es el proporcionado en el ejercicio ya con las etiquetas obtenidas en la clusterizacion. El dataset posee 185250 registros los cuales 42711 poseen etiquetas. Esta data mantiene la informacion de sellers de un e-commerce. de los cuales tomaremos 200 registros de cada cluster, 10 de los que no tienen etiqueta para la prediccion.\n",
    "\n",
    "#### Combinaran las variables, y con el modelo se codificara las variables combinadas y dara resultado un vector embedding"
   ]
  },
  {
   "cell_type": "code",
   "execution_count": null,
   "id": "cae894d9",
   "metadata": {},
   "outputs": [],
   "source": [
    "import pandas as pd\n",
    "import tiktoken\n",
    "import matplotlib.pyplot as plt\n",
    "import numpy as np\n",
    "#openai\n",
    "from openai import OpenAI\n",
    "from utils.embeddings_utils import get_embedding"
   ]
  },
  {
   "cell_type": "code",
   "execution_count": 33,
   "id": "bd231f72",
   "metadata": {},
   "outputs": [],
   "source": [
    "embedding_model = \"text-embedding-3-small\"\n",
    "embedding_encoding = \"cl100k_base\"\n",
    "max_tokens = 8000  "
   ]
  },
  {
   "cell_type": "code",
   "execution_count": 34,
   "id": "55350613",
   "metadata": {},
   "outputs": [],
   "source": [
    "path = 'D:\\Clustering_MeLi\\src\\data\\processed\\data_num_wo_rp.csv'\n",
    "df = pd.read_csv(path)"
   ]
  },
  {
   "cell_type": "code",
   "execution_count": 35,
   "id": "b4eec043",
   "metadata": {},
   "outputs": [
    {
     "name": "stdout",
     "output_type": "stream",
     "text": [
      "<class 'pandas.core.frame.DataFrame'>\n",
      "RangeIndex: 42711 entries, 0 to 42710\n",
      "Data columns (total 8 columns):\n",
      " #   Column           Non-Null Count  Dtype  \n",
      "---  ------           --------------  -----  \n",
      " 0   Unnamed: 0       42711 non-null  int64  \n",
      " 1   seller_nickname  42711 non-null  object \n",
      " 2   stock            42711 non-null  int64  \n",
      " 3   price            42711 non-null  float64\n",
      " 4   Products         42711 non-null  int64  \n",
      " 5   total_amount     42711 non-null  float64\n",
      " 6   Kmeans           42711 non-null  int64  \n",
      " 7   AgC              42711 non-null  int64  \n",
      "dtypes: float64(2), int64(5), object(1)\n",
      "memory usage: 2.6+ MB\n"
     ]
    }
   ],
   "source": [
    "df.info()"
   ]
  },
  {
   "cell_type": "code",
   "execution_count": 36,
   "id": "6f68b301",
   "metadata": {},
   "outputs": [
    {
     "data": {
      "text/plain": [
       "Index(['Unnamed: 0', 'seller_nickname', 'stock', 'price', 'Products',\n",
       "       'total_amount', 'Kmeans', 'AgC'],\n",
       "      dtype='object')"
      ]
     },
     "execution_count": 36,
     "metadata": {},
     "output_type": "execute_result"
    }
   ],
   "source": [
    "df.columns"
   ]
  },
  {
   "cell_type": "code",
   "execution_count": 37,
   "id": "b6f2293b",
   "metadata": {},
   "outputs": [],
   "source": [
    "df['stock']=df['stock'].astype(str)\n",
    "df['price']=df['price'].astype(str)\n",
    "df['stock']=df['stock'].astype(str)\n",
    "df['Products']=df['Products'].astype(str)\n",
    "df['total_amount']=df['total_amount'].astype(str)\n",
    "df['Kmeans']=df['Kmeans'].astype(str)\n",
    "df['AgC']=df['AgC'].astype(str)\n",
    "\n",
    "df.drop('Unnamed: 0',axis=1,inplace=True)"
   ]
  },
  {
   "cell_type": "code",
   "execution_count": 38,
   "id": "1b89436e",
   "metadata": {},
   "outputs": [
    {
     "name": "stdout",
     "output_type": "stream",
     "text": [
      "<class 'pandas.core.frame.DataFrame'>\n",
      "RangeIndex: 42711 entries, 0 to 42710\n",
      "Data columns (total 7 columns):\n",
      " #   Column           Non-Null Count  Dtype \n",
      "---  ------           --------------  ----- \n",
      " 0   seller_nickname  42711 non-null  object\n",
      " 1   stock            42711 non-null  object\n",
      " 2   price            42711 non-null  object\n",
      " 3   Products         42711 non-null  object\n",
      " 4   total_amount     42711 non-null  object\n",
      " 5   Kmeans           42711 non-null  object\n",
      " 6   AgC              42711 non-null  object\n",
      "dtypes: object(7)\n",
      "memory usage: 2.3+ MB\n"
     ]
    }
   ],
   "source": [
    "df.info()"
   ]
  },
  {
   "cell_type": "code",
   "execution_count": 39,
   "id": "c8082b90",
   "metadata": {},
   "outputs": [
    {
     "name": "stdout",
     "output_type": "stream",
     "text": [
      "(42711, 8)\n"
     ]
    },
    {
     "data": {
      "text/html": [
       "<div>\n",
       "<style scoped>\n",
       "    .dataframe tbody tr th:only-of-type {\n",
       "        vertical-align: middle;\n",
       "    }\n",
       "\n",
       "    .dataframe tbody tr th {\n",
       "        vertical-align: top;\n",
       "    }\n",
       "\n",
       "    .dataframe thead th {\n",
       "        text-align: right;\n",
       "    }\n",
       "</style>\n",
       "<table border=\"1\" class=\"dataframe\">\n",
       "  <thead>\n",
       "    <tr style=\"text-align: right;\">\n",
       "      <th></th>\n",
       "      <th>seller_nickname</th>\n",
       "      <th>stock</th>\n",
       "      <th>price</th>\n",
       "      <th>Products</th>\n",
       "      <th>total_amount</th>\n",
       "      <th>Kmeans</th>\n",
       "      <th>AgC</th>\n",
       "      <th>mix</th>\n",
       "    </tr>\n",
       "  </thead>\n",
       "  <tbody>\n",
       "    <tr>\n",
       "      <th>0</th>\n",
       "      <td>000631669c</td>\n",
       "      <td>10</td>\n",
       "      <td>799.0</td>\n",
       "      <td>1</td>\n",
       "      <td>7990.0</td>\n",
       "      <td>0</td>\n",
       "      <td>3</td>\n",
       "      <td>Stock: 10; Price: 799.0;  Products: 1; total_a...</td>\n",
       "    </tr>\n",
       "    <tr>\n",
       "      <th>1</th>\n",
       "      <td>0007153bca</td>\n",
       "      <td>55</td>\n",
       "      <td>798.0</td>\n",
       "      <td>2</td>\n",
       "      <td>43890.0</td>\n",
       "      <td>0</td>\n",
       "      <td>3</td>\n",
       "      <td>Stock: 55; Price: 798.0;  Products: 2; total_a...</td>\n",
       "    </tr>\n",
       "  </tbody>\n",
       "</table>\n",
       "</div>"
      ],
      "text/plain": [
       "  seller_nickname stock  price Products total_amount Kmeans AgC  \\\n",
       "0      000631669c    10  799.0        1       7990.0      0   3   \n",
       "1      0007153bca    55  798.0        2      43890.0      0   3   \n",
       "\n",
       "                                                 mix  \n",
       "0  Stock: 10; Price: 799.0;  Products: 1; total_a...  \n",
       "1  Stock: 55; Price: 798.0;  Products: 2; total_a...  "
      ]
     },
     "execution_count": 39,
     "metadata": {},
     "output_type": "execute_result"
    }
   ],
   "source": [
    "df['mix'] = \"Stock: \" + df['stock'].str.strip() + \"; Price: \" + df['price'].str.strip() + \";  Products: \" + df.Products.str.strip() + \"; total_amount: \" + df.total_amount.str.strip() \n",
    "print(df.shape)\n",
    "\n",
    "\n",
    "df.head(2)"
   ]
  },
  {
   "cell_type": "markdown",
   "id": "5e7575fe",
   "metadata": {},
   "source": [
    "#### Como mencione anteriormente seleccionaremos 50 de cada cluster para tener una data de 250registros"
   ]
  },
  {
   "cell_type": "code",
   "execution_count": 40,
   "id": "89ea1e94",
   "metadata": {},
   "outputs": [
    {
     "data": {
      "text/plain": [
       "Index(['seller_nickname', 'stock', 'price', 'Products', 'total_amount',\n",
       "       'Kmeans', 'AgC', 'mix'],\n",
       "      dtype='object')"
      ]
     },
     "execution_count": 40,
     "metadata": {},
     "output_type": "execute_result"
    }
   ],
   "source": [
    "df.columns"
   ]
  },
  {
   "cell_type": "code",
   "execution_count": 41,
   "id": "f080f9ad",
   "metadata": {},
   "outputs": [
    {
     "data": {
      "text/plain": [
       "Kmeans\n",
       "0    40489\n",
       "4     1571\n",
       "1      631\n",
       "2       15\n",
       "3        5\n",
       "Name: count, dtype: int64"
      ]
     },
     "execution_count": 41,
     "metadata": {},
     "output_type": "execute_result"
    }
   ],
   "source": [
    "df['Kmeans'].value_counts()"
   ]
  },
  {
   "cell_type": "code",
   "execution_count": 42,
   "id": "88f77d8f",
   "metadata": {},
   "outputs": [
    {
     "name": "stdout",
     "output_type": "stream",
     "text": [
      "Cluster 0\n",
      "Cluster 1\n",
      "Cluster 2\n",
      "Cluster 3\n",
      "Cluster 4\n",
      "(1000, 8)\n",
      "Kmeans\n",
      "0    200\n",
      "1    200\n",
      "2    200\n",
      "3    200\n",
      "4    200\n",
      "Name: count, dtype: int64\n",
      "(1000, 8)\n"
     ]
    },
    {
     "data": {
      "text/html": [
       "<div>\n",
       "<style scoped>\n",
       "    .dataframe tbody tr th:only-of-type {\n",
       "        vertical-align: middle;\n",
       "    }\n",
       "\n",
       "    .dataframe tbody tr th {\n",
       "        vertical-align: top;\n",
       "    }\n",
       "\n",
       "    .dataframe thead th {\n",
       "        text-align: right;\n",
       "    }\n",
       "</style>\n",
       "<table border=\"1\" class=\"dataframe\">\n",
       "  <thead>\n",
       "    <tr style=\"text-align: right;\">\n",
       "      <th></th>\n",
       "      <th>seller_nickname</th>\n",
       "      <th>stock</th>\n",
       "      <th>price</th>\n",
       "      <th>Products</th>\n",
       "      <th>total_amount</th>\n",
       "      <th>Kmeans</th>\n",
       "      <th>AgC</th>\n",
       "      <th>mix</th>\n",
       "    </tr>\n",
       "  </thead>\n",
       "  <tbody>\n",
       "    <tr>\n",
       "      <th>0</th>\n",
       "      <td>c0945ac3c9</td>\n",
       "      <td>2975</td>\n",
       "      <td>4457.0</td>\n",
       "      <td>3</td>\n",
       "      <td>13259575.0</td>\n",
       "      <td>1</td>\n",
       "      <td>1</td>\n",
       "      <td>Stock: 2975; Price: 4457.0;  Products: 3; tota...</td>\n",
       "    </tr>\n",
       "    <tr>\n",
       "      <th>1</th>\n",
       "      <td>c5bd6e1a89</td>\n",
       "      <td>5075</td>\n",
       "      <td>1734.04</td>\n",
       "      <td>3</td>\n",
       "      <td>8800253.0</td>\n",
       "      <td>1</td>\n",
       "      <td>1</td>\n",
       "      <td>Stock: 5075; Price: 1734.04;  Products: 3; tot...</td>\n",
       "    </tr>\n",
       "  </tbody>\n",
       "</table>\n",
       "</div>"
      ],
      "text/plain": [
       "  seller_nickname stock    price Products total_amount Kmeans AgC  \\\n",
       "0      c0945ac3c9  2975   4457.0        3   13259575.0      1   1   \n",
       "1      c5bd6e1a89  5075  1734.04        3    8800253.0      1   1   \n",
       "\n",
       "                                                 mix  \n",
       "0  Stock: 2975; Price: 4457.0;  Products: 3; tota...  \n",
       "1  Stock: 5075; Price: 1734.04;  Products: 3; tot...  "
      ]
     },
     "execution_count": 42,
     "metadata": {},
     "output_type": "execute_result"
    }
   ],
   "source": [
    "col = ['seller_nickname', 'stock', 'price', 'Products', 'total_amount', 'Kmeans', 'AgC', 'mix']\n",
    "cntxcluster = 200\n",
    "clusters=5\n",
    "dfy=pd.DataFrame()\n",
    "for i in range(0,clusters): # Sacamos los 50 registros de cada cluster.\n",
    "    print(f\"Cluster {i}\")\n",
    "    reviews = df[df.Kmeans == str(i)].sample(cntxcluster, random_state=42, replace=True).values\n",
    "    dfx = pd.DataFrame(data=reviews,columns=col)\n",
    "    dfy = pd.concat([dfy,dfx], axis=0)\n",
    "\n",
    "\n",
    "\n",
    "print(dfy.shape)\n",
    "print(dfy.Kmeans.value_counts())\n",
    "dfy = pd.concat([dfy,df[df['Kmeans'].isnull()][:10]], axis=0) # concatenamos con los\n",
    "print(dfy.shape)\n",
    "dfy = dfy.iloc[np.random.permutation(len(dfy))].reset_index(drop=True)\n",
    "dfy.head(2)"
   ]
  },
  {
   "cell_type": "markdown",
   "id": "f3e63449",
   "metadata": {},
   "source": [
    "<a id=\"2\"></a> <br>\n",
    "# 2. Preprocesamiento de Datos"
   ]
  },
  {
   "cell_type": "markdown",
   "id": "0d5949fd",
   "metadata": {},
   "source": [
    "#### Ya con la data seleccionada ahora lo que realizaremos sera la tokenizacion  con tiktoken utilizando el encoding de 3-small definido al inicio."
   ]
  },
  {
   "cell_type": "code",
   "execution_count": 43,
   "id": "31f252c7",
   "metadata": {},
   "outputs": [],
   "source": [
    "encoding = tiktoken.get_encoding(embedding_encoding)\n",
    "\n",
    "#Dado que utilizar la API de OpenAI no es gratis, debemos tartar de controlar los token\n",
    "#que vamos a gastar con el fin de no gastar creditos innecesarios. por esa razon no tomamos la variable titulo\n",
    "#ya que es demasiada grande esus strings.\n",
    "# tambien es importante revisar que tanto es la maxima cantidad de token ya que se el\n",
    "# 3-small tienen un limite de 8000 tokens por entrada o por registro.\n",
    "dfy['tokens'] = dfy.mix.apply(lambda x: len(encoding.encode(x)))\n"
   ]
  },
  {
   "cell_type": "code",
   "execution_count": 44,
   "id": "0e43add4",
   "metadata": {},
   "outputs": [
    {
     "name": "stdout",
     "output_type": "stream",
     "text": [
      "28241\n"
     ]
    },
    {
     "data": {
      "image/png": "[encoded data removed]",
      "text/plain": [
       "<Figure size 640x480 with 1 Axes>"
      ]
     },
     "metadata": {},
     "output_type": "display_data"
    }
   ],
   "source": [
    "print(sum(dfy.tokens.values))\n",
    "plt.hist(dfy.tokens, bins= 40);\n"
   ]
  },
  {
   "cell_type": "markdown",
   "id": "b02cc04e",
   "metadata": {},
   "source": [
    "<a id=\"3\"></a> <br>\n",
    "# 3. Generacion de Embedding"
   ]
  },
  {
   "cell_type": "markdown",
   "id": "5db1049d",
   "metadata": {},
   "source": [
    "##### para esta primera prueba utilizaremos de input 85977 tokens de entrada y de respuesta seran 250."
   ]
  },
  {
   "cell_type": "code",
   "execution_count": 45,
   "id": "dcd0c0f5",
   "metadata": {},
   "outputs": [],
   "source": [
    "# antes de correr cualquier modelo de la api de openai debemos asegurarnos que esta ya esta,\n",
    "#completamente configurada en el ambiente.\n",
    "\n",
    "#ahora\n",
    "dfy[\"embedding\"] = dfy.mix.apply(lambda x: get_embedding(x, model=embedding_model))\n",
    "\n"
   ]
  },
  {
   "cell_type": "code",
   "execution_count": 46,
   "id": "f4d618bf",
   "metadata": {},
   "outputs": [
    {
     "data": {
      "text/html": [
       "<div>\n",
       "<style scoped>\n",
       "    .dataframe tbody tr th:only-of-type {\n",
       "        vertical-align: middle;\n",
       "    }\n",
       "\n",
       "    .dataframe tbody tr th {\n",
       "        vertical-align: top;\n",
       "    }\n",
       "\n",
       "    .dataframe thead th {\n",
       "        text-align: right;\n",
       "    }\n",
       "</style>\n",
       "<table border=\"1\" class=\"dataframe\">\n",
       "  <thead>\n",
       "    <tr style=\"text-align: right;\">\n",
       "      <th></th>\n",
       "      <th>seller_nickname</th>\n",
       "      <th>stock</th>\n",
       "      <th>price</th>\n",
       "      <th>Products</th>\n",
       "      <th>total_amount</th>\n",
       "      <th>Kmeans</th>\n",
       "      <th>AgC</th>\n",
       "      <th>mix</th>\n",
       "      <th>tokens</th>\n",
       "      <th>embedding</th>\n",
       "    </tr>\n",
       "  </thead>\n",
       "  <tbody>\n",
       "    <tr>\n",
       "      <th>0</th>\n",
       "      <td>c0945ac3c9</td>\n",
       "      <td>2975</td>\n",
       "      <td>4457.0</td>\n",
       "      <td>3</td>\n",
       "      <td>13259575.0</td>\n",
       "      <td>1</td>\n",
       "      <td>1</td>\n",
       "      <td>Stock: 2975; Price: 4457.0;  Products: 3; tota...</td>\n",
       "      <td>29</td>\n",
       "      <td>[0.017542053014039993, -0.05765479430556297, 0...</td>\n",
       "    </tr>\n",
       "    <tr>\n",
       "      <th>1</th>\n",
       "      <td>c5bd6e1a89</td>\n",
       "      <td>5075</td>\n",
       "      <td>1734.04</td>\n",
       "      <td>3</td>\n",
       "      <td>8800253.0</td>\n",
       "      <td>1</td>\n",
       "      <td>1</td>\n",
       "      <td>Stock: 5075; Price: 1734.04;  Products: 3; tot...</td>\n",
       "      <td>29</td>\n",
       "      <td>[0.012795956805348396, -0.06083172932267189, 0...</td>\n",
       "    </tr>\n",
       "    <tr>\n",
       "      <th>2</th>\n",
       "      <td>011f74c370</td>\n",
       "      <td>3</td>\n",
       "      <td>1579.0</td>\n",
       "      <td>1</td>\n",
       "      <td>4737.0</td>\n",
       "      <td>0</td>\n",
       "      <td>3</td>\n",
       "      <td>Stock: 3; Price: 1579.0;  Products: 1; total_a...</td>\n",
       "      <td>27</td>\n",
       "      <td>[0.0007382640615105629, -0.049767035990953445,...</td>\n",
       "    </tr>\n",
       "    <tr>\n",
       "      <th>3</th>\n",
       "      <td>9208699ef8</td>\n",
       "      <td>123</td>\n",
       "      <td>40701.0</td>\n",
       "      <td>33</td>\n",
       "      <td>5006223.0</td>\n",
       "      <td>4</td>\n",
       "      <td>4</td>\n",
       "      <td>Stock: 123; Price: 40701.0;  Products: 33; tot...</td>\n",
       "      <td>28</td>\n",
       "      <td>[-0.0018810853362083435, -0.06771907210350037,...</td>\n",
       "    </tr>\n",
       "    <tr>\n",
       "      <th>4</th>\n",
       "      <td>f7666c1774</td>\n",
       "      <td>1444</td>\n",
       "      <td>5473.09</td>\n",
       "      <td>10</td>\n",
       "      <td>7903141.96</td>\n",
       "      <td>4</td>\n",
       "      <td>1</td>\n",
       "      <td>Stock: 1444; Price: 5473.09;  Products: 10; to...</td>\n",
       "      <td>29</td>\n",
       "      <td>[0.003365859156474471, -0.060565799474716187, ...</td>\n",
       "    </tr>\n",
       "  </tbody>\n",
       "</table>\n",
       "</div>"
      ],
      "text/plain": [
       "  seller_nickname stock    price Products total_amount Kmeans AgC  \\\n",
       "0      c0945ac3c9  2975   4457.0        3   13259575.0      1   1   \n",
       "1      c5bd6e1a89  5075  1734.04        3    8800253.0      1   1   \n",
       "2      011f74c370     3   1579.0        1       4737.0      0   3   \n",
       "3      9208699ef8   123  40701.0       33    5006223.0      4   4   \n",
       "4      f7666c1774  1444  5473.09       10   7903141.96      4   1   \n",
       "\n",
       "                                                 mix  tokens  \\\n",
       "0  Stock: 2975; Price: 4457.0;  Products: 3; tota...      29   \n",
       "1  Stock: 5075; Price: 1734.04;  Products: 3; tot...      29   \n",
       "2  Stock: 3; Price: 1579.0;  Products: 1; total_a...      27   \n",
       "3  Stock: 123; Price: 40701.0;  Products: 33; tot...      28   \n",
       "4  Stock: 1444; Price: 5473.09;  Products: 10; to...      29   \n",
       "\n",
       "                                           embedding  \n",
       "0  [0.017542053014039993, -0.05765479430556297, 0...  \n",
       "1  [0.012795956805348396, -0.06083172932267189, 0...  \n",
       "2  [0.0007382640615105629, -0.049767035990953445,...  \n",
       "3  [-0.0018810853362083435, -0.06771907210350037,...  \n",
       "4  [0.003365859156474471, -0.060565799474716187, ...  "
      ]
     },
     "execution_count": 46,
     "metadata": {},
     "output_type": "execute_result"
    }
   ],
   "source": [
    "dfy.head(5)"
   ]
  },
  {
   "cell_type": "code",
   "execution_count": 47,
   "id": "d47bd0f0",
   "metadata": {},
   "outputs": [
    {
     "name": "stdout",
     "output_type": "stream",
     "text": [
      "(1000,)\n"
     ]
    },
    {
     "data": {
      "text/plain": [
       "0      [0.017542053014039993, -0.05765479430556297, 0...\n",
       "1      [0.012795956805348396, -0.06083172932267189, 0...\n",
       "2      [0.0007382640615105629, -0.049767035990953445,...\n",
       "3      [-0.0018810853362083435, -0.06771907210350037,...\n",
       "4      [0.003365859156474471, -0.060565799474716187, ...\n",
       "                             ...                        \n",
       "995    [-0.0015295114135369658, -0.04785078763961792,...\n",
       "996    [0.02412424050271511, -0.038842182606458664, 0...\n",
       "997    [0.01733764261007309, -0.06107698753476143, 0....\n",
       "998    [0.016559720039367676, -0.04267162084579468, 0...\n",
       "999    [0.02467196248471737, -0.050166767090559006, 0...\n",
       "Name: embedding, Length: 1000, dtype: object"
      ]
     },
     "execution_count": 47,
     "metadata": {},
     "output_type": "execute_result"
    }
   ],
   "source": [
    "#ahora vemos nuestras lista los embedding desde 3-small de la muestra de nuestros datos.\n",
    "print(dfy['embedding'].shape)\n",
    "dfy['embedding']"
   ]
  },
  {
   "cell_type": "markdown",
   "id": "72ffe08e",
   "metadata": {},
   "source": [
    "<a id=\"4\"></a> <br>\n",
    "# 4. Exportacion del Embedding"
   ]
  },
  {
   "cell_type": "code",
   "execution_count": 48,
   "id": "6b713504",
   "metadata": {},
   "outputs": [],
   "source": [
    "# #Exportamos el embedding\n",
    "dfy.to_csv(\"data/data_embedding_numeric_wo_rp.csv\")\n"
   ]
  }
 ],
 "metadata": {
  "kernelspec": {
   "display_name": "openai",
   "language": "python",
   "name": "python3"
  },
  "language_info": {
   "codemirror_mode": {
    "name": "ipython",
    "version": 3
   },
   "file_extension": ".py",
   "mimetype": "text/x-python",
   "name": "python",
   "nbconvert_exporter": "python",
   "pygments_lexer": "ipython3",
   "version": "3.11.13"
  }
 },
 "nbformat": 4,
 "nbformat_minor": 5
}
