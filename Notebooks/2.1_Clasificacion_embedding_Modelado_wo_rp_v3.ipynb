{
 "cells": [
  {
   "cell_type": "markdown",
   "id": "6b3dfb64",
   "metadata": {},
   "source": [
    "![](../src/image/meli3.JPG)"
   ]
  },
  {
   "cell_type": "markdown",
   "id": "4bba15d6",
   "metadata": {},
   "source": [
    "# Entrenamiento, y Modelado y Validacion del Classifier\n",
    "\n",
    "#### Ya teniendo en nuestro embedding de la data fuente, realizaremos el entrenamiento de 3 modelos de Clasificacion, RandomForest, SVMClassifier y el XGBOOST. para ver cual de ellos nos clasifica mejor."
   ]
  },
  {
   "cell_type": "markdown",
   "id": "bb17f8a8",
   "metadata": {},
   "source": [
    "\n",
    "### Pasos\n",
    "1. [Preparacion de la data.](#1)\n",
    "1. [Modelado y entrenamiento](#2)\n",
    "1. [Validacion](#3)"
   ]
  },
  {
   "cell_type": "markdown",
   "id": "f9346332",
   "metadata": {},
   "source": [
    "<a id=\"1\"></a> <br>\n",
    "# 1. Preparacion de la Data"
   ]
  },
  {
   "cell_type": "code",
   "execution_count": 21,
   "id": "1697ede0",
   "metadata": {},
   "outputs": [],
   "source": [
    "import pandas as pd\n",
    "import numpy as np\n",
    "from sklearn.ensemble import RandomForestClassifier\n",
    "from sklearn.svm import SVC\n",
    "from xgboost import XGBClassifier\n",
    "from sklearn.model_selection import train_test_split\n",
    "from sklearn.metrics import ConfusionMatrixDisplay, confusion_matrix\n",
    "from sklearn.metrics import classification_report\n",
    "from ast import literal_eval\n"
   ]
  },
  {
   "cell_type": "code",
   "execution_count": 22,
   "id": "c46dd326",
   "metadata": {},
   "outputs": [],
   "source": [
    "#Leo los datos ya procesados con los embeddings de 3-small\n",
    "df_270 = pd.read_csv(\"D:\\Clustering_MeLi\\src\\data\\processed\\data_embedding_numeric_wo_rp.csv\")\n"
   ]
  },
  {
   "cell_type": "code",
   "execution_count": 23,
   "id": "4a6b62a8",
   "metadata": {},
   "outputs": [
    {
     "name": "stdout",
     "output_type": "stream",
     "text": [
      "(1000, 11)\n"
     ]
    },
    {
     "data": {
      "text/html": [
       "<div>\n",
       "<style scoped>\n",
       "    .dataframe tbody tr th:only-of-type {\n",
       "        vertical-align: middle;\n",
       "    }\n",
       "\n",
       "    .dataframe tbody tr th {\n",
       "        vertical-align: top;\n",
       "    }\n",
       "\n",
       "    .dataframe thead th {\n",
       "        text-align: right;\n",
       "    }\n",
       "</style>\n",
       "<table border=\"1\" class=\"dataframe\">\n",
       "  <thead>\n",
       "    <tr style=\"text-align: right;\">\n",
       "      <th></th>\n",
       "      <th>Unnamed: 0</th>\n",
       "      <th>seller_nickname</th>\n",
       "      <th>stock</th>\n",
       "      <th>price</th>\n",
       "      <th>Products</th>\n",
       "      <th>total_amount</th>\n",
       "      <th>Kmeans</th>\n",
       "      <th>AgC</th>\n",
       "      <th>mix</th>\n",
       "      <th>tokens</th>\n",
       "      <th>embedding</th>\n",
       "    </tr>\n",
       "  </thead>\n",
       "  <tbody>\n",
       "    <tr>\n",
       "      <th>0</th>\n",
       "      <td>0</td>\n",
       "      <td>79bc4f1d8e</td>\n",
       "      <td>6</td>\n",
       "      <td>4321.00</td>\n",
       "      <td>6</td>\n",
       "      <td>25926.0</td>\n",
       "      <td>0</td>\n",
       "      <td>3</td>\n",
       "      <td>Stock: 6; Price: 4321.0;  Products: 6; total_a...</td>\n",
       "      <td>27</td>\n",
       "      <td>[0.014002759009599686, -0.06299937516450882, 0...</td>\n",
       "    </tr>\n",
       "    <tr>\n",
       "      <th>1</th>\n",
       "      <td>1</td>\n",
       "      <td>e68461b5aa</td>\n",
       "      <td>375</td>\n",
       "      <td>37914.14</td>\n",
       "      <td>45</td>\n",
       "      <td>14217802.5</td>\n",
       "      <td>3</td>\n",
       "      <td>4</td>\n",
       "      <td>Stock: 375; Price: 37914.14;  Products: 45; to...</td>\n",
       "      <td>28</td>\n",
       "      <td>[0.016240794211626053, -0.045103155076503754, ...</td>\n",
       "    </tr>\n",
       "  </tbody>\n",
       "</table>\n",
       "</div>"
      ],
      "text/plain": [
       "   Unnamed: 0 seller_nickname  stock     price  Products  total_amount  \\\n",
       "0           0      79bc4f1d8e      6   4321.00         6       25926.0   \n",
       "1           1      e68461b5aa    375  37914.14        45    14217802.5   \n",
       "\n",
       "   Kmeans  AgC                                                mix  tokens  \\\n",
       "0       0    3  Stock: 6; Price: 4321.0;  Products: 6; total_a...      27   \n",
       "1       3    4  Stock: 375; Price: 37914.14;  Products: 45; to...      28   \n",
       "\n",
       "                                           embedding  \n",
       "0  [0.014002759009599686, -0.06299937516450882, 0...  \n",
       "1  [0.016240794211626053, -0.045103155076503754, ...  "
      ]
     },
     "execution_count": 23,
     "metadata": {},
     "output_type": "execute_result"
    }
   ],
   "source": [
    "df_270[\"embedding\"] = df_270.embedding.apply(literal_eval).apply(np.array)\n",
    "print(df_270.shape)\n",
    "df_270.head(2)"
   ]
  },
  {
   "cell_type": "code",
   "execution_count": 24,
   "id": "3aa221a3",
   "metadata": {},
   "outputs": [
    {
     "name": "stdout",
     "output_type": "stream",
     "text": [
      "(0, 11)\n",
      "(1000, 11)\n"
     ]
    },
    {
     "data": {
      "text/plain": [
       "(950, 11)"
      ]
     },
     "execution_count": 24,
     "metadata": {},
     "output_type": "execute_result"
    }
   ],
   "source": [
    "# Separo la data de validacion de la train y test,\n",
    "df_val=df_270[df_270['Kmeans'].isnull()]\n",
    "print(df_val.shape)\n",
    "df_270=df_270[df_270['Kmeans'].isnull()==False]\n",
    "df_270[df_270['Kmeans'].isnull()] # Valido que ninguno no tengan datos con valores en la etiqueta\n",
    "\n",
    "print(df_270.shape)\n",
    "df_val = df_270.tail(50) # extraigo 50 registros pa validar\n",
    "df_270 = df_270.iloc[:-50,:]\n",
    "df_270.shape"
   ]
  },
  {
   "cell_type": "code",
   "execution_count": 25,
   "id": "18f00f8c",
   "metadata": {},
   "outputs": [
    {
     "data": {
      "text/plain": [
       "Kmeans\n",
       "2    193\n",
       "3    192\n",
       "0    190\n",
       "4    189\n",
       "1    186\n",
       "Name: count, dtype: int64"
      ]
     },
     "execution_count": 25,
     "metadata": {},
     "output_type": "execute_result"
    }
   ],
   "source": [
    "# Obtenemos los datos de entrenamiento y de test\n",
    "\n",
    "x_train,x_test,y_train,y_test = train_test_split(\n",
    "    list(df_270.embedding.values),df_270.Kmeans,test_size=0.2,random_state=13\n",
    ")\n",
    "\n",
    "df_270['Kmeans'].value_counts()"
   ]
  },
  {
   "cell_type": "markdown",
   "id": "ce25bd09",
   "metadata": {},
   "source": [
    "<a id=\"2\"></a> <br>\n",
    "# 2. Modelado y entrenamiento."
   ]
  },
  {
   "cell_type": "markdown",
   "id": "2994bf65",
   "metadata": {},
   "source": [
    "# RANDOM-FOREST - CLASSIFIER"
   ]
  },
  {
   "cell_type": "code",
   "execution_count": 26,
   "id": "425097cc",
   "metadata": {},
   "outputs": [
    {
     "name": "stdout",
     "output_type": "stream",
     "text": [
      "              precision    recall  f1-score   support\n",
      "\n",
      "           0       0.90      0.87      0.88        30\n",
      "           1       0.79      0.79      0.79        42\n",
      "           2       1.00      1.00      1.00        35\n",
      "           3       0.62      0.79      0.69        42\n",
      "           4       0.61      0.46      0.53        41\n",
      "\n",
      "    accuracy                           0.77       190\n",
      "   macro avg       0.78      0.78      0.78       190\n",
      "weighted avg       0.77      0.77      0.76       190\n",
      "\n"
     ]
    },
    {
     "data": {
      "text/plain": [
       "<sklearn.metrics._plot.confusion_matrix.ConfusionMatrixDisplay at 0x21db3ac38d0>"
      ]
     },
     "execution_count": 26,
     "metadata": {},
     "output_type": "execute_result"
    },
    {
     "data": {
      "image/png": "[encoded data removed]",
      "text/plain": [
       "<Figure size 640x480 with 2 Axes>"
      ]
     },
     "metadata": {},
     "output_type": "display_data"
    }
   ],
   "source": [
    "# Modelado, Entrenamiento, Evaluacion\n",
    "RFclf = RandomForestClassifier(n_estimators=100) #iniciamos el modelo\n",
    "RFclf.fit(x_train, y_train) #entrenamos el modelo\n",
    "predicts = RFclf.predict(x_test) #realizamos las predicciones\n",
    "probas = RFclf.predict_proba(x_test) #realizamos las probabilidades\n",
    "\n",
    "report = classification_report(y_test, predicts)\n",
    "print(report)\n",
    "matrix = confusion_matrix(y_pred= predicts ,y_true= y_test)\n",
    "disp=ConfusionMatrixDisplay(matrix)\n",
    "disp.plot()"
   ]
  },
  {
   "cell_type": "markdown",
   "id": "f8b8dcfa",
   "metadata": {},
   "source": [
    "## SUPPORT VECTOR MACHINE - CLASSIFIER"
   ]
  },
  {
   "cell_type": "code",
   "execution_count": 27,
   "id": "78082bde",
   "metadata": {},
   "outputs": [
    {
     "name": "stdout",
     "output_type": "stream",
     "text": [
      "              precision    recall  f1-score   support\n",
      "\n",
      "           0       1.00      0.87      0.93        30\n",
      "           1       0.81      0.90      0.85        42\n",
      "           2       1.00      1.00      1.00        35\n",
      "           3       0.71      0.81      0.76        42\n",
      "           4       0.71      0.59      0.64        41\n",
      "\n",
      "    accuracy                           0.83       190\n",
      "   macro avg       0.84      0.83      0.84       190\n",
      "weighted avg       0.83      0.83      0.82       190\n",
      "\n"
     ]
    },
    {
     "data": {
      "text/plain": [
       "<sklearn.metrics._plot.confusion_matrix.ConfusionMatrixDisplay at 0x21dc690f550>"
      ]
     },
     "execution_count": 27,
     "metadata": {},
     "output_type": "execute_result"
    },
    {
     "data": {
      "image/png": "[encoded data removed]",
      "text/plain": [
       "<Figure size 640x480 with 2 Axes>"
      ]
     },
     "metadata": {},
     "output_type": "display_data"
    }
   ],
   "source": [
    "# Modelado, Entrenamiento, Evaluacion\n",
    "SVMclf = SVC() #iniciamos el modelo\n",
    "SVMclf.fit(x_train, y_train) #entrenamos el modelo\n",
    "predicts = SVMclf.predict(x_test) #realizamos las predicciones\n",
    "\n",
    "\n",
    "report = classification_report(y_test, predicts)\n",
    "print(report)\n",
    "matrix = confusion_matrix(y_pred= predicts ,y_true= y_test)\n",
    "disp=ConfusionMatrixDisplay(matrix)\n",
    "disp.plot()"
   ]
  },
  {
   "cell_type": "markdown",
   "id": "9dfec480",
   "metadata": {},
   "source": [
    "# XGBOOST - CLASSIFIER"
   ]
  },
  {
   "cell_type": "code",
   "execution_count": 28,
   "id": "4ff179c6",
   "metadata": {},
   "outputs": [
    {
     "name": "stdout",
     "output_type": "stream",
     "text": [
      "              precision    recall  f1-score   support\n",
      "\n",
      "           0       0.89      0.83      0.86        30\n",
      "           1       0.83      0.83      0.83        42\n",
      "           2       1.00      1.00      1.00        35\n",
      "           3       0.75      0.79      0.77        42\n",
      "           4       0.66      0.66      0.66        41\n",
      "\n",
      "    accuracy                           0.82       190\n",
      "   macro avg       0.83      0.82      0.82       190\n",
      "weighted avg       0.82      0.82      0.82       190\n",
      "\n"
     ]
    },
    {
     "data": {
      "text/plain": [
       "<sklearn.metrics._plot.confusion_matrix.ConfusionMatrixDisplay at 0x21dc6986250>"
      ]
     },
     "execution_count": 28,
     "metadata": {},
     "output_type": "execute_result"
    },
    {
     "data": {
      "image/png": "[encoded data removed]",
      "text/plain": [
       "<Figure size 640x480 with 2 Axes>"
      ]
     },
     "metadata": {},
     "output_type": "display_data"
    }
   ],
   "source": [
    "# Modelado, Entrenamiento, Evaluacion\n",
    "XGBclf = XGBClassifier() #iniciamos el modelo\n",
    "XGBclf.fit(x_train, y_train) #entrenamos el modelo\n",
    "predicts = XGBclf.predict(x_test) #realizamos las predicciones\n",
    "\n",
    "\n",
    "report = classification_report(y_test, predicts)\n",
    "print(report)\n",
    "matrix = confusion_matrix(y_pred= predicts ,y_true= y_test)\n",
    "disp=ConfusionMatrixDisplay(matrix)\n",
    "disp.plot()"
   ]
  },
  {
   "cell_type": "markdown",
   "id": "5e532aec",
   "metadata": {},
   "source": [
    "<a id=\"3\"></a> <br>\n",
    "# 3. Validacion"
   ]
  },
  {
   "cell_type": "markdown",
   "id": "fd0bd5e3",
   "metadata": {},
   "source": [
    "#### Los resultados con la data sin variables categoricas (Clustering v3), sin la variable Regular_Price, en el modelado todos tienen un buen desempeno, pero el de mejor accuracy es el SVM con un 90% en test y en validacion un 84%. Resultados muye buenos teniendo en cuenta que no se han modificado hyperparametros de los modelos seleccionados."
   ]
  },
  {
   "cell_type": "code",
   "execution_count": 29,
   "id": "561623ea",
   "metadata": {},
   "outputs": [
    {
     "name": "stdout",
     "output_type": "stream",
     "text": [
      "<class 'numpy.int64'>\n",
      "              precision    recall  f1-score   support\n",
      "\n",
      "           0       1.00      0.90      0.95        10\n",
      "           1       0.93      1.00      0.97        14\n",
      "           2       1.00      1.00      1.00         7\n",
      "           3       0.67      1.00      0.80         8\n",
      "           4       0.86      0.55      0.67        11\n",
      "\n",
      "    accuracy                           0.88        50\n",
      "   macro avg       0.89      0.89      0.88        50\n",
      "weighted avg       0.90      0.88      0.87        50\n",
      "\n"
     ]
    },
    {
     "data": {
      "text/plain": [
       "<sklearn.metrics._plot.confusion_matrix.ConfusionMatrixDisplay at 0x21dae677e90>"
      ]
     },
     "execution_count": 29,
     "metadata": {},
     "output_type": "execute_result"
    },
    {
     "data": {
      "image/png": "[encoded data removed]",
      "text/plain": [
       "<Figure size 640x480 with 2 Axes>"
      ]
     },
     "metadata": {},
     "output_type": "display_data"
    }
   ],
   "source": [
    "# AHora haremos las validacion con el set validacion df_val de 50 registros, registros nos vistos en el entrenamiento escogeremos solo un modelo\n",
    "xval=list(df_val.embedding.values)\n",
    "yval=df_val['Kmeans']\n",
    "ypredict= SVMclf.predict(xval).astype(int)\n",
    "print(type(ypredict[1]))\n",
    "# Evaluamos la prediccion\n",
    "report = classification_report(yval, ypredict)\n",
    "print(report)\n",
    "matrix = confusion_matrix(y_pred= ypredict ,y_true= yval)\n",
    "disp=ConfusionMatrixDisplay(matrix)\n",
    "disp.plot()\n"
   ]
  }
 ],
 "metadata": {
  "kernelspec": {
   "display_name": "openai",
   "language": "python",
   "name": "python3"
  },
  "language_info": {
   "codemirror_mode": {
    "name": "ipython",
    "version": 3
   },
   "file_extension": ".py",
   "mimetype": "text/x-python",
   "name": "python",
   "nbconvert_exporter": "python",
   "pygments_lexer": "ipython3",
   "version": "3.11.13"
  }
 },
 "nbformat": 4,
 "nbformat_minor": 5
}
