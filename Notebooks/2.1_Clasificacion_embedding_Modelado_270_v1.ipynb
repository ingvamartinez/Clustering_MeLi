{
 "cells": [
  {
   "cell_type": "markdown",
   "id": "65571438",
   "metadata": {},
   "source": [
    "![](../src/image/meli3.JPG)"
   ]
  },
  {
   "cell_type": "markdown",
   "id": "4bba15d6",
   "metadata": {},
   "source": [
    "# Entrenamiento, y Modelado y Validacion del Classifier\n",
    "\n",
    "#### Ya teniendo en nuestro embedding de la data fuente, realizaremos el entrenamiento de 3 modelos de Clasificacion, RandomForest, SVMClassifier y el XGBOOST. para ver cual de ellos nos clasifica mejor."
   ]
  },
  {
   "cell_type": "markdown",
   "id": "10a905b6",
   "metadata": {},
   "source": [
    "\n",
    "### Pasos\n",
    "1. [Preparacion de la data.](#1)\n",
    "1. [Modelado y entrenamiento](#2)\n",
    "1. [Validacion](#3)"
   ]
  },
  {
   "cell_type": "markdown",
   "id": "94f6ce91",
   "metadata": {},
   "source": [
    "<a id=\"1\"></a> <br>\n",
    "# 1. Preparacion de la Data"
   ]
  },
  {
   "cell_type": "code",
   "execution_count": 41,
   "id": "1697ede0",
   "metadata": {},
   "outputs": [],
   "source": [
    "import pandas as pd\n",
    "import numpy as np\n",
    "from sklearn.ensemble import RandomForestClassifier\n",
    "from sklearn.svm import SVC\n",
    "from xgboost import XGBClassifier\n",
    "from sklearn.model_selection import train_test_split\n",
    "from sklearn.metrics import ConfusionMatrixDisplay, confusion_matrix\n",
    "from sklearn.metrics import classification_report\n",
    "from ast import literal_eval\n"
   ]
  },
  {
   "cell_type": "code",
   "execution_count": 42,
   "id": "c46dd326",
   "metadata": {},
   "outputs": [],
   "source": [
    "#Leo los datos ya procesados con los embeddings de 3-small\n",
    "df_270 = pd.read_csv(\"../src/data/processed/data_embedding_270.csv\")\n"
   ]
  },
  {
   "cell_type": "code",
   "execution_count": 43,
   "id": "4a6b62a8",
   "metadata": {},
   "outputs": [
    {
     "name": "stdout",
     "output_type": "stream",
     "text": [
      "(210, 23)\n"
     ]
    },
    {
     "data": {
      "text/html": [
       "<div>\n",
       "<style scoped>\n",
       "    .dataframe tbody tr th:only-of-type {\n",
       "        vertical-align: middle;\n",
       "    }\n",
       "\n",
       "    .dataframe tbody tr th {\n",
       "        vertical-align: top;\n",
       "    }\n",
       "\n",
       "    .dataframe thead th {\n",
       "        text-align: right;\n",
       "    }\n",
       "</style>\n",
       "<table border=\"1\" class=\"dataframe\">\n",
       "  <thead>\n",
       "    <tr style=\"text-align: right;\">\n",
       "      <th></th>\n",
       "      <th>Unnamed: 0</th>\n",
       "      <th>tim_day</th>\n",
       "      <th>seller_nickname</th>\n",
       "      <th>titulo</th>\n",
       "      <th>seller_reputation</th>\n",
       "      <th>stock</th>\n",
       "      <th>logistic_type</th>\n",
       "      <th>condition</th>\n",
       "      <th>is_refurbished</th>\n",
       "      <th>price</th>\n",
       "      <th>...</th>\n",
       "      <th>category_id</th>\n",
       "      <th>category_name</th>\n",
       "      <th>Kmeans</th>\n",
       "      <th>AgC</th>\n",
       "      <th>products</th>\n",
       "      <th>Siglas_lt</th>\n",
       "      <th>Lt</th>\n",
       "      <th>mix</th>\n",
       "      <th>tokens</th>\n",
       "      <th>embedding</th>\n",
       "    </tr>\n",
       "  </thead>\n",
       "  <tbody>\n",
       "    <tr>\n",
       "      <th>0</th>\n",
       "      <td>0</td>\n",
       "      <td>2024-08-01</td>\n",
       "      <td>7ef2f8612c</td>\n",
       "      <td>Cabecera Queen Size Dicasa Aries Gris</td>\n",
       "      <td>red</td>\n",
       "      <td>1</td>\n",
       "      <td>Otro</td>\n",
       "      <td>new</td>\n",
       "      <td>0</td>\n",
       "      <td>3699.00</td>\n",
       "      <td>...</td>\n",
       "      <td>FURNITURE</td>\n",
       "      <td>MUEBLES</td>\n",
       "      <td>3.0</td>\n",
       "      <td>0.0</td>\n",
       "      <td>11.0</td>\n",
       "      <td>Otro</td>\n",
       "      <td>Otro</td>\n",
       "      <td>Stock: 1; Refurbished: 0; Logistic: Otro; Cond...</td>\n",
       "      <td>34</td>\n",
       "      <td>[-0.032292187213897705, 0.017587708309292793, ...</td>\n",
       "    </tr>\n",
       "    <tr>\n",
       "      <th>1</th>\n",
       "      <td>1</td>\n",
       "      <td>2024-08-01</td>\n",
       "      <td>f47a79fba8</td>\n",
       "      <td>Reproduccion Medallas Americanas Antiguas</td>\n",
       "      <td>green</td>\n",
       "      <td>1</td>\n",
       "      <td>Otro</td>\n",
       "      <td>used</td>\n",
       "      <td>0</td>\n",
       "      <td>1364.58</td>\n",
       "      <td>...</td>\n",
       "      <td>OTHER</td>\n",
       "      <td>OTROS</td>\n",
       "      <td>3.0</td>\n",
       "      <td>0.0</td>\n",
       "      <td>14.0</td>\n",
       "      <td>Otro</td>\n",
       "      <td>Otro</td>\n",
       "      <td>Stock: 1; Refurbished: 0; Logistic: Otro; Cond...</td>\n",
       "      <td>31</td>\n",
       "      <td>[-0.03797304257750511, 0.024722589179873466, -...</td>\n",
       "    </tr>\n",
       "  </tbody>\n",
       "</table>\n",
       "<p>2 rows × 23 columns</p>\n",
       "</div>"
      ],
      "text/plain": [
       "   Unnamed: 0     tim_day seller_nickname  \\\n",
       "0           0  2024-08-01      7ef2f8612c   \n",
       "1           1  2024-08-01      f47a79fba8   \n",
       "\n",
       "                                      titulo seller_reputation  stock  \\\n",
       "0      Cabecera Queen Size Dicasa Aries Gris               red      1   \n",
       "1  Reproduccion Medallas Americanas Antiguas             green      1   \n",
       "\n",
       "  logistic_type condition  is_refurbished    price  ...  category_id  \\\n",
       "0          Otro       new               0  3699.00  ...    FURNITURE   \n",
       "1          Otro      used               0  1364.58  ...        OTHER   \n",
       "\n",
       "  category_name Kmeans  AgC products  Siglas_lt    Lt  \\\n",
       "0       MUEBLES    3.0  0.0     11.0       Otro  Otro   \n",
       "1         OTROS    3.0  0.0     14.0       Otro  Otro   \n",
       "\n",
       "                                                 mix tokens  \\\n",
       "0  Stock: 1; Refurbished: 0; Logistic: Otro; Cond...     34   \n",
       "1  Stock: 1; Refurbished: 0; Logistic: Otro; Cond...     31   \n",
       "\n",
       "                                           embedding  \n",
       "0  [-0.032292187213897705, 0.017587708309292793, ...  \n",
       "1  [-0.03797304257750511, 0.024722589179873466, -...  \n",
       "\n",
       "[2 rows x 23 columns]"
      ]
     },
     "execution_count": 43,
     "metadata": {},
     "output_type": "execute_result"
    }
   ],
   "source": [
    "df_270[\"embedding\"] = df_270.embedding.apply(literal_eval).apply(np.array)\n",
    "print(df_270.shape)\n",
    "df_270.head(2)"
   ]
  },
  {
   "cell_type": "code",
   "execution_count": 44,
   "id": "3aa221a3",
   "metadata": {},
   "outputs": [
    {
     "name": "stdout",
     "output_type": "stream",
     "text": [
      "(10, 23)\n",
      "Empty DataFrame\n",
      "Columns: [Unnamed: 0, tim_day, seller_nickname, titulo, seller_reputation, stock, logistic_type, condition, is_refurbished, price, regular_price, categoria, url, category_id, category_name, Kmeans, AgC, products, Siglas_lt, Lt, mix, tokens, embedding]\n",
      "Index: []\n",
      "\n",
      "[0 rows x 23 columns]\n"
     ]
    },
    {
     "data": {
      "text/html": [
       "<div>\n",
       "<style scoped>\n",
       "    .dataframe tbody tr th:only-of-type {\n",
       "        vertical-align: middle;\n",
       "    }\n",
       "\n",
       "    .dataframe tbody tr th {\n",
       "        vertical-align: top;\n",
       "    }\n",
       "\n",
       "    .dataframe thead th {\n",
       "        text-align: right;\n",
       "    }\n",
       "</style>\n",
       "<table border=\"1\" class=\"dataframe\">\n",
       "  <thead>\n",
       "    <tr style=\"text-align: right;\">\n",
       "      <th></th>\n",
       "      <th>Unnamed: 0</th>\n",
       "      <th>tim_day</th>\n",
       "      <th>seller_nickname</th>\n",
       "      <th>titulo</th>\n",
       "      <th>seller_reputation</th>\n",
       "      <th>stock</th>\n",
       "      <th>logistic_type</th>\n",
       "      <th>condition</th>\n",
       "      <th>is_refurbished</th>\n",
       "      <th>price</th>\n",
       "      <th>...</th>\n",
       "      <th>category_id</th>\n",
       "      <th>category_name</th>\n",
       "      <th>Kmeans</th>\n",
       "      <th>AgC</th>\n",
       "      <th>products</th>\n",
       "      <th>Siglas_lt</th>\n",
       "      <th>Lt</th>\n",
       "      <th>mix</th>\n",
       "      <th>tokens</th>\n",
       "      <th>embedding</th>\n",
       "    </tr>\n",
       "  </thead>\n",
       "  <tbody>\n",
       "    <tr>\n",
       "      <th>0</th>\n",
       "      <td>0</td>\n",
       "      <td>2024-08-01</td>\n",
       "      <td>7ef2f8612c</td>\n",
       "      <td>Cabecera Queen Size Dicasa Aries Gris</td>\n",
       "      <td>red</td>\n",
       "      <td>1</td>\n",
       "      <td>Otro</td>\n",
       "      <td>new</td>\n",
       "      <td>0</td>\n",
       "      <td>3699.00</td>\n",
       "      <td>...</td>\n",
       "      <td>FURNITURE</td>\n",
       "      <td>MUEBLES</td>\n",
       "      <td>3.0</td>\n",
       "      <td>0.0</td>\n",
       "      <td>11.0</td>\n",
       "      <td>Otro</td>\n",
       "      <td>Otro</td>\n",
       "      <td>Stock: 1; Refurbished: 0; Logistic: Otro; Cond...</td>\n",
       "      <td>34</td>\n",
       "      <td>[-0.032292187213897705, 0.017587708309292793, ...</td>\n",
       "    </tr>\n",
       "    <tr>\n",
       "      <th>1</th>\n",
       "      <td>1</td>\n",
       "      <td>2024-08-01</td>\n",
       "      <td>f47a79fba8</td>\n",
       "      <td>Reproduccion Medallas Americanas Antiguas</td>\n",
       "      <td>green</td>\n",
       "      <td>1</td>\n",
       "      <td>Otro</td>\n",
       "      <td>used</td>\n",
       "      <td>0</td>\n",
       "      <td>1364.58</td>\n",
       "      <td>...</td>\n",
       "      <td>OTHER</td>\n",
       "      <td>OTROS</td>\n",
       "      <td>3.0</td>\n",
       "      <td>0.0</td>\n",
       "      <td>14.0</td>\n",
       "      <td>Otro</td>\n",
       "      <td>Otro</td>\n",
       "      <td>Stock: 1; Refurbished: 0; Logistic: Otro; Cond...</td>\n",
       "      <td>31</td>\n",
       "      <td>[-0.03797304257750511, 0.024722589179873466, -...</td>\n",
       "    </tr>\n",
       "  </tbody>\n",
       "</table>\n",
       "<p>2 rows × 23 columns</p>\n",
       "</div>"
      ],
      "text/plain": [
       "   Unnamed: 0     tim_day seller_nickname  \\\n",
       "0           0  2024-08-01      7ef2f8612c   \n",
       "1           1  2024-08-01      f47a79fba8   \n",
       "\n",
       "                                      titulo seller_reputation  stock  \\\n",
       "0      Cabecera Queen Size Dicasa Aries Gris               red      1   \n",
       "1  Reproduccion Medallas Americanas Antiguas             green      1   \n",
       "\n",
       "  logistic_type condition  is_refurbished    price  ...  category_id  \\\n",
       "0          Otro       new               0  3699.00  ...    FURNITURE   \n",
       "1          Otro      used               0  1364.58  ...        OTHER   \n",
       "\n",
       "  category_name Kmeans  AgC products  Siglas_lt    Lt  \\\n",
       "0       MUEBLES    3.0  0.0     11.0       Otro  Otro   \n",
       "1         OTROS    3.0  0.0     14.0       Otro  Otro   \n",
       "\n",
       "                                                 mix tokens  \\\n",
       "0  Stock: 1; Refurbished: 0; Logistic: Otro; Cond...     34   \n",
       "1  Stock: 1; Refurbished: 0; Logistic: Otro; Cond...     31   \n",
       "\n",
       "                                           embedding  \n",
       "0  [-0.032292187213897705, 0.017587708309292793, ...  \n",
       "1  [-0.03797304257750511, 0.024722589179873466, -...  \n",
       "\n",
       "[2 rows x 23 columns]"
      ]
     },
     "execution_count": 44,
     "metadata": {},
     "output_type": "execute_result"
    }
   ],
   "source": [
    "# Separo la data de validacion de la train y test,\n",
    "df_val=df_270[df_270['Kmeans'].isnull()]\n",
    "print(df_val.shape)\n",
    "df_270=df_270[df_270['Kmeans'].isnull()==False]\n",
    "print(df_270[df_270['Kmeans'].isnull()] )# Valido que ninguno no tengan datos con valores en la etiqueta\n",
    "df270 = df_270.iloc[np.random.permutation(len(df_270))].reset_index(drop=True)\n",
    "df_270.head(2)"
   ]
  },
  {
   "cell_type": "code",
   "execution_count": 45,
   "id": "18f00f8c",
   "metadata": {},
   "outputs": [
    {
     "data": {
      "text/plain": [
       "Kmeans\n",
       "3.0    50\n",
       "2.0    50\n",
       "1.0    50\n",
       "0.0    50\n",
       "Name: count, dtype: int64"
      ]
     },
     "execution_count": 45,
     "metadata": {},
     "output_type": "execute_result"
    }
   ],
   "source": [
    "# Obtenemos los datos de entrenamiento y de test\n",
    "\n",
    "x_train,x_test,y_train,y_test = train_test_split(\n",
    "    list(df_270.embedding.values),df_270.Kmeans,test_size=20,random_state=13\n",
    ")\n",
    "\n",
    "df_270['Kmeans'].value_counts()"
   ]
  },
  {
   "cell_type": "markdown",
   "id": "ce25bd09",
   "metadata": {},
   "source": [
    "<a id=\"2\"></a> <br>\n",
    "# 2. Modelado y entrenamiento."
   ]
  },
  {
   "cell_type": "markdown",
   "id": "2994bf65",
   "metadata": {},
   "source": [
    "# RANDOM-FOREST - CLASSIFIER"
   ]
  },
  {
   "cell_type": "code",
   "execution_count": 46,
   "id": "425097cc",
   "metadata": {},
   "outputs": [
    {
     "name": "stdout",
     "output_type": "stream",
     "text": [
      "              precision    recall  f1-score   support\n",
      "\n",
      "         0.0       0.40      0.25      0.31         8\n",
      "         1.0       0.43      0.43      0.43         7\n",
      "         2.0       0.00      0.00      0.00         3\n",
      "         3.0       0.67      1.00      0.80         2\n",
      "\n",
      "    accuracy                           0.35        20\n",
      "   macro avg       0.37      0.42      0.38        20\n",
      "weighted avg       0.38      0.35      0.35        20\n",
      "\n"
     ]
    },
    {
     "data": {
      "text/plain": [
       "<sklearn.metrics._plot.confusion_matrix.ConfusionMatrixDisplay at 0x18303f87b10>"
      ]
     },
     "execution_count": 46,
     "metadata": {},
     "output_type": "execute_result"
    },
    {
     "data": {
      "image/png": "[encoded data removed]",
      "text/plain": [
       "<Figure size 640x480 with 2 Axes>"
      ]
     },
     "metadata": {},
     "output_type": "display_data"
    }
   ],
   "source": [
    "# Modelado, Entrenamiento, Evaluacion\n",
    "clf = RandomForestClassifier(n_estimators=100) #iniciamos el modelo\n",
    "clf.fit(x_train, y_train) #entrenamos el modelo\n",
    "predicts = clf.predict(x_test) #realizamos las predicciones\n",
    "probas = clf.predict_proba(x_test) #realizamos las probabilidades\n",
    "\n",
    "report = classification_report(y_test, predicts)\n",
    "print(report)\n",
    "matrix = confusion_matrix(y_pred= predicts ,y_true= y_test)\n",
    "disp=ConfusionMatrixDisplay(matrix)\n",
    "disp.plot()"
   ]
  },
  {
   "cell_type": "code",
   "execution_count": 47,
   "id": "d17f092d",
   "metadata": {},
   "outputs": [
    {
     "name": "stdout",
     "output_type": "stream",
     "text": [
      "(10, 23)\n"
     ]
    }
   ],
   "source": [
    "#Prediccion\n",
    "print(df_val.shape)"
   ]
  },
  {
   "cell_type": "markdown",
   "id": "f8b8dcfa",
   "metadata": {},
   "source": [
    "## SUPPORT VECTOR MACHINE - CLASSIFIER"
   ]
  },
  {
   "cell_type": "code",
   "execution_count": 48,
   "id": "78082bde",
   "metadata": {},
   "outputs": [
    {
     "name": "stdout",
     "output_type": "stream",
     "text": [
      "              precision    recall  f1-score   support\n",
      "\n",
      "         0.0       0.00      0.00      0.00         8\n",
      "         1.0       0.00      0.00      0.00         7\n",
      "         2.0       0.07      0.33      0.11         3\n",
      "         3.0       0.67      1.00      0.80         2\n",
      "\n",
      "    accuracy                           0.15        20\n",
      "   macro avg       0.18      0.33      0.23        20\n",
      "weighted avg       0.08      0.15      0.10        20\n",
      "\n"
     ]
    },
    {
     "data": {
      "text/plain": [
       "<sklearn.metrics._plot.confusion_matrix.ConfusionMatrixDisplay at 0x183043448d0>"
      ]
     },
     "execution_count": 48,
     "metadata": {},
     "output_type": "execute_result"
    },
    {
     "data": {
      "image/png": "[encoded data removed]",
      "text/plain": [
       "<Figure size 640x480 with 2 Axes>"
      ]
     },
     "metadata": {},
     "output_type": "display_data"
    }
   ],
   "source": [
    "# Modelado, Entrenamiento, Evaluacion\n",
    "clf = SVC() #iniciamos el modelo\n",
    "clf.fit(x_train, y_train) #entrenamos el modelo\n",
    "predicts = clf.predict(x_test) #realizamos las predicciones\n",
    "\n",
    "\n",
    "report = classification_report(y_test, predicts)\n",
    "print(report)\n",
    "matrix = confusion_matrix(y_pred= predicts ,y_true= y_test)\n",
    "disp=ConfusionMatrixDisplay(matrix)\n",
    "disp.plot()"
   ]
  },
  {
   "cell_type": "markdown",
   "id": "9dfec480",
   "metadata": {},
   "source": [
    "# XGBOOST - CLASSIFIER"
   ]
  },
  {
   "cell_type": "code",
   "execution_count": 49,
   "id": "4ff179c6",
   "metadata": {},
   "outputs": [
    {
     "name": "stdout",
     "output_type": "stream",
     "text": [
      "              precision    recall  f1-score   support\n",
      "\n",
      "         0.0       0.50      0.38      0.43         8\n",
      "         1.0       0.50      0.57      0.53         7\n",
      "         2.0       0.00      0.00      0.00         3\n",
      "         3.0       0.67      1.00      0.80         2\n",
      "\n",
      "    accuracy                           0.45        20\n",
      "   macro avg       0.42      0.49      0.44        20\n",
      "weighted avg       0.44      0.45      0.44        20\n",
      "\n"
     ]
    },
    {
     "data": {
      "text/plain": [
       "<sklearn.metrics._plot.confusion_matrix.ConfusionMatrixDisplay at 0x18304389e90>"
      ]
     },
     "execution_count": 49,
     "metadata": {},
     "output_type": "execute_result"
    },
    {
     "data": {
      "image/png": "[encoded data removed]",
      "text/plain": [
       "<Figure size 640x480 with 2 Axes>"
      ]
     },
     "metadata": {},
     "output_type": "display_data"
    }
   ],
   "source": [
    "# Modelado, Entrenamiento, Evaluacion\n",
    "clf = XGBClassifier() #iniciamos el modelo\n",
    "clf.fit(x_train, y_train) #entrenamos el modelo\n",
    "predicts = clf.predict(x_test) #realizamos las predicciones\n",
    "\n",
    "\n",
    "report = classification_report(y_test, predicts)\n",
    "print(report)\n",
    "matrix = confusion_matrix(y_pred= predicts ,y_true= y_test)\n",
    "disp=ConfusionMatrixDisplay(matrix)\n",
    "disp.plot()"
   ]
  },
  {
   "cell_type": "markdown",
   "id": "4422cbeb",
   "metadata": {},
   "source": [
    "<a id=\"3\"></a> <br>\n",
    "# 3. Validacion"
   ]
  },
  {
   "cell_type": "markdown",
   "id": "e47943ac",
   "metadata": {},
   "source": [
    "#### EL mejor score con la data completa fue el modelo Xboost Clasifier, aca el embeding tiene las variables categoricas, aunque sigue siendo un resultado muy deficiente."
   ]
  },
  {
   "cell_type": "code",
   "execution_count": 50,
   "id": "2f86b78c",
   "metadata": {},
   "outputs": [],
   "source": [
    "# Utilizaremos el Random Forest para predecir los nuevos clusters\n",
    "\n"
   ]
  }
 ],
 "metadata": {
  "kernelspec": {
   "display_name": "openai",
   "language": "python",
   "name": "python3"
  },
  "language_info": {
   "codemirror_mode": {
    "name": "ipython",
    "version": 3
   },
   "file_extension": ".py",
   "mimetype": "text/x-python",
   "name": "python",
   "nbconvert_exporter": "python",
   "pygments_lexer": "ipython3",
   "version": "3.11.13"
  }
 },
 "nbformat": 4,
 "nbformat_minor": 5
}
