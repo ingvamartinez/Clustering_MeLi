{
 "cells": [
  {
   "cell_type": "markdown",
   "id": "3a35e108",
   "metadata": {},
   "source": [
    "# CLASSIFIER"
   ]
  },
  {
   "cell_type": "code",
   "execution_count": 30,
   "id": "12f85987",
   "metadata": {},
   "outputs": [],
   "source": [
    "from sklearn.model_selection import cross_val_score, train_test_split\n",
    "from sklearn.metrics import ConfusionMatrixDisplay, classification_report\n",
    "from sklearn.svm import SVC\n",
    "from sklearn.ensemble import RandomForestClassifier\n",
    "from xgboost import XGBClassifier\n",
    "\n",
    "from openai import OpenAI\n",
    "from ast import literal_eval\n",
    "\n",
    "import pandas as pd\n",
    "import numpy as np\n",
    "import os\n",
    "from pathlib import Path\n"
   ]
  },
  {
   "cell_type": "markdown",
   "id": "f3874f22",
   "metadata": {},
   "source": [
    "### Leemos los datos y separamos para obtener 2 set de datos un train-test y otro de validacion"
   ]
  },
  {
   "cell_type": "code",
   "execution_count": 31,
   "id": "5a31a67c",
   "metadata": {},
   "outputs": [],
   "source": [
    "df1=pd.read_csv(\"D:\\Clustering_MeLi\\src\\data\\processed\\data_cluster_m1.csv\", sep=\"|\")\n",
    "df2=pd.read_csv(\"D:\\Clustering_MeLi\\src\\data\\processed\\data_cluster_m2.csv\", sep=\"|\")\n",
    "dfEmb1=pd.read_csv(\"D:\\Clustering_MeLi\\src\\data\\processed\\Embedding_test_meli.csv\")\n",
    "dfEmb2=pd.read_csv(\"D:\\Clustering_MeLi\\src\\data\\processed\\Embedding_test_meli_2.csv\")\n",
    "\n"
   ]
  },
  {
   "cell_type": "code",
   "execution_count": 32,
   "id": "89928e8f",
   "metadata": {},
   "outputs": [
    {
     "data": {
      "text/plain": [
       "(2000,)"
      ]
     },
     "execution_count": 32,
     "metadata": {},
     "output_type": "execute_result"
    }
   ],
   "source": [
    "dfEmb1[\"embedding\"].shape"
   ]
  },
  {
   "cell_type": "code",
   "execution_count": 33,
   "id": "b965587b",
   "metadata": {},
   "outputs": [],
   "source": [
    "dfEmb1[\"embedding\"] = dfEmb1.embedding.apply(literal_eval).apply(np.array)\n",
    "dfEmb2[\"embedding\"] = dfEmb2.embedding.apply(literal_eval).apply(np.array)"
   ]
  },
  {
   "cell_type": "code",
   "execution_count": 34,
   "id": "fd04ad9e",
   "metadata": {},
   "outputs": [
    {
     "name": "stdout",
     "output_type": "stream",
     "text": [
      "df1:  (2000, 16)\n",
      "df2:  (2000, 17)\n"
     ]
    }
   ],
   "source": [
    "df1 = pd.merge(left=dfEmb1,right=df1[[\"seller_nickname\",\"cluster\"]],how=\"left\",on='seller_nickname')\n",
    "df2 = pd.merge(left=dfEmb2,right=df2[[\"seller_nickname\",\"cluster\"]],how=\"left\",on='seller_nickname')\n",
    "print(\"df1: \",df1.shape)\n",
    "print(\"df2: \",df2.shape)"
   ]
  },
  {
   "cell_type": "code",
   "execution_count": 35,
   "id": "5d5609e8",
   "metadata": {},
   "outputs": [
    {
     "name": "stdout",
     "output_type": "stream",
     "text": [
      "Index(['Unnamed: 0', 'seller_nickname', 'products', 'stock', 'price',\n",
      "       'seller_reputation', 'Lt', 'condition', 'isrefu', 'category_id',\n",
      "       'regular_price1', 'pxp', 'mix', 'tokens', 'embedding', 'cluster'],\n",
      "      dtype='object')\n",
      "Index(['Unnamed: 0', 'seller_nickname', 'products', 'stock', 'price',\n",
      "       'seller_reputation', 'Lt', 'condition', 'isrefu', 'category_id',\n",
      "       'regular_price1', 'pxp', 'mix', 'tokens', 'totalcat', 'embedding',\n",
      "       'cluster'],\n",
      "      dtype='object')\n"
     ]
    }
   ],
   "source": [
    "print(df1.columns)\n",
    "print(df2.columns)"
   ]
  },
  {
   "cell_type": "code",
   "execution_count": 36,
   "id": "ae2bf439",
   "metadata": {},
   "outputs": [
    {
     "name": "stdout",
     "output_type": "stream",
     "text": [
      "df1x:  (1800, 16)\n",
      "df2x:  (1800, 17)\n"
     ]
    }
   ],
   "source": [
    "df1x = df1[:-200]\n",
    "df2x = df2[:-200]\n",
    "print(\"df1x: \",df1x.shape)\n",
    "print(\"df2x: \",df2x.shape)"
   ]
  },
  {
   "cell_type": "code",
   "execution_count": 37,
   "id": "3337ece6",
   "metadata": {},
   "outputs": [
    {
     "data": {
      "text/plain": [
       "array([   0,    1,    2, ..., 1797, 1798, 1799], shape=(1800,))"
      ]
     },
     "execution_count": 37,
     "metadata": {},
     "output_type": "execute_result"
    }
   ],
   "source": [
    "df1x.index.values"
   ]
  },
  {
   "cell_type": "code",
   "execution_count": 38,
   "id": "ebf31904",
   "metadata": {},
   "outputs": [
    {
     "name": "stdout",
     "output_type": "stream",
     "text": [
      "m1x:  (1800, 1536)\n",
      "m2x:  (1800, 1536)\n"
     ]
    }
   ],
   "source": [
    "m1x=np.vstack(df1x[\"embedding\"].values)\n",
    "m2x=np.vstack(df2x[\"embedding\"].values)\n",
    "print(\"m1x: \",m1x.shape)\n",
    "print(\"m2x: \",m2x.shape)"
   ]
  },
  {
   "cell_type": "code",
   "execution_count": 39,
   "id": "daab2ec6",
   "metadata": {},
   "outputs": [
    {
     "name": "stdout",
     "output_type": "stream",
     "text": [
      "df1x:  (200, 16)\n",
      "df2x:  (200, 17)\n"
     ]
    }
   ],
   "source": [
    "df1v = df1[-200:]\n",
    "df2v = df2[-200:]\n",
    "print(\"df1x: \",df1v.shape)\n",
    "print(\"df2x: \",df2v.shape)"
   ]
  },
  {
   "cell_type": "code",
   "execution_count": 40,
   "id": "c3fd1b43",
   "metadata": {},
   "outputs": [
    {
     "data": {
      "text/plain": [
       "array([1800, 1801, 1802, 1803, 1804, 1805, 1806, 1807, 1808, 1809, 1810,\n",
       "       1811, 1812, 1813, 1814, 1815, 1816, 1817, 1818, 1819, 1820, 1821,\n",
       "       1822, 1823, 1824, 1825, 1826, 1827, 1828, 1829, 1830, 1831, 1832,\n",
       "       1833, 1834, 1835, 1836, 1837, 1838, 1839, 1840, 1841, 1842, 1843,\n",
       "       1844, 1845, 1846, 1847, 1848, 1849, 1850, 1851, 1852, 1853, 1854,\n",
       "       1855, 1856, 1857, 1858, 1859, 1860, 1861, 1862, 1863, 1864, 1865,\n",
       "       1866, 1867, 1868, 1869, 1870, 1871, 1872, 1873, 1874, 1875, 1876,\n",
       "       1877, 1878, 1879, 1880, 1881, 1882, 1883, 1884, 1885, 1886, 1887,\n",
       "       1888, 1889, 1890, 1891, 1892, 1893, 1894, 1895, 1896, 1897, 1898,\n",
       "       1899, 1900, 1901, 1902, 1903, 1904, 1905, 1906, 1907, 1908, 1909,\n",
       "       1910, 1911, 1912, 1913, 1914, 1915, 1916, 1917, 1918, 1919, 1920,\n",
       "       1921, 1922, 1923, 1924, 1925, 1926, 1927, 1928, 1929, 1930, 1931,\n",
       "       1932, 1933, 1934, 1935, 1936, 1937, 1938, 1939, 1940, 1941, 1942,\n",
       "       1943, 1944, 1945, 1946, 1947, 1948, 1949, 1950, 1951, 1952, 1953,\n",
       "       1954, 1955, 1956, 1957, 1958, 1959, 1960, 1961, 1962, 1963, 1964,\n",
       "       1965, 1966, 1967, 1968, 1969, 1970, 1971, 1972, 1973, 1974, 1975,\n",
       "       1976, 1977, 1978, 1979, 1980, 1981, 1982, 1983, 1984, 1985, 1986,\n",
       "       1987, 1988, 1989, 1990, 1991, 1992, 1993, 1994, 1995, 1996, 1997,\n",
       "       1998, 1999])"
      ]
     },
     "execution_count": 40,
     "metadata": {},
     "output_type": "execute_result"
    }
   ],
   "source": [
    "df1v.index.values"
   ]
  },
  {
   "cell_type": "code",
   "execution_count": 41,
   "id": "eda71eef",
   "metadata": {},
   "outputs": [
    {
     "name": "stdout",
     "output_type": "stream",
     "text": [
      "m1v:  (200, 1536)\n",
      "m2v:  (200, 1536)\n"
     ]
    }
   ],
   "source": [
    "m1v=np.vstack(df1v[\"embedding\"].values)\n",
    "m2v=np.vstack(df2v[\"embedding\"].values)\n",
    "print(\"m1v: \",m1v.shape)\n",
    "print(\"m2v: \",m2v.shape)"
   ]
  },
  {
   "cell_type": "markdown",
   "id": "cedc0a36",
   "metadata": {},
   "source": [
    "### Preprocesamiento de datos"
   ]
  },
  {
   "cell_type": "code",
   "execution_count": 43,
   "id": "1ab13aea",
   "metadata": {},
   "outputs": [],
   "source": [
    "#conjunto de datos para train test\n",
    "#\n",
    "\n",
    "x_train,x_test,y_train,y_test = train_test_split((m1x),df1x.cluster, train_size=0.8, random_state= 13)"
   ]
  },
  {
   "cell_type": "markdown",
   "id": "57367330",
   "metadata": {},
   "source": [
    "### Training y Test: M1"
   ]
  },
  {
   "cell_type": "code",
   "execution_count": 44,
   "id": "015ef295",
   "metadata": {},
   "outputs": [
    {
     "name": "stdout",
     "output_type": "stream",
     "text": [
      "              precision    recall  f1-score   support\n",
      "\n",
      "           0       1.00      0.98      0.99        50\n",
      "           1       0.94      0.99      0.97       162\n",
      "           2       1.00      0.89      0.94        36\n",
      "           3       0.99      0.94      0.96        87\n",
      "           4       1.00      1.00      1.00        25\n",
      "\n",
      "    accuracy                           0.97       360\n",
      "   macro avg       0.99      0.96      0.97       360\n",
      "weighted avg       0.97      0.97      0.97       360\n",
      "\n"
     ]
    }
   ],
   "source": [
    "# RandomForest\n",
    "\n",
    "RDFC = RandomForestClassifier(random_state=13)\n",
    "RDFC.fit(x_train,y_train)\n",
    "predict = RDFC.predict(x_test)\n",
    "print(classification_report(y_test,predict))"
   ]
  },
  {
   "cell_type": "code",
   "execution_count": null,
   "id": "48d3867b",
   "metadata": {},
   "outputs": [
    {
     "name": "stdout",
     "output_type": "stream",
     "text": [
      "              precision    recall  f1-score   support\n",
      "\n",
      "           0       1.00      0.95      0.97        40\n",
      "           1       0.97      1.00      0.98        84\n",
      "           2       1.00      0.95      0.98        21\n",
      "           3       0.95      0.95      0.95        40\n",
      "           4       1.00      1.00      1.00        15\n",
      "\n",
      "    accuracy                           0.97       200\n",
      "   macro avg       0.98      0.97      0.98       200\n",
      "weighted avg       0.98      0.97      0.97       200\n",
      "\n"
     ]
    }
   ],
   "source": [
    "#con conjunto de Validacion\n",
    "predict_val = RDFC.predict(m1v)\n",
    "print(classification_report(df1v.cluster,predict_val))"
   ]
  },
  {
   "cell_type": "code",
   "execution_count": 51,
   "id": "9a0ee240",
   "metadata": {},
   "outputs": [
    {
     "name": "stdout",
     "output_type": "stream",
     "text": [
      "[0.96333333 0.95666667 0.96333333 0.96333333 0.97333333 0.96      ]\n",
      "0.9633333333333334\n"
     ]
    }
   ],
   "source": [
    "#cross validation\n",
    "\n",
    "validation = cross_val_score(RDFC,m1x,df1x.cluster,cv=6, scoring='accuracy')\n",
    "print((validation))\n",
    "print(np.mean(validation))"
   ]
  },
  {
   "cell_type": "markdown",
   "id": "c3f840d3",
   "metadata": {},
   "source": [
    "### Support Vector Machine"
   ]
  },
  {
   "cell_type": "code",
   "execution_count": 46,
   "id": "824c9b45",
   "metadata": {},
   "outputs": [
    {
     "name": "stdout",
     "output_type": "stream",
     "text": [
      "              precision    recall  f1-score   support\n",
      "\n",
      "           0       1.00      0.98      0.99        50\n",
      "           1       0.94      0.99      0.97       162\n",
      "           2       1.00      0.89      0.94        36\n",
      "           3       0.99      0.94      0.96        87\n",
      "           4       1.00      1.00      1.00        25\n",
      "\n",
      "    accuracy                           0.97       360\n",
      "   macro avg       0.99      0.96      0.97       360\n",
      "weighted avg       0.97      0.97      0.97       360\n",
      "\n"
     ]
    }
   ],
   "source": [
    "SVMC = SVC(C=0.1, random_state=13)\n",
    "SVMC.fit(x_train,y_train)\n",
    "predicts=SVMC.predict(x_test)\n",
    "print(classification_report(y_test,predict))"
   ]
  },
  {
   "cell_type": "code",
   "execution_count": 47,
   "id": "01ed2273",
   "metadata": {},
   "outputs": [
    {
     "name": "stdout",
     "output_type": "stream",
     "text": [
      "              precision    recall  f1-score   support\n",
      "\n",
      "           0       1.00      0.95      0.97        40\n",
      "           1       0.92      1.00      0.96        84\n",
      "           2       0.94      0.81      0.87        21\n",
      "           3       0.93      0.95      0.94        40\n",
      "           4       1.00      0.80      0.89        15\n",
      "\n",
      "    accuracy                           0.94       200\n",
      "   macro avg       0.96      0.90      0.93       200\n",
      "weighted avg       0.95      0.94      0.94       200\n",
      "\n"
     ]
    }
   ],
   "source": [
    "predict_val = SVMC.predict(m1v)\n",
    "print(classification_report(df1v.cluster,predict_val))"
   ]
  },
  {
   "cell_type": "code",
   "execution_count": 52,
   "id": "70fdecc6",
   "metadata": {},
   "outputs": [
    {
     "name": "stdout",
     "output_type": "stream",
     "text": [
      "[0.94       0.94       0.95333333 0.94333333 0.95333333 0.95      ]\n",
      "0.9466666666666667\n"
     ]
    }
   ],
   "source": [
    "#cross validation\n",
    "validation = cross_val_score(SVMC,m1x,df1x.cluster,cv=6, scoring='accuracy')\n",
    "print((validation))\n",
    "print(np.mean(validation))"
   ]
  }
 ],
 "metadata": {
  "kernelspec": {
   "display_name": "openai",
   "language": "python",
   "name": "python3"
  },
  "language_info": {
   "codemirror_mode": {
    "name": "ipython",
    "version": 3
   },
   "file_extension": ".py",
   "mimetype": "text/x-python",
   "name": "python",
   "nbconvert_exporter": "python",
   "pygments_lexer": "ipython3",
   "version": "3.11.13"
  }
 },
 "nbformat": 4,
 "nbformat_minor": 5
}
