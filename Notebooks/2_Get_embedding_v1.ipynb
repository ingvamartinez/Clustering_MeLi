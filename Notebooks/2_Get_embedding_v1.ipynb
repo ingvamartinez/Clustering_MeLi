{
 "cells": [
  {
   "cell_type": "markdown",
   "id": "237e6bb7",
   "metadata": {},
   "source": [
    "![](../src/image/meli5.JPG)"
   ]
  },
  {
   "cell_type": "markdown",
   "id": "b5e5fb69",
   "metadata": {},
   "source": [
    "# Generador Embeddings Text-Embedding-3-Small\n",
    "\n",
    "#### En este punto usare  el text-embedding-3-small para la generacion de los embeddings.\n",
    "\n",
    "### Pasos\n",
    "1. [Preparacion de la data.](#1)\n",
    "1. [Preprocesamiento de los datos.](#2)\n",
    "1. [Generacion de Embedding](#3)\n",
    "1. [Extraccion de Embedding](#4)\n",
    "\n"
   ]
  },
  {
   "cell_type": "markdown",
   "id": "cfce241d",
   "metadata": {},
   "source": [
    "<a id=\"1\"></a> <br>\n",
    "## 1.Preparacion de la data\n",
    "\n",
    "#### El dataset usado es el proporcionado en el ejercicio ya con las etiquetas obtenidas en la clusterizacion. El dataset posee 185250 registros los cuales 117094 poseen etiquetas. Esta data mantiene la informacion de sellers de un e-commerce. de los cuales tomaremos 50 registros de cada cluster, 10 de los que no tienen etiqueta para la prediccion.\n",
    "\n",
    "#### Combinaran las variables, y con el modelo se codificara las variables combinadas y dara resultado un vector embedding"
   ]
  },
  {
   "cell_type": "code",
   "execution_count": 2,
   "id": "cae894d9",
   "metadata": {},
   "outputs": [],
   "source": [
    "import pandas as pd\n",
    "import tiktoken\n",
    "import matplotlib.pyplot as plt\n",
    "import numpy as np\n",
    "\n",
    "#openai\n",
    "from openai import OpenAI\n",
    "from utils.embeddings_utils import get_embedding"
   ]
  },
  {
   "cell_type": "code",
   "execution_count": null,
   "id": "bd231f72",
   "metadata": {},
   "outputs": [],
   "source": [
    "embedding_model = \"text-embedding-3-small\"\n",
    "embedding_encoding = \"cl100k_base\"\n",
    "max_tokens = 8000  "
   ]
  },
  {
   "cell_type": "code",
   "execution_count": null,
   "id": "55350613",
   "metadata": {},
   "outputs": [],
   "source": [
    "path = 'D:\\Clustering_MeLi\\src\\data\\processed\\data_embedding_v1.csv'\n",
    "df = pd.read_csv(path)"
   ]
  },
  {
   "cell_type": "code",
   "execution_count": null,
   "id": "b4eec043",
   "metadata": {},
   "outputs": [
    {
     "name": "stdout",
     "output_type": "stream",
     "text": [
      "<class 'pandas.core.frame.DataFrame'>\n",
      "RangeIndex: 185250 entries, 0 to 185249\n",
      "Data columns (total 18 columns):\n",
      " #   Column             Non-Null Count   Dtype  \n",
      "---  ------             --------------   -----  \n",
      " 0   Unnamed: 0         185250 non-null  int64  \n",
      " 1   tim_day            185250 non-null  object \n",
      " 2   seller_nickname    185250 non-null  object \n",
      " 3   titulo             185250 non-null  object \n",
      " 4   seller_reputation  182878 non-null  object \n",
      " 5   stock              185250 non-null  int64  \n",
      " 6   logistic_type      185250 non-null  object \n",
      " 7   condition          185250 non-null  object \n",
      " 8   is_refurbished     185250 non-null  bool   \n",
      " 9   price              183734 non-null  float64\n",
      " 10  regular_price      49956 non-null   float64\n",
      " 11  categoria          185250 non-null  object \n",
      " 12  url                185250 non-null  object \n",
      " 13  category_id        185250 non-null  object \n",
      " 14  category_name      185250 non-null  object \n",
      " 15  Kmeans             117094 non-null  float64\n",
      " 16  AgC                117094 non-null  float64\n",
      " 17  products           117094 non-null  float64\n",
      "dtypes: bool(1), float64(5), int64(2), object(10)\n",
      "memory usage: 24.2+ MB\n"
     ]
    }
   ],
   "source": [
    "df.info()"
   ]
  },
  {
   "cell_type": "code",
   "execution_count": null,
   "id": "983db2a0",
   "metadata": {},
   "outputs": [],
   "source": [
    "siglas = ['XD', 'FBM', 'DS', 'FLEX', 'Otro']\n",
    "logistic_type = ['Cross Docking', 'FulfilledbyMerchant', 'DropShipping', 'FLEX', 'Otro']\n",
    "\n",
    "df_lgt = pd.DataFrame(data={'Siglas_lt':siglas,\"Lt\":logistic_type})\n",
    "df=pd.merge(left=df, right=df_lgt, how='left', left_on='logistic_type',right_on='Siglas_lt')\n",
    "df.head(2)\n",
    "\n",
    "Clusters = ['0', '1', '2', '3', '4']\n",
    "Clusters_Def = ['Sellers Estables', 'Sellers con catalogos', 'Sellers Medianos', 'Sellers Mayoristas', 'Sellers Premiuns']\n",
    "\n",
    "df_cluster = pd.DataFrame(data={'Clusters':Clusters,\"Cluster_Def\":Clusters_Def})\n",
    "\n"
   ]
  },
  {
   "cell_type": "code",
   "execution_count": null,
   "id": "6f68b301",
   "metadata": {},
   "outputs": [
    {
     "data": {
      "text/plain": [
       "Index(['Unnamed: 0', 'tim_day', 'seller_nickname', 'titulo',\n",
       "       'seller_reputation', 'stock', 'logistic_type', 'condition',\n",
       "       'is_refurbished', 'price', 'regular_price', 'categoria', 'url',\n",
       "       'category_id', 'category_name', 'Kmeans', 'AgC', 'products',\n",
       "       'Siglas_lt', 'Lt'],\n",
       "      dtype='object')"
      ]
     },
     "execution_count": 37,
     "metadata": {},
     "output_type": "execute_result"
    }
   ],
   "source": [
    "df.columns"
   ]
  },
  {
   "cell_type": "code",
   "execution_count": null,
   "id": "b6f2293b",
   "metadata": {},
   "outputs": [],
   "source": [
    "df['stock']=df['stock'].astype(str)\n",
    "df['price']=df['price'].astype(str)\n",
    "df['stock']=df['stock'].astype(str)\n",
    "df['is_refurbished']=df['is_refurbished'].astype(int)\n",
    "df['is_refurbished']=df['is_refurbished'].astype(str)\n",
    "df.drop('Unnamed: 0',axis=1,inplace=True)"
   ]
  },
  {
   "cell_type": "code",
   "execution_count": null,
   "id": "5ed08658",
   "metadata": {},
   "outputs": [
    {
     "data": {
      "text/plain": [
       "(182878, 19)"
      ]
     },
     "execution_count": 39,
     "metadata": {},
     "output_type": "execute_result"
    }
   ],
   "source": [
    "df=df[df['seller_reputation'].isnull()==False]\n",
    "df.shape"
   ]
  },
  {
   "cell_type": "code",
   "execution_count": null,
   "id": "1b89436e",
   "metadata": {},
   "outputs": [
    {
     "name": "stdout",
     "output_type": "stream",
     "text": [
      "<class 'pandas.core.frame.DataFrame'>\n",
      "Index: 182878 entries, 0 to 185249\n",
      "Data columns (total 19 columns):\n",
      " #   Column             Non-Null Count   Dtype  \n",
      "---  ------             --------------   -----  \n",
      " 0   tim_day            182878 non-null  object \n",
      " 1   seller_nickname    182878 non-null  object \n",
      " 2   titulo             182878 non-null  object \n",
      " 3   seller_reputation  182878 non-null  object \n",
      " 4   stock              182878 non-null  object \n",
      " 5   logistic_type      182878 non-null  object \n",
      " 6   condition          182878 non-null  object \n",
      " 7   is_refurbished     182878 non-null  object \n",
      " 8   price              182878 non-null  object \n",
      " 9   regular_price      49956 non-null   float64\n",
      " 10  categoria          182878 non-null  object \n",
      " 11  url                182878 non-null  object \n",
      " 12  category_id        182878 non-null  object \n",
      " 13  category_name      182878 non-null  object \n",
      " 14  Kmeans             117094 non-null  float64\n",
      " 15  AgC                117094 non-null  float64\n",
      " 16  products           117094 non-null  float64\n",
      " 17  Siglas_lt          182878 non-null  object \n",
      " 18  Lt                 182878 non-null  object \n",
      "dtypes: float64(4), object(15)\n",
      "memory usage: 27.9+ MB\n"
     ]
    }
   ],
   "source": [
    "df.info()"
   ]
  },
  {
   "cell_type": "code",
   "execution_count": null,
   "id": "c8082b90",
   "metadata": {},
   "outputs": [
    {
     "name": "stdout",
     "output_type": "stream",
     "text": [
      "(182878, 20)\n"
     ]
    },
    {
     "data": {
      "text/html": [
       "<div>\n",
       "<style scoped>\n",
       "    .dataframe tbody tr th:only-of-type {\n",
       "        vertical-align: middle;\n",
       "    }\n",
       "\n",
       "    .dataframe tbody tr th {\n",
       "        vertical-align: top;\n",
       "    }\n",
       "\n",
       "    .dataframe thead th {\n",
       "        text-align: right;\n",
       "    }\n",
       "</style>\n",
       "<table border=\"1\" class=\"dataframe\">\n",
       "  <thead>\n",
       "    <tr style=\"text-align: right;\">\n",
       "      <th></th>\n",
       "      <th>tim_day</th>\n",
       "      <th>seller_nickname</th>\n",
       "      <th>titulo</th>\n",
       "      <th>seller_reputation</th>\n",
       "      <th>stock</th>\n",
       "      <th>logistic_type</th>\n",
       "      <th>condition</th>\n",
       "      <th>is_refurbished</th>\n",
       "      <th>price</th>\n",
       "      <th>regular_price</th>\n",
       "      <th>categoria</th>\n",
       "      <th>url</th>\n",
       "      <th>category_id</th>\n",
       "      <th>category_name</th>\n",
       "      <th>Kmeans</th>\n",
       "      <th>AgC</th>\n",
       "      <th>products</th>\n",
       "      <th>Siglas_lt</th>\n",
       "      <th>Lt</th>\n",
       "      <th>mix</th>\n",
       "    </tr>\n",
       "  </thead>\n",
       "  <tbody>\n",
       "    <tr>\n",
       "      <th>0</th>\n",
       "      <td>2024-08-01</td>\n",
       "      <td>5a39342818</td>\n",
       "      <td>Gel Cerave Limpiador Espumoso Piel Normal A Gr...</td>\n",
       "      <td>green_platinum</td>\n",
       "      <td>16155</td>\n",
       "      <td>FBM</td>\n",
       "      <td>new</td>\n",
       "      <td>0</td>\n",
       "      <td>260.93</td>\n",
       "      <td>355.0</td>\n",
       "      <td>BEAUTY PERSONAL CARE</td>\n",
       "      <td>https://articulo.mercadolibre.com.mx/MLM-17883...</td>\n",
       "      <td>BEAUTY PERSONAL CARE</td>\n",
       "      <td>CUIDADO PERSONAL Y BELLEZA</td>\n",
       "      <td>NaN</td>\n",
       "      <td>NaN</td>\n",
       "      <td>NaN</td>\n",
       "      <td>FBM</td>\n",
       "      <td>FulfilledbyMerchant</td>\n",
       "      <td>Stock: 16155; Refurbished: 0; Logistic: Fulfil...</td>\n",
       "    </tr>\n",
       "    <tr>\n",
       "      <th>1</th>\n",
       "      <td>2024-08-01</td>\n",
       "      <td>5a39342818</td>\n",
       "      <td>Kit Garnier Express Aclara Serum +crema +gel C...</td>\n",
       "      <td>green_platinum</td>\n",
       "      <td>6253</td>\n",
       "      <td>FBM</td>\n",
       "      <td>new</td>\n",
       "      <td>0</td>\n",
       "      <td>344.26</td>\n",
       "      <td>NaN</td>\n",
       "      <td>BEAUTY PERSONAL CARE</td>\n",
       "      <td>https://articulo.mercadolibre.com.mx/MLM-31259...</td>\n",
       "      <td>BEAUTY PERSONAL CARE</td>\n",
       "      <td>CUIDADO PERSONAL Y BELLEZA</td>\n",
       "      <td>NaN</td>\n",
       "      <td>NaN</td>\n",
       "      <td>NaN</td>\n",
       "      <td>FBM</td>\n",
       "      <td>FulfilledbyMerchant</td>\n",
       "      <td>Stock: 6253; Refurbished: 0; Logistic: Fulfill...</td>\n",
       "    </tr>\n",
       "  </tbody>\n",
       "</table>\n",
       "</div>"
      ],
      "text/plain": [
       "      tim_day seller_nickname  \\\n",
       "0  2024-08-01      5a39342818   \n",
       "1  2024-08-01      5a39342818   \n",
       "\n",
       "                                              titulo seller_reputation  stock  \\\n",
       "0  Gel Cerave Limpiador Espumoso Piel Normal A Gr...    green_platinum  16155   \n",
       "1  Kit Garnier Express Aclara Serum +crema +gel C...    green_platinum   6253   \n",
       "\n",
       "  logistic_type condition is_refurbished   price  regular_price  \\\n",
       "0           FBM       new              0  260.93          355.0   \n",
       "1           FBM       new              0  344.26            NaN   \n",
       "\n",
       "              categoria                                                url  \\\n",
       "0  BEAUTY PERSONAL CARE  https://articulo.mercadolibre.com.mx/MLM-17883...   \n",
       "1  BEAUTY PERSONAL CARE  https://articulo.mercadolibre.com.mx/MLM-31259...   \n",
       "\n",
       "            category_id               category_name  Kmeans  AgC  products  \\\n",
       "0  BEAUTY PERSONAL CARE  CUIDADO PERSONAL Y BELLEZA     NaN  NaN       NaN   \n",
       "1  BEAUTY PERSONAL CARE  CUIDADO PERSONAL Y BELLEZA     NaN  NaN       NaN   \n",
       "\n",
       "  Siglas_lt                   Lt  \\\n",
       "0       FBM  FulfilledbyMerchant   \n",
       "1       FBM  FulfilledbyMerchant   \n",
       "\n",
       "                                                 mix  \n",
       "0  Stock: 16155; Refurbished: 0; Logistic: Fulfil...  \n",
       "1  Stock: 6253; Refurbished: 0; Logistic: Fulfill...  "
      ]
     },
     "execution_count": 41,
     "metadata": {},
     "output_type": "execute_result"
    }
   ],
   "source": [
    "df['mix'] = \"Stock: \" + df['stock'].str.strip() + \"; Refurbished: \" + df['is_refurbished'].str.strip() + \"; Logistic: \" + df['Lt'].str.strip()+ \"; Condition: \" + df.condition.str.strip() + \"; Price: \" + df.price.str.strip() + \"; Categoria \" + df['category_id'].str.strip()\n",
    "print(df.shape)\n",
    "\n",
    "\n",
    "df.head(2)"
   ]
  },
  {
   "cell_type": "markdown",
   "id": "5e7575fe",
   "metadata": {},
   "source": [
    "#### Como mencione anteriormente seleccionaremos 50 de cada cluster para tener una data de 210 registros, donde 10 son de validacion."
   ]
  },
  {
   "cell_type": "code",
   "execution_count": null,
   "id": "89ea1e94",
   "metadata": {},
   "outputs": [
    {
     "data": {
      "text/plain": [
       "Index(['tim_day', 'seller_nickname', 'titulo', 'seller_reputation', 'stock',\n",
       "       'logistic_type', 'condition', 'is_refurbished', 'price',\n",
       "       'regular_price', 'categoria', 'url', 'category_id', 'category_name',\n",
       "       'Kmeans', 'AgC', 'products', 'Siglas_lt', 'Lt', 'mix'],\n",
       "      dtype='object')"
      ]
     },
     "execution_count": 42,
     "metadata": {},
     "output_type": "execute_result"
    }
   ],
   "source": [
    "df.columns"
   ]
  },
  {
   "cell_type": "code",
   "execution_count": null,
   "id": "88f77d8f",
   "metadata": {},
   "outputs": [
    {
     "name": "stdout",
     "output_type": "stream",
     "text": [
      "Cluster 0\n",
      "Cluster 1\n",
      "Cluster 2\n",
      "Cluster 3\n",
      "(200, 20)\n",
      "Kmeans\n",
      "0.0    50\n",
      "1.0    50\n",
      "2.0    50\n",
      "3.0    50\n",
      "Name: count, dtype: int64\n",
      "(210, 20)\n"
     ]
    },
    {
     "data": {
      "text/html": [
       "<div>\n",
       "<style scoped>\n",
       "    .dataframe tbody tr th:only-of-type {\n",
       "        vertical-align: middle;\n",
       "    }\n",
       "\n",
       "    .dataframe tbody tr th {\n",
       "        vertical-align: top;\n",
       "    }\n",
       "\n",
       "    .dataframe thead th {\n",
       "        text-align: right;\n",
       "    }\n",
       "</style>\n",
       "<table border=\"1\" class=\"dataframe\">\n",
       "  <thead>\n",
       "    <tr style=\"text-align: right;\">\n",
       "      <th></th>\n",
       "      <th>tim_day</th>\n",
       "      <th>seller_nickname</th>\n",
       "      <th>titulo</th>\n",
       "      <th>seller_reputation</th>\n",
       "      <th>stock</th>\n",
       "      <th>logistic_type</th>\n",
       "      <th>condition</th>\n",
       "      <th>is_refurbished</th>\n",
       "      <th>price</th>\n",
       "      <th>regular_price</th>\n",
       "      <th>categoria</th>\n",
       "      <th>url</th>\n",
       "      <th>category_id</th>\n",
       "      <th>category_name</th>\n",
       "      <th>Kmeans</th>\n",
       "      <th>AgC</th>\n",
       "      <th>products</th>\n",
       "      <th>Siglas_lt</th>\n",
       "      <th>Lt</th>\n",
       "      <th>mix</th>\n",
       "    </tr>\n",
       "  </thead>\n",
       "  <tbody>\n",
       "    <tr>\n",
       "      <th>0</th>\n",
       "      <td>2024-08-01</td>\n",
       "      <td>7ef2f8612c</td>\n",
       "      <td>Cabecera Queen Size Dicasa Aries Gris</td>\n",
       "      <td>red</td>\n",
       "      <td>1</td>\n",
       "      <td>Otro</td>\n",
       "      <td>new</td>\n",
       "      <td>0</td>\n",
       "      <td>3699.0</td>\n",
       "      <td>NaN</td>\n",
       "      <td>FURNITURE</td>\n",
       "      <td>https://articulo.mercadolibre.com.mx/MLM-20566...</td>\n",
       "      <td>FURNITURE</td>\n",
       "      <td>MUEBLES</td>\n",
       "      <td>3.0</td>\n",
       "      <td>0.0</td>\n",
       "      <td>11.0</td>\n",
       "      <td>Otro</td>\n",
       "      <td>Otro</td>\n",
       "      <td>Stock: 1; Refurbished: 0; Logistic: Otro; Cond...</td>\n",
       "    </tr>\n",
       "    <tr>\n",
       "      <th>1</th>\n",
       "      <td>2024-08-01</td>\n",
       "      <td>f47a79fba8</td>\n",
       "      <td>Reproduccion Medallas Americanas Antiguas</td>\n",
       "      <td>green</td>\n",
       "      <td>1</td>\n",
       "      <td>Otro</td>\n",
       "      <td>used</td>\n",
       "      <td>0</td>\n",
       "      <td>1364.58</td>\n",
       "      <td>NaN</td>\n",
       "      <td>OTHER</td>\n",
       "      <td>https://articulo.mercadolibre.com.mx/MLM-13979...</td>\n",
       "      <td>OTHER</td>\n",
       "      <td>OTROS</td>\n",
       "      <td>3.0</td>\n",
       "      <td>0.0</td>\n",
       "      <td>14.0</td>\n",
       "      <td>Otro</td>\n",
       "      <td>Otro</td>\n",
       "      <td>Stock: 1; Refurbished: 0; Logistic: Otro; Cond...</td>\n",
       "    </tr>\n",
       "  </tbody>\n",
       "</table>\n",
       "</div>"
      ],
      "text/plain": [
       "      tim_day seller_nickname                                     titulo  \\\n",
       "0  2024-08-01      7ef2f8612c      Cabecera Queen Size Dicasa Aries Gris   \n",
       "1  2024-08-01      f47a79fba8  Reproduccion Medallas Americanas Antiguas   \n",
       "\n",
       "  seller_reputation stock logistic_type condition is_refurbished    price  \\\n",
       "0               red     1          Otro       new              0   3699.0   \n",
       "1             green     1          Otro      used              0  1364.58   \n",
       "\n",
       "  regular_price  categoria                                                url  \\\n",
       "0           NaN  FURNITURE  https://articulo.mercadolibre.com.mx/MLM-20566...   \n",
       "1           NaN      OTHER  https://articulo.mercadolibre.com.mx/MLM-13979...   \n",
       "\n",
       "  category_id category_name Kmeans  AgC products Siglas_lt    Lt  \\\n",
       "0   FURNITURE       MUEBLES    3.0  0.0     11.0      Otro  Otro   \n",
       "1       OTHER         OTROS    3.0  0.0     14.0      Otro  Otro   \n",
       "\n",
       "                                                 mix  \n",
       "0  Stock: 1; Refurbished: 0; Logistic: Otro; Cond...  \n",
       "1  Stock: 1; Refurbished: 0; Logistic: Otro; Cond...  "
      ]
     },
     "execution_count": 43,
     "metadata": {},
     "output_type": "execute_result"
    }
   ],
   "source": [
    "col = ['tim_day', 'seller_nickname', 'titulo', 'seller_reputation', 'stock',\n",
    "       'logistic_type', 'condition', 'is_refurbished', 'price',\n",
    "       'regular_price', 'categoria', 'url', 'category_id', 'category_name',\n",
    "        'Kmeans', 'AgC', 'products','Siglas_lt', 'Lt', 'mix']\n",
    "cntxcluster = 50\n",
    "clusters=4\n",
    "dfy=pd.DataFrame()\n",
    "for i in range(0,clusters): # Sacamos los 50 registros de cada cluster.\n",
    "    print(f\"Cluster {i}\")\n",
    "    reviews = df[df.Kmeans == i].sample(cntxcluster, random_state=42).values\n",
    "    dfx = pd.DataFrame(data=reviews,columns=col)\n",
    "    dfy = pd.concat([dfy,dfx], axis=0)\n",
    "\n",
    "\n",
    "\n",
    "print(dfy.shape)\n",
    "print(dfy.Kmeans.value_counts())\n",
    "dfy = pd.concat([dfy,df[df['Kmeans'].isnull()][:10]], axis=0) # concatenamos con los vacios\n",
    "print(dfy.shape)\n",
    "dfy = dfy.iloc[np.random.permutation(len(dfy))].reset_index(drop=True)\n",
    "dfy.head(2)"
   ]
  },
  {
   "cell_type": "markdown",
   "id": "f3e63449",
   "metadata": {},
   "source": [
    "<a id=\"2\"></a> <br>\n",
    "# 2. Preprocesamiento de Datos"
   ]
  },
  {
   "cell_type": "markdown",
   "id": "0d5949fd",
   "metadata": {},
   "source": [
    "#### Ya con la data seleccionada ahora lo que realizaremos sera la tokenizacion  con tiktoken utilizando el encoding de 3-small definido al inicio."
   ]
  },
  {
   "cell_type": "code",
   "execution_count": null,
   "id": "31f252c7",
   "metadata": {},
   "outputs": [],
   "source": [
    "encoding = tiktoken.get_encoding(embedding_encoding)\n",
    "\n",
    "#Dado que utilizar la API de OpenAI no es gratis, debemos tartar de controlar los token\n",
    "#que vamos a gastar con el fin de no gastar creditos innecesarios. por esa razon no tomamos la variable titulo\n",
    "#ya que es demasiada grande esus strings.\n",
    "# tambien es importante revisar que tanto es la maxima cantidad de token ya que se el\n",
    "# 3-small tienen un limite de 8000 tokens por entrada o por registro.\n",
    "dfy['tokens'] = dfy.mix.apply(lambda x: len(encoding.encode(x)))\n"
   ]
  },
  {
   "cell_type": "code",
   "execution_count": null,
   "id": "0e43add4",
   "metadata": {},
   "outputs": [
    {
     "name": "stdout",
     "output_type": "stream",
     "text": [
      "7403\n"
     ]
    },
    {
     "data": {
      "image/png": "[encoded data removed]",
      "text/plain": [
       "<Figure size 640x480 with 1 Axes>"
      ]
     },
     "metadata": {},
     "output_type": "display_data"
    }
   ],
   "source": [
    "print(sum(dfy.tokens.values))\n",
    "plt.hist(dfy.tokens, bins= 40);\n"
   ]
  },
  {
   "cell_type": "markdown",
   "id": "8a0bacad",
   "metadata": {},
   "source": [
    "<a id=\"3\"></a> <br>\n",
    "# 3. Generacion de Embedding"
   ]
  },
  {
   "cell_type": "markdown",
   "id": "5db1049d",
   "metadata": {},
   "source": [
    "##### para esta primera prueba utilizaremos de input 85977 tokens de entrada y de respuesta seran 250."
   ]
  },
  {
   "cell_type": "code",
   "execution_count": null,
   "id": "dcd0c0f5",
   "metadata": {},
   "outputs": [],
   "source": [
    "# antes de correr cualquier modelo de la api de openai debemos asegurarnos que esta ya esta,\n",
    "#completamente configurada en el ambiente.\n",
    "\n",
    "#ahora\n",
    "#dfy[\"embedding\"] = dfy.mix.apply(lambda x: get_embedding(x, model=embedding_model))\n",
    "\n"
   ]
  },
  {
   "cell_type": "code",
   "execution_count": null,
   "id": "f4d618bf",
   "metadata": {},
   "outputs": [
    {
     "data": {
      "text/html": [
       "<div>\n",
       "<style scoped>\n",
       "    .dataframe tbody tr th:only-of-type {\n",
       "        vertical-align: middle;\n",
       "    }\n",
       "\n",
       "    .dataframe tbody tr th {\n",
       "        vertical-align: top;\n",
       "    }\n",
       "\n",
       "    .dataframe thead th {\n",
       "        text-align: right;\n",
       "    }\n",
       "</style>\n",
       "<table border=\"1\" class=\"dataframe\">\n",
       "  <thead>\n",
       "    <tr style=\"text-align: right;\">\n",
       "      <th></th>\n",
       "      <th>tim_day</th>\n",
       "      <th>seller_nickname</th>\n",
       "      <th>titulo</th>\n",
       "      <th>seller_reputation</th>\n",
       "      <th>stock</th>\n",
       "      <th>logistic_type</th>\n",
       "      <th>condition</th>\n",
       "      <th>is_refurbished</th>\n",
       "      <th>price</th>\n",
       "      <th>regular_price</th>\n",
       "      <th>...</th>\n",
       "      <th>category_id</th>\n",
       "      <th>category_name</th>\n",
       "      <th>Kmeans</th>\n",
       "      <th>AgC</th>\n",
       "      <th>products</th>\n",
       "      <th>Siglas_lt</th>\n",
       "      <th>Lt</th>\n",
       "      <th>mix</th>\n",
       "      <th>tokens</th>\n",
       "      <th>embedding</th>\n",
       "    </tr>\n",
       "  </thead>\n",
       "  <tbody>\n",
       "    <tr>\n",
       "      <th>0</th>\n",
       "      <td>2024-08-01</td>\n",
       "      <td>7ef2f8612c</td>\n",
       "      <td>Cabecera Queen Size Dicasa Aries Gris</td>\n",
       "      <td>red</td>\n",
       "      <td>1</td>\n",
       "      <td>Otro</td>\n",
       "      <td>new</td>\n",
       "      <td>0</td>\n",
       "      <td>3699.0</td>\n",
       "      <td>NaN</td>\n",
       "      <td>...</td>\n",
       "      <td>FURNITURE</td>\n",
       "      <td>MUEBLES</td>\n",
       "      <td>3.0</td>\n",
       "      <td>0.0</td>\n",
       "      <td>11.0</td>\n",
       "      <td>Otro</td>\n",
       "      <td>Otro</td>\n",
       "      <td>Stock: 1; Refurbished: 0; Logistic: Otro; Cond...</td>\n",
       "      <td>34</td>\n",
       "      <td>[-0.032292187213897705, 0.017587708309292793, ...</td>\n",
       "    </tr>\n",
       "    <tr>\n",
       "      <th>1</th>\n",
       "      <td>2024-08-01</td>\n",
       "      <td>f47a79fba8</td>\n",
       "      <td>Reproduccion Medallas Americanas Antiguas</td>\n",
       "      <td>green</td>\n",
       "      <td>1</td>\n",
       "      <td>Otro</td>\n",
       "      <td>used</td>\n",
       "      <td>0</td>\n",
       "      <td>1364.58</td>\n",
       "      <td>NaN</td>\n",
       "      <td>...</td>\n",
       "      <td>OTHER</td>\n",
       "      <td>OTROS</td>\n",
       "      <td>3.0</td>\n",
       "      <td>0.0</td>\n",
       "      <td>14.0</td>\n",
       "      <td>Otro</td>\n",
       "      <td>Otro</td>\n",
       "      <td>Stock: 1; Refurbished: 0; Logistic: Otro; Cond...</td>\n",
       "      <td>31</td>\n",
       "      <td>[-0.03797304257750511, 0.024722589179873466, -...</td>\n",
       "    </tr>\n",
       "    <tr>\n",
       "      <th>2</th>\n",
       "      <td>2024-08-01</td>\n",
       "      <td>d632aaa54e</td>\n",
       "      <td>Alcohol Isopropílico 99.8% Puro 1 Litro Quimik...</td>\n",
       "      <td>green_gold</td>\n",
       "      <td>39</td>\n",
       "      <td>Otro</td>\n",
       "      <td>new</td>\n",
       "      <td>0</td>\n",
       "      <td>118.0</td>\n",
       "      <td>NaN</td>\n",
       "      <td>...</td>\n",
       "      <td>IT PERIPHERALS, PARTS &amp; ACCESSORIES</td>\n",
       "      <td>PERIFÉRICOS Y ACCESORIOS DE INFORMÁTICA</td>\n",
       "      <td>2.0</td>\n",
       "      <td>0.0</td>\n",
       "      <td>5.0</td>\n",
       "      <td>Otro</td>\n",
       "      <td>Otro</td>\n",
       "      <td>Stock: 39; Refurbished: 0; Logistic: Otro; Con...</td>\n",
       "      <td>39</td>\n",
       "      <td>[-0.039741143584251404, 0.025698775425553322, ...</td>\n",
       "    </tr>\n",
       "    <tr>\n",
       "      <th>3</th>\n",
       "      <td>2024-08-01</td>\n",
       "      <td>a9c03cf5a9</td>\n",
       "      <td>2 Ml En Decant De Desirtoxic De M. Micallef Pe...</td>\n",
       "      <td>green_gold</td>\n",
       "      <td>1</td>\n",
       "      <td>XD</td>\n",
       "      <td>new</td>\n",
       "      <td>0</td>\n",
       "      <td>235.0</td>\n",
       "      <td>NaN</td>\n",
       "      <td>...</td>\n",
       "      <td>FRAGRANCES &amp; MAKE UP</td>\n",
       "      <td>FRAGANCIAS Y MAQUILLAJE</td>\n",
       "      <td>1.0</td>\n",
       "      <td>1.0</td>\n",
       "      <td>17.0</td>\n",
       "      <td>XD</td>\n",
       "      <td>Cross Docking</td>\n",
       "      <td>Stock: 1; Refurbished: 0; Logistic: Cross Dock...</td>\n",
       "      <td>36</td>\n",
       "      <td>[-0.012618849985301495, 0.005941668525338173, ...</td>\n",
       "    </tr>\n",
       "    <tr>\n",
       "      <th>4</th>\n",
       "      <td>2024-08-01</td>\n",
       "      <td>4e5692f432</td>\n",
       "      <td>1989 Toy Biz Super Heroes Wonder Woman Power A...</td>\n",
       "      <td>green</td>\n",
       "      <td>1</td>\n",
       "      <td>XD</td>\n",
       "      <td>used</td>\n",
       "      <td>0</td>\n",
       "      <td>1420.0</td>\n",
       "      <td>NaN</td>\n",
       "      <td>...</td>\n",
       "      <td>TOYS AND GAMES</td>\n",
       "      <td>JUGUETES Y JUEGOS</td>\n",
       "      <td>3.0</td>\n",
       "      <td>0.0</td>\n",
       "      <td>13.0</td>\n",
       "      <td>XD</td>\n",
       "      <td>Cross Docking</td>\n",
       "      <td>Stock: 1; Refurbished: 0; Logistic: Cross Dock...</td>\n",
       "      <td>36</td>\n",
       "      <td>[-0.013756437227129936, 0.035540711134672165, ...</td>\n",
       "    </tr>\n",
       "  </tbody>\n",
       "</table>\n",
       "<p>5 rows × 22 columns</p>\n",
       "</div>"
      ],
      "text/plain": [
       "      tim_day seller_nickname  \\\n",
       "0  2024-08-01      7ef2f8612c   \n",
       "1  2024-08-01      f47a79fba8   \n",
       "2  2024-08-01      d632aaa54e   \n",
       "3  2024-08-01      a9c03cf5a9   \n",
       "4  2024-08-01      4e5692f432   \n",
       "\n",
       "                                              titulo seller_reputation stock  \\\n",
       "0              Cabecera Queen Size Dicasa Aries Gris               red     1   \n",
       "1          Reproduccion Medallas Americanas Antiguas             green     1   \n",
       "2  Alcohol Isopropílico 99.8% Puro 1 Litro Quimik...        green_gold    39   \n",
       "3  2 Ml En Decant De Desirtoxic De M. Micallef Pe...        green_gold     1   \n",
       "4  1989 Toy Biz Super Heroes Wonder Woman Power A...             green     1   \n",
       "\n",
       "  logistic_type condition is_refurbished    price regular_price  ...  \\\n",
       "0          Otro       new              0   3699.0           NaN  ...   \n",
       "1          Otro      used              0  1364.58           NaN  ...   \n",
       "2          Otro       new              0    118.0           NaN  ...   \n",
       "3            XD       new              0    235.0           NaN  ...   \n",
       "4            XD      used              0   1420.0           NaN  ...   \n",
       "\n",
       "                           category_id  \\\n",
       "0                            FURNITURE   \n",
       "1                                OTHER   \n",
       "2  IT PERIPHERALS, PARTS & ACCESSORIES   \n",
       "3                 FRAGRANCES & MAKE UP   \n",
       "4                       TOYS AND GAMES   \n",
       "\n",
       "                             category_name Kmeans  AgC products Siglas_lt  \\\n",
       "0                                  MUEBLES    3.0  0.0     11.0      Otro   \n",
       "1                                    OTROS    3.0  0.0     14.0      Otro   \n",
       "2  PERIFÉRICOS Y ACCESORIOS DE INFORMÁTICA    2.0  0.0      5.0      Otro   \n",
       "3                  FRAGANCIAS Y MAQUILLAJE    1.0  1.0     17.0        XD   \n",
       "4                        JUGUETES Y JUEGOS    3.0  0.0     13.0        XD   \n",
       "\n",
       "              Lt                                                mix tokens  \\\n",
       "0           Otro  Stock: 1; Refurbished: 0; Logistic: Otro; Cond...     34   \n",
       "1           Otro  Stock: 1; Refurbished: 0; Logistic: Otro; Cond...     31   \n",
       "2           Otro  Stock: 39; Refurbished: 0; Logistic: Otro; Con...     39   \n",
       "3  Cross Docking  Stock: 1; Refurbished: 0; Logistic: Cross Dock...     36   \n",
       "4  Cross Docking  Stock: 1; Refurbished: 0; Logistic: Cross Dock...     36   \n",
       "\n",
       "                                           embedding  \n",
       "0  [-0.032292187213897705, 0.017587708309292793, ...  \n",
       "1  [-0.03797304257750511, 0.024722589179873466, -...  \n",
       "2  [-0.039741143584251404, 0.025698775425553322, ...  \n",
       "3  [-0.012618849985301495, 0.005941668525338173, ...  \n",
       "4  [-0.013756437227129936, 0.035540711134672165, ...  \n",
       "\n",
       "[5 rows x 22 columns]"
      ]
     },
     "execution_count": 47,
     "metadata": {},
     "output_type": "execute_result"
    }
   ],
   "source": [
    "dfy.head(5)"
   ]
  },
  {
   "cell_type": "code",
   "execution_count": null,
   "id": "d47bd0f0",
   "metadata": {},
   "outputs": [
    {
     "name": "stdout",
     "output_type": "stream",
     "text": [
      "(210,)\n"
     ]
    },
    {
     "data": {
      "text/plain": [
       "0      [-0.032292187213897705, 0.017587708309292793, ...\n",
       "1      [-0.03797304257750511, 0.024722589179873466, -...\n",
       "2      [-0.039741143584251404, 0.025698775425553322, ...\n",
       "3      [-0.012618849985301495, 0.005941668525338173, ...\n",
       "4      [-0.013756437227129936, 0.035540711134672165, ...\n",
       "                             ...                        \n",
       "205    [-0.02608417347073555, 0.022233540192246437, -...\n",
       "206    [-0.041574642062187195, 0.031311675906181335, ...\n",
       "207    [-0.03605155274271965, 0.047306548804044724, -...\n",
       "208    [-0.0022978964261710644, 0.03379932418465614, ...\n",
       "209    [-0.04414993152022362, 0.021153071895241737, -...\n",
       "Name: embedding, Length: 210, dtype: object"
      ]
     },
     "execution_count": 48,
     "metadata": {},
     "output_type": "execute_result"
    }
   ],
   "source": [
    "#ahora vemos nuestras lista los embedding desde 3-small de la muestra de nuestros datos.\n",
    "print(dfy['embedding'].shape)\n",
    "dfy['embedding']"
   ]
  },
  {
   "cell_type": "markdown",
   "id": "05051b1b",
   "metadata": {},
   "source": [
    "<a id=\"4\"></a> <br>\n",
    "# 4. Exportacion del Embedding"
   ]
  },
  {
   "cell_type": "code",
   "execution_count": null,
   "id": "6b713504",
   "metadata": {},
   "outputs": [],
   "source": [
    "dfy.to_csv(\"data/data_embedding_270.csv\")\n"
   ]
  }
 ],
 "metadata": {
  "kernelspec": {
   "display_name": "openai",
   "language": "python",
   "name": "python3"
  },
  "language_info": {
   "codemirror_mode": {
    "name": "ipython",
    "version": 3
   },
   "file_extension": ".py",
   "mimetype": "text/x-python",
   "name": "python",
   "nbconvert_exporter": "python",
   "pygments_lexer": "ipython3",
   "version": "3.11.13"
  }
 },
 "nbformat": 4,
 "nbformat_minor": 5
}
