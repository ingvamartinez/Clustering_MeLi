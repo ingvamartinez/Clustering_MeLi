{
 "cells": [
  {
   "cell_type": "markdown",
   "id": "237e6bb7",
   "metadata": {},
   "source": [
    "![](../src/image/meli5.JPG)"
   ]
  },
  {
   "cell_type": "markdown",
   "id": "b5e5fb69",
   "metadata": {},
   "source": [
    "# Generador Embeddings Text-Embedding-3-Small\n",
    "\n",
    "#### En este punto usare  el text-embedding-3-small para la generacion de los embeddings.\n",
    "\n",
    "### Pasos\n",
    "1. [Preparacion de la data.](#1)\n",
    "1. [Preprocesamiento de los datos.](#2)\n",
    "1. [Generacion de Embedding](#3)\n",
    "1. [Extraccion de Embedding](#4)\n",
    "\n"
   ]
  },
  {
   "cell_type": "markdown",
   "id": "cfce241d",
   "metadata": {},
   "source": [
    "<a id=\"1\"></a> <br>\n",
    "## 1.Preparacion de la data\n",
    "\n",
    "#### El dataset usado es el proporcionado en el ejercicio ya con las etiquetas obtenidas en la clusterizacion. El dataset posee 185250 registros los cuales 117094 poseen etiquetas. Esta data mantiene la informacion de sellers de un e-commerce. de los cuales tomaremos 50 registros de cada cluster, 10 de los que no tienen etiqueta para la prediccion.\n",
    "\n",
    "#### Combinaran las variables, y con el modelo se codificara las variables combinadas y dara resultado un vector embedding"
   ]
  },
  {
   "cell_type": "code",
   "execution_count": 14,
   "id": "cae894d9",
   "metadata": {},
   "outputs": [],
   "source": [
    "import pandas as pd\n",
    "import tiktoken\n",
    "import matplotlib.pyplot as plt\n",
    "import numpy as np\n",
    "\n",
    "from utils.embeddings_utils import get_embedding"
   ]
  },
  {
   "cell_type": "code",
   "execution_count": 15,
   "id": "bd231f72",
   "metadata": {},
   "outputs": [],
   "source": [
    "embedding_model = \"text-embedding-3-small\"\n",
    "embedding_encoding = \"cl100k_base\"\n",
    "max_tokens = 8000  "
   ]
  },
  {
   "cell_type": "code",
   "execution_count": 16,
   "id": "55350613",
   "metadata": {},
   "outputs": [],
   "source": [
    "path = 'data/data_embedding copy.csv'\n",
    "df = pd.read_csv(path)"
   ]
  },
  {
   "cell_type": "code",
   "execution_count": 17,
   "id": "b4eec043",
   "metadata": {},
   "outputs": [
    {
     "name": "stdout",
     "output_type": "stream",
     "text": [
      "<class 'pandas.core.frame.DataFrame'>\n",
      "RangeIndex: 32529 entries, 0 to 32528\n",
      "Data columns (total 17 columns):\n",
      " #   Column             Non-Null Count  Dtype  \n",
      "---  ------             --------------  -----  \n",
      " 0   Unnamed: 0         32529 non-null  int64  \n",
      " 1   tim_day            32529 non-null  object \n",
      " 2   seller_nickname    32529 non-null  object \n",
      " 3   titulo             32529 non-null  object \n",
      " 4   seller_reputation  32529 non-null  object \n",
      " 5   stock              32529 non-null  int64  \n",
      " 6   logistic_type      32529 non-null  object \n",
      " 7   condition          32529 non-null  object \n",
      " 8   is_refurbished     32529 non-null  bool   \n",
      " 9   price              32529 non-null  float64\n",
      " 10  regular_price      32529 non-null  float64\n",
      " 11  categoria          32529 non-null  object \n",
      " 12  url                32529 non-null  object \n",
      " 13  category_id        32529 non-null  object \n",
      " 14  category_name      32529 non-null  object \n",
      " 15  Kmeans             32529 non-null  float64\n",
      " 16  AgC                32529 non-null  float64\n",
      "dtypes: bool(1), float64(4), int64(2), object(10)\n",
      "memory usage: 4.0+ MB\n"
     ]
    }
   ],
   "source": [
    "df.info()"
   ]
  },
  {
   "cell_type": "code",
   "execution_count": 18,
   "id": "983db2a0",
   "metadata": {},
   "outputs": [
    {
     "data": {
      "text/html": [
       "<div>\n",
       "<style scoped>\n",
       "    .dataframe tbody tr th:only-of-type {\n",
       "        vertical-align: middle;\n",
       "    }\n",
       "\n",
       "    .dataframe tbody tr th {\n",
       "        vertical-align: top;\n",
       "    }\n",
       "\n",
       "    .dataframe thead th {\n",
       "        text-align: right;\n",
       "    }\n",
       "</style>\n",
       "<table border=\"1\" class=\"dataframe\">\n",
       "  <thead>\n",
       "    <tr style=\"text-align: right;\">\n",
       "      <th></th>\n",
       "      <th>Unnamed: 0</th>\n",
       "      <th>tim_day</th>\n",
       "      <th>seller_nickname</th>\n",
       "      <th>titulo</th>\n",
       "      <th>seller_reputation</th>\n",
       "      <th>stock</th>\n",
       "      <th>logistic_type</th>\n",
       "      <th>condition</th>\n",
       "      <th>is_refurbished</th>\n",
       "      <th>price</th>\n",
       "      <th>regular_price</th>\n",
       "      <th>categoria</th>\n",
       "      <th>url</th>\n",
       "      <th>category_id</th>\n",
       "      <th>category_name</th>\n",
       "      <th>Kmeans</th>\n",
       "      <th>AgC</th>\n",
       "      <th>Siglas_lt</th>\n",
       "      <th>Lt</th>\n",
       "    </tr>\n",
       "  </thead>\n",
       "  <tbody>\n",
       "    <tr>\n",
       "      <th>0</th>\n",
       "      <td>8</td>\n",
       "      <td>2024-08-01</td>\n",
       "      <td>92a7303a20</td>\n",
       "      <td>Gama De 12 Geles Semipermanente Esmalte Obp - ...</td>\n",
       "      <td>green_platinum</td>\n",
       "      <td>3020</td>\n",
       "      <td>FBM</td>\n",
       "      <td>new</td>\n",
       "      <td>False</td>\n",
       "      <td>198.34</td>\n",
       "      <td>211.0</td>\n",
       "      <td>MANICURE &amp; PEDICURE</td>\n",
       "      <td>https://articulo.mercadolibre.com.mx/MLM-13745...</td>\n",
       "      <td>MANICURE &amp; PEDICURE</td>\n",
       "      <td>MANICURA Y PEDICURA</td>\n",
       "      <td>0.0</td>\n",
       "      <td>0.0</td>\n",
       "      <td>FBM</td>\n",
       "      <td>FulfilledbyMerchant</td>\n",
       "    </tr>\n",
       "    <tr>\n",
       "      <th>1</th>\n",
       "      <td>15</td>\n",
       "      <td>2024-08-01</td>\n",
       "      <td>187ad66fb4</td>\n",
       "      <td>Extensiones Pestañas Diy, Kit De Racimos De Pe...</td>\n",
       "      <td>green_platinum</td>\n",
       "      <td>557</td>\n",
       "      <td>FBM</td>\n",
       "      <td>new</td>\n",
       "      <td>False</td>\n",
       "      <td>255.60</td>\n",
       "      <td>360.0</td>\n",
       "      <td>BEAUTY PROFESSIONAL</td>\n",
       "      <td>https://articulo.mercadolibre.com.mx/MLM-19888...</td>\n",
       "      <td>BEAUTY PROFESSIONAL</td>\n",
       "      <td>BELLEZA PROFESIONAL</td>\n",
       "      <td>0.0</td>\n",
       "      <td>0.0</td>\n",
       "      <td>FBM</td>\n",
       "      <td>FulfilledbyMerchant</td>\n",
       "    </tr>\n",
       "  </tbody>\n",
       "</table>\n",
       "</div>"
      ],
      "text/plain": [
       "   Unnamed: 0     tim_day seller_nickname  \\\n",
       "0           8  2024-08-01      92a7303a20   \n",
       "1          15  2024-08-01      187ad66fb4   \n",
       "\n",
       "                                              titulo seller_reputation  stock  \\\n",
       "0  Gama De 12 Geles Semipermanente Esmalte Obp - ...    green_platinum   3020   \n",
       "1  Extensiones Pestañas Diy, Kit De Racimos De Pe...    green_platinum    557   \n",
       "\n",
       "  logistic_type condition  is_refurbished   price  regular_price  \\\n",
       "0           FBM       new           False  198.34          211.0   \n",
       "1           FBM       new           False  255.60          360.0   \n",
       "\n",
       "             categoria                                                url  \\\n",
       "0  MANICURE & PEDICURE  https://articulo.mercadolibre.com.mx/MLM-13745...   \n",
       "1  BEAUTY PROFESSIONAL  https://articulo.mercadolibre.com.mx/MLM-19888...   \n",
       "\n",
       "           category_id        category_name  Kmeans  AgC Siglas_lt  \\\n",
       "0  MANICURE & PEDICURE  MANICURA Y PEDICURA     0.0  0.0       FBM   \n",
       "1  BEAUTY PROFESSIONAL  BELLEZA PROFESIONAL     0.0  0.0       FBM   \n",
       "\n",
       "                    Lt  \n",
       "0  FulfilledbyMerchant  \n",
       "1  FulfilledbyMerchant  "
      ]
     },
     "execution_count": 18,
     "metadata": {},
     "output_type": "execute_result"
    }
   ],
   "source": [
    "siglas = ['XD', 'FBM', 'DS', 'FLEX', 'Otro']\n",
    "logistic_type = ['Cross Docking', 'FulfilledbyMerchant', 'DropShipping', 'FLEX', 'Otro']\n",
    "\n",
    "df_lgt = pd.DataFrame(data={'Siglas_lt':siglas,\"Lt\":logistic_type})\n",
    "df=pd.merge(left=df, right=df_lgt, how='left', left_on='logistic_type',right_on='Siglas_lt')\n",
    "df.head(2)"
   ]
  },
  {
   "cell_type": "code",
   "execution_count": 19,
   "id": "6f68b301",
   "metadata": {},
   "outputs": [
    {
     "data": {
      "text/plain": [
       "Index(['Unnamed: 0', 'tim_day', 'seller_nickname', 'titulo',\n",
       "       'seller_reputation', 'stock', 'logistic_type', 'condition',\n",
       "       'is_refurbished', 'price', 'regular_price', 'categoria', 'url',\n",
       "       'category_id', 'category_name', 'Kmeans', 'AgC', 'Siglas_lt', 'Lt'],\n",
       "      dtype='object')"
      ]
     },
     "execution_count": 19,
     "metadata": {},
     "output_type": "execute_result"
    }
   ],
   "source": [
    "df.columns"
   ]
  },
  {
   "cell_type": "code",
   "execution_count": 20,
   "id": "b6f2293b",
   "metadata": {},
   "outputs": [],
   "source": [
    "df['stock']=df['stock'].astype(str)\n",
    "df['price']=df['price'].astype(str)\n",
    "df['stock']=df['stock'].astype(str)\n",
    "df['is_refurbished']=df['is_refurbished'].astype(int)\n",
    "df['is_refurbished']=df['is_refurbished'].astype(str)\n",
    "df.drop('Unnamed: 0',axis=1,inplace=True)"
   ]
  },
  {
   "cell_type": "code",
   "execution_count": 21,
   "id": "5ed08658",
   "metadata": {},
   "outputs": [
    {
     "data": {
      "text/plain": [
       "(32529, 18)"
      ]
     },
     "execution_count": 21,
     "metadata": {},
     "output_type": "execute_result"
    }
   ],
   "source": [
    "df=df[df['seller_reputation'].isnull()==False]\n",
    "df.shape"
   ]
  },
  {
   "cell_type": "code",
   "execution_count": 22,
   "id": "1b89436e",
   "metadata": {},
   "outputs": [
    {
     "name": "stdout",
     "output_type": "stream",
     "text": [
      "<class 'pandas.core.frame.DataFrame'>\n",
      "RangeIndex: 32529 entries, 0 to 32528\n",
      "Data columns (total 18 columns):\n",
      " #   Column             Non-Null Count  Dtype  \n",
      "---  ------             --------------  -----  \n",
      " 0   tim_day            32529 non-null  object \n",
      " 1   seller_nickname    32529 non-null  object \n",
      " 2   titulo             32529 non-null  object \n",
      " 3   seller_reputation  32529 non-null  object \n",
      " 4   stock              32529 non-null  object \n",
      " 5   logistic_type      32529 non-null  object \n",
      " 6   condition          32529 non-null  object \n",
      " 7   is_refurbished     32529 non-null  object \n",
      " 8   price              32529 non-null  object \n",
      " 9   regular_price      32529 non-null  float64\n",
      " 10  categoria          32529 non-null  object \n",
      " 11  url                32529 non-null  object \n",
      " 12  category_id        32529 non-null  object \n",
      " 13  category_name      32529 non-null  object \n",
      " 14  Kmeans             32529 non-null  float64\n",
      " 15  AgC                32529 non-null  float64\n",
      " 16  Siglas_lt          32529 non-null  object \n",
      " 17  Lt                 32529 non-null  object \n",
      "dtypes: float64(3), object(15)\n",
      "memory usage: 4.5+ MB\n"
     ]
    }
   ],
   "source": [
    "df.info()"
   ]
  },
  {
   "cell_type": "code",
   "execution_count": 23,
   "id": "c8082b90",
   "metadata": {},
   "outputs": [
    {
     "name": "stdout",
     "output_type": "stream",
     "text": [
      "(32529, 19)\n"
     ]
    },
    {
     "data": {
      "text/html": [
       "<div>\n",
       "<style scoped>\n",
       "    .dataframe tbody tr th:only-of-type {\n",
       "        vertical-align: middle;\n",
       "    }\n",
       "\n",
       "    .dataframe tbody tr th {\n",
       "        vertical-align: top;\n",
       "    }\n",
       "\n",
       "    .dataframe thead th {\n",
       "        text-align: right;\n",
       "    }\n",
       "</style>\n",
       "<table border=\"1\" class=\"dataframe\">\n",
       "  <thead>\n",
       "    <tr style=\"text-align: right;\">\n",
       "      <th></th>\n",
       "      <th>tim_day</th>\n",
       "      <th>seller_nickname</th>\n",
       "      <th>titulo</th>\n",
       "      <th>seller_reputation</th>\n",
       "      <th>stock</th>\n",
       "      <th>logistic_type</th>\n",
       "      <th>condition</th>\n",
       "      <th>is_refurbished</th>\n",
       "      <th>price</th>\n",
       "      <th>regular_price</th>\n",
       "      <th>categoria</th>\n",
       "      <th>url</th>\n",
       "      <th>category_id</th>\n",
       "      <th>category_name</th>\n",
       "      <th>Kmeans</th>\n",
       "      <th>AgC</th>\n",
       "      <th>Siglas_lt</th>\n",
       "      <th>Lt</th>\n",
       "      <th>mix</th>\n",
       "    </tr>\n",
       "  </thead>\n",
       "  <tbody>\n",
       "    <tr>\n",
       "      <th>0</th>\n",
       "      <td>2024-08-01</td>\n",
       "      <td>92a7303a20</td>\n",
       "      <td>Gama De 12 Geles Semipermanente Esmalte Obp - ...</td>\n",
       "      <td>green_platinum</td>\n",
       "      <td>3020</td>\n",
       "      <td>FBM</td>\n",
       "      <td>new</td>\n",
       "      <td>0</td>\n",
       "      <td>198.34</td>\n",
       "      <td>211.0</td>\n",
       "      <td>MANICURE &amp; PEDICURE</td>\n",
       "      <td>https://articulo.mercadolibre.com.mx/MLM-13745...</td>\n",
       "      <td>MANICURE &amp; PEDICURE</td>\n",
       "      <td>MANICURA Y PEDICURA</td>\n",
       "      <td>0.0</td>\n",
       "      <td>0.0</td>\n",
       "      <td>FBM</td>\n",
       "      <td>FulfilledbyMerchant</td>\n",
       "      <td>Stock: 3020; Refurbished: 0; Logistic: Fulfill...</td>\n",
       "    </tr>\n",
       "    <tr>\n",
       "      <th>1</th>\n",
       "      <td>2024-08-01</td>\n",
       "      <td>187ad66fb4</td>\n",
       "      <td>Extensiones Pestañas Diy, Kit De Racimos De Pe...</td>\n",
       "      <td>green_platinum</td>\n",
       "      <td>557</td>\n",
       "      <td>FBM</td>\n",
       "      <td>new</td>\n",
       "      <td>0</td>\n",
       "      <td>255.6</td>\n",
       "      <td>360.0</td>\n",
       "      <td>BEAUTY PROFESSIONAL</td>\n",
       "      <td>https://articulo.mercadolibre.com.mx/MLM-19888...</td>\n",
       "      <td>BEAUTY PROFESSIONAL</td>\n",
       "      <td>BELLEZA PROFESIONAL</td>\n",
       "      <td>0.0</td>\n",
       "      <td>0.0</td>\n",
       "      <td>FBM</td>\n",
       "      <td>FulfilledbyMerchant</td>\n",
       "      <td>Stock: 557; Refurbished: 0; Logistic: Fulfille...</td>\n",
       "    </tr>\n",
       "  </tbody>\n",
       "</table>\n",
       "</div>"
      ],
      "text/plain": [
       "      tim_day seller_nickname  \\\n",
       "0  2024-08-01      92a7303a20   \n",
       "1  2024-08-01      187ad66fb4   \n",
       "\n",
       "                                              titulo seller_reputation stock  \\\n",
       "0  Gama De 12 Geles Semipermanente Esmalte Obp - ...    green_platinum  3020   \n",
       "1  Extensiones Pestañas Diy, Kit De Racimos De Pe...    green_platinum   557   \n",
       "\n",
       "  logistic_type condition is_refurbished   price  regular_price  \\\n",
       "0           FBM       new              0  198.34          211.0   \n",
       "1           FBM       new              0   255.6          360.0   \n",
       "\n",
       "             categoria                                                url  \\\n",
       "0  MANICURE & PEDICURE  https://articulo.mercadolibre.com.mx/MLM-13745...   \n",
       "1  BEAUTY PROFESSIONAL  https://articulo.mercadolibre.com.mx/MLM-19888...   \n",
       "\n",
       "           category_id        category_name  Kmeans  AgC Siglas_lt  \\\n",
       "0  MANICURE & PEDICURE  MANICURA Y PEDICURA     0.0  0.0       FBM   \n",
       "1  BEAUTY PROFESSIONAL  BELLEZA PROFESIONAL     0.0  0.0       FBM   \n",
       "\n",
       "                    Lt                                                mix  \n",
       "0  FulfilledbyMerchant  Stock: 3020; Refurbished: 0; Logistic: Fulfill...  \n",
       "1  FulfilledbyMerchant  Stock: 557; Refurbished: 0; Logistic: Fulfille...  "
      ]
     },
     "execution_count": 23,
     "metadata": {},
     "output_type": "execute_result"
    }
   ],
   "source": [
    "df['mix'] = \"Stock: \" + df['stock'].str.strip() + \"; Refurbished: \" + df['is_refurbished'].str.strip() + \"; Logistic: \" + df['Lt'].str.strip()+ \"; Condition: \" + df.condition.str.strip() + \"; Price: \" + df.price.str.strip() + \"; Categoria \" + df['category_id'].str.strip()\n",
    "print(df.shape)\n",
    "\n",
    "\n",
    "df.head(2)"
   ]
  },
  {
   "cell_type": "markdown",
   "id": "5e7575fe",
   "metadata": {},
   "source": [
    "#### Como mencione anteriormente seleccionaremos 50 de cada cluster para tener una data de 210 registros, donde 10 son de validacion."
   ]
  },
  {
   "cell_type": "code",
   "execution_count": 24,
   "id": "89ea1e94",
   "metadata": {},
   "outputs": [
    {
     "data": {
      "text/plain": [
       "Index(['tim_day', 'seller_nickname', 'titulo', 'seller_reputation', 'stock',\n",
       "       'logistic_type', 'condition', 'is_refurbished', 'price',\n",
       "       'regular_price', 'categoria', 'url', 'category_id', 'category_name',\n",
       "       'Kmeans', 'AgC', 'Siglas_lt', 'Lt', 'mix'],\n",
       "      dtype='object')"
      ]
     },
     "execution_count": 24,
     "metadata": {},
     "output_type": "execute_result"
    }
   ],
   "source": [
    "df.columns"
   ]
  },
  {
   "cell_type": "code",
   "execution_count": 25,
   "id": "88f77d8f",
   "metadata": {},
   "outputs": [
    {
     "name": "stdout",
     "output_type": "stream",
     "text": [
      "Cluster 0\n",
      "Cluster 1\n",
      "Cluster 2\n",
      "Cluster 3\n",
      "(200, 19)\n",
      "Kmeans\n",
      "0.0    50\n",
      "1.0    50\n",
      "2.0    50\n",
      "3.0    50\n",
      "Name: count, dtype: int64\n",
      "(200, 19)\n"
     ]
    },
    {
     "data": {
      "text/html": [
       "<div>\n",
       "<style scoped>\n",
       "    .dataframe tbody tr th:only-of-type {\n",
       "        vertical-align: middle;\n",
       "    }\n",
       "\n",
       "    .dataframe tbody tr th {\n",
       "        vertical-align: top;\n",
       "    }\n",
       "\n",
       "    .dataframe thead th {\n",
       "        text-align: right;\n",
       "    }\n",
       "</style>\n",
       "<table border=\"1\" class=\"dataframe\">\n",
       "  <thead>\n",
       "    <tr style=\"text-align: right;\">\n",
       "      <th></th>\n",
       "      <th>tim_day</th>\n",
       "      <th>seller_nickname</th>\n",
       "      <th>titulo</th>\n",
       "      <th>seller_reputation</th>\n",
       "      <th>stock</th>\n",
       "      <th>logistic_type</th>\n",
       "      <th>condition</th>\n",
       "      <th>is_refurbished</th>\n",
       "      <th>price</th>\n",
       "      <th>regular_price</th>\n",
       "      <th>categoria</th>\n",
       "      <th>url</th>\n",
       "      <th>category_id</th>\n",
       "      <th>category_name</th>\n",
       "      <th>Kmeans</th>\n",
       "      <th>AgC</th>\n",
       "      <th>Siglas_lt</th>\n",
       "      <th>Lt</th>\n",
       "      <th>mix</th>\n",
       "    </tr>\n",
       "  </thead>\n",
       "  <tbody>\n",
       "    <tr>\n",
       "      <th>0</th>\n",
       "      <td>2024-08-01</td>\n",
       "      <td>89a50330de</td>\n",
       "      <td>30 Piezas En Forma De T Botella De Vino Corcho...</td>\n",
       "      <td>green_silver</td>\n",
       "      <td>46</td>\n",
       "      <td>DS</td>\n",
       "      <td>new</td>\n",
       "      <td>0</td>\n",
       "      <td>265.06</td>\n",
       "      <td>278.91</td>\n",
       "      <td>HOUSEHOLD ITEMS</td>\n",
       "      <td>https://articulo.mercadolibre.com.mx/MLM-20363...</td>\n",
       "      <td>HOUSEHOLD ITEMS</td>\n",
       "      <td>ARTÍCULOS DEL HOGAR</td>\n",
       "      <td>2.0</td>\n",
       "      <td>1.0</td>\n",
       "      <td>DS</td>\n",
       "      <td>DropShipping</td>\n",
       "      <td>Stock: 46; Refurbished: 0; Logistic: DropShipp...</td>\n",
       "    </tr>\n",
       "    <tr>\n",
       "      <th>1</th>\n",
       "      <td>2024-08-01</td>\n",
       "      <td>7da042e7e6</td>\n",
       "      <td>Pala Recolectora De Heces Popo De Mascotas 28cm</td>\n",
       "      <td>green_platinum</td>\n",
       "      <td>108</td>\n",
       "      <td>FBM</td>\n",
       "      <td>new</td>\n",
       "      <td>0</td>\n",
       "      <td>66.75</td>\n",
       "      <td>89.0</td>\n",
       "      <td>PET</td>\n",
       "      <td>https://articulo.mercadolibre.com.mx/MLM-19567...</td>\n",
       "      <td>PET</td>\n",
       "      <td>MASCOTAS</td>\n",
       "      <td>2.0</td>\n",
       "      <td>2.0</td>\n",
       "      <td>FBM</td>\n",
       "      <td>FulfilledbyMerchant</td>\n",
       "      <td>Stock: 108; Refurbished: 0; Logistic: Fulfille...</td>\n",
       "    </tr>\n",
       "  </tbody>\n",
       "</table>\n",
       "</div>"
      ],
      "text/plain": [
       "      tim_day seller_nickname  \\\n",
       "0  2024-08-01      89a50330de   \n",
       "1  2024-08-01      7da042e7e6   \n",
       "\n",
       "                                              titulo seller_reputation stock  \\\n",
       "0  30 Piezas En Forma De T Botella De Vino Corcho...      green_silver    46   \n",
       "1    Pala Recolectora De Heces Popo De Mascotas 28cm    green_platinum   108   \n",
       "\n",
       "  logistic_type condition is_refurbished   price regular_price  \\\n",
       "0            DS       new              0  265.06        278.91   \n",
       "1           FBM       new              0   66.75          89.0   \n",
       "\n",
       "         categoria                                                url  \\\n",
       "0  HOUSEHOLD ITEMS  https://articulo.mercadolibre.com.mx/MLM-20363...   \n",
       "1              PET  https://articulo.mercadolibre.com.mx/MLM-19567...   \n",
       "\n",
       "       category_id        category_name Kmeans  AgC Siglas_lt  \\\n",
       "0  HOUSEHOLD ITEMS  ARTÍCULOS DEL HOGAR    2.0  1.0        DS   \n",
       "1              PET             MASCOTAS    2.0  2.0       FBM   \n",
       "\n",
       "                    Lt                                                mix  \n",
       "0         DropShipping  Stock: 46; Refurbished: 0; Logistic: DropShipp...  \n",
       "1  FulfilledbyMerchant  Stock: 108; Refurbished: 0; Logistic: Fulfille...  "
      ]
     },
     "execution_count": 25,
     "metadata": {},
     "output_type": "execute_result"
    }
   ],
   "source": [
    "col = ['tim_day', 'seller_nickname', 'titulo', 'seller_reputation', 'stock',\n",
    "       'logistic_type', 'condition', 'is_refurbished', 'price',\n",
    "       'regular_price', 'categoria', 'url', 'category_id', 'category_name',\n",
    "        'Kmeans', 'AgC', 'Siglas_lt', 'Lt', 'mix']\n",
    "cntxcluster = 50\n",
    "clusters=4\n",
    "dfy=pd.DataFrame()\n",
    "for i in range(0,clusters): # Sacamos los 50 registros de cada cluster.\n",
    "    print(f\"Cluster {i}\")\n",
    "    reviews = df[df.Kmeans == i].sample(cntxcluster, random_state=42).values\n",
    "    dfx = pd.DataFrame(data=reviews,columns=col)\n",
    "    dfy = pd.concat([dfy,dfx], axis=0)\n",
    "\n",
    "\n",
    "\n",
    "print(dfy.shape)\n",
    "print(dfy.Kmeans.value_counts())\n",
    "dfy = pd.concat([dfy,df[df['Kmeans'].isnull()][:10]], axis=0) # concatenamos con los\n",
    "print(dfy.shape)\n",
    "dfy = dfy.iloc[np.random.permutation(len(dfy))].reset_index(drop=True)\n",
    "dfy.head(2)"
   ]
  },
  {
   "cell_type": "markdown",
   "id": "f3e63449",
   "metadata": {},
   "source": [
    "<a id=\"2\"></a> <br>\n",
    "# 2. Preprocesamiento de Datos"
   ]
  },
  {
   "cell_type": "markdown",
   "id": "0d5949fd",
   "metadata": {},
   "source": [
    "#### Ya con la data seleccionada ahora lo que realizaremos sera la tokenizacion  con tiktoken utilizando el encoding de 3-small definido al inicio."
   ]
  },
  {
   "cell_type": "code",
   "execution_count": 26,
   "id": "31f252c7",
   "metadata": {},
   "outputs": [],
   "source": [
    "encoding = tiktoken.get_encoding(embedding_encoding)\n",
    "\n",
    "#Dado que utilizar la API de OpenAI no es gratis, debemos tartar de controlar los token\n",
    "#que vamos a gastar con el fin de no gastar creditos innecesarios. por esa razon no tomamos la variable titulo\n",
    "#ya que es demasiada grande esus strings.\n",
    "# tambien es importante revisar que tanto es la maxima cantidad de token ya que se el\n",
    "# 3-small tienen un limite de 8000 tokens por entrada o por registro.\n",
    "dfy['tokens'] = dfy.mix.apply(lambda x: len(encoding.encode(x)))\n"
   ]
  },
  {
   "cell_type": "code",
   "execution_count": 27,
   "id": "0e43add4",
   "metadata": {},
   "outputs": [
    {
     "name": "stdout",
     "output_type": "stream",
     "text": [
      "6907\n"
     ]
    },
    {
     "data": {
      "image/png": "[encoded data removed]",
      "text/plain": [
       "<Figure size 640x480 with 1 Axes>"
      ]
     },
     "metadata": {},
     "output_type": "display_data"
    }
   ],
   "source": [
    "print(sum(dfy.tokens.values))\n",
    "plt.hist(dfy.tokens, bins= 40);\n"
   ]
  },
  {
   "cell_type": "markdown",
   "id": "8a0bacad",
   "metadata": {},
   "source": [
    "<a id=\"3\"></a> <br>\n",
    "# 3. Generacion de Embedding"
   ]
  },
  {
   "cell_type": "markdown",
   "id": "5db1049d",
   "metadata": {},
   "source": [
    "##### para esta primera prueba utilizaremos de input 85977 tokens de entrada y de respuesta seran 250."
   ]
  },
  {
   "cell_type": "code",
   "execution_count": 28,
   "id": "dcd0c0f5",
   "metadata": {},
   "outputs": [],
   "source": [
    "# antes de correr cualquier modelo de la api de openai debemos asegurarnos que esta ya esta,\n",
    "#completamente configurada en el ambiente.\n",
    "\n",
    "#ahora\n",
    "dfy[\"embedding\"] = dfy.mix.apply(lambda x: get_embedding(x, model=embedding_model))\n",
    "\n"
   ]
  },
  {
   "cell_type": "code",
   "execution_count": 30,
   "id": "f4d618bf",
   "metadata": {},
   "outputs": [
    {
     "data": {
      "text/html": [
       "<div>\n",
       "<style scoped>\n",
       "    .dataframe tbody tr th:only-of-type {\n",
       "        vertical-align: middle;\n",
       "    }\n",
       "\n",
       "    .dataframe tbody tr th {\n",
       "        vertical-align: top;\n",
       "    }\n",
       "\n",
       "    .dataframe thead th {\n",
       "        text-align: right;\n",
       "    }\n",
       "</style>\n",
       "<table border=\"1\" class=\"dataframe\">\n",
       "  <thead>\n",
       "    <tr style=\"text-align: right;\">\n",
       "      <th></th>\n",
       "      <th>tim_day</th>\n",
       "      <th>seller_nickname</th>\n",
       "      <th>titulo</th>\n",
       "      <th>seller_reputation</th>\n",
       "      <th>stock</th>\n",
       "      <th>logistic_type</th>\n",
       "      <th>condition</th>\n",
       "      <th>is_refurbished</th>\n",
       "      <th>price</th>\n",
       "      <th>regular_price</th>\n",
       "      <th>...</th>\n",
       "      <th>url</th>\n",
       "      <th>category_id</th>\n",
       "      <th>category_name</th>\n",
       "      <th>Kmeans</th>\n",
       "      <th>AgC</th>\n",
       "      <th>Siglas_lt</th>\n",
       "      <th>Lt</th>\n",
       "      <th>mix</th>\n",
       "      <th>tokens</th>\n",
       "      <th>embedding</th>\n",
       "    </tr>\n",
       "  </thead>\n",
       "  <tbody>\n",
       "    <tr>\n",
       "      <th>0</th>\n",
       "      <td>2024-08-01</td>\n",
       "      <td>89a50330de</td>\n",
       "      <td>30 Piezas En Forma De T Botella De Vino Corcho...</td>\n",
       "      <td>green_silver</td>\n",
       "      <td>46</td>\n",
       "      <td>DS</td>\n",
       "      <td>new</td>\n",
       "      <td>0</td>\n",
       "      <td>265.06</td>\n",
       "      <td>278.91</td>\n",
       "      <td>...</td>\n",
       "      <td>https://articulo.mercadolibre.com.mx/MLM-20363...</td>\n",
       "      <td>HOUSEHOLD ITEMS</td>\n",
       "      <td>ARTÍCULOS DEL HOGAR</td>\n",
       "      <td>2.0</td>\n",
       "      <td>1.0</td>\n",
       "      <td>DS</td>\n",
       "      <td>DropShipping</td>\n",
       "      <td>Stock: 46; Refurbished: 0; Logistic: DropShipp...</td>\n",
       "      <td>33</td>\n",
       "      <td>[0.0070685939863324165, 0.035163041204214096, ...</td>\n",
       "    </tr>\n",
       "    <tr>\n",
       "      <th>1</th>\n",
       "      <td>2024-08-01</td>\n",
       "      <td>7da042e7e6</td>\n",
       "      <td>Pala Recolectora De Heces Popo De Mascotas 28cm</td>\n",
       "      <td>green_platinum</td>\n",
       "      <td>108</td>\n",
       "      <td>FBM</td>\n",
       "      <td>new</td>\n",
       "      <td>0</td>\n",
       "      <td>66.75</td>\n",
       "      <td>89.0</td>\n",
       "      <td>...</td>\n",
       "      <td>https://articulo.mercadolibre.com.mx/MLM-19567...</td>\n",
       "      <td>PET</td>\n",
       "      <td>MASCOTAS</td>\n",
       "      <td>2.0</td>\n",
       "      <td>2.0</td>\n",
       "      <td>FBM</td>\n",
       "      <td>FulfilledbyMerchant</td>\n",
       "      <td>Stock: 108; Refurbished: 0; Logistic: Fulfille...</td>\n",
       "      <td>32</td>\n",
       "      <td>[-0.02699536643922329, 0.028292439877986908, -...</td>\n",
       "    </tr>\n",
       "    <tr>\n",
       "      <th>2</th>\n",
       "      <td>2024-08-01</td>\n",
       "      <td>91329752da</td>\n",
       "      <td>Un Par De Herramientas De Soporte Para Los Oíd...</td>\n",
       "      <td>green_silver</td>\n",
       "      <td>100</td>\n",
       "      <td>DS</td>\n",
       "      <td>new</td>\n",
       "      <td>0</td>\n",
       "      <td>261.7</td>\n",
       "      <td>308.09</td>\n",
       "      <td>...</td>\n",
       "      <td>https://articulo.mercadolibre.com.mx/MLM-31927...</td>\n",
       "      <td>PET</td>\n",
       "      <td>MASCOTAS</td>\n",
       "      <td>2.0</td>\n",
       "      <td>1.0</td>\n",
       "      <td>DS</td>\n",
       "      <td>DropShipping</td>\n",
       "      <td>Stock: 100; Refurbished: 0; Logistic: DropShip...</td>\n",
       "      <td>30</td>\n",
       "      <td>[-0.01750161498785019, 0.02213890291750431, -0...</td>\n",
       "    </tr>\n",
       "    <tr>\n",
       "      <th>3</th>\n",
       "      <td>2024-08-01</td>\n",
       "      <td>e49a9f303b</td>\n",
       "      <td>Suero Verde Hidratante Ere Perez Tipo De Piel ...</td>\n",
       "      <td>green_silver</td>\n",
       "      <td>2</td>\n",
       "      <td>FBM</td>\n",
       "      <td>new</td>\n",
       "      <td>0</td>\n",
       "      <td>738.0</td>\n",
       "      <td>820.0</td>\n",
       "      <td>...</td>\n",
       "      <td>https://articulo.mercadolibre.com.mx/MLM-19101...</td>\n",
       "      <td>BEAUTY PERSONAL CARE</td>\n",
       "      <td>CUIDADO PERSONAL Y BELLEZA</td>\n",
       "      <td>3.0</td>\n",
       "      <td>0.0</td>\n",
       "      <td>FBM</td>\n",
       "      <td>FulfilledbyMerchant</td>\n",
       "      <td>Stock: 2; Refurbished: 0; Logistic: Fulfilledb...</td>\n",
       "      <td>37</td>\n",
       "      <td>[-0.020844023674726486, 0.025340864434838295, ...</td>\n",
       "    </tr>\n",
       "    <tr>\n",
       "      <th>4</th>\n",
       "      <td>2024-08-01</td>\n",
       "      <td>d56f8825ad</td>\n",
       "      <td>Inyector Gasolina Sentra Tsuru 1997 2000 2001 ...</td>\n",
       "      <td>green_platinum</td>\n",
       "      <td>5</td>\n",
       "      <td>FBM</td>\n",
       "      <td>new</td>\n",
       "      <td>0</td>\n",
       "      <td>674.1</td>\n",
       "      <td>749.0</td>\n",
       "      <td>...</td>\n",
       "      <td>https://articulo.mercadolibre.com.mx/MLM-17967...</td>\n",
       "      <td>ACC CARS &amp; VANS</td>\n",
       "      <td>ACCESORIOS PARA AUTOS Y CAMIONETAS</td>\n",
       "      <td>1.0</td>\n",
       "      <td>3.0</td>\n",
       "      <td>FBM</td>\n",
       "      <td>FulfilledbyMerchant</td>\n",
       "      <td>Stock: 5; Refurbished: 0; Logistic: Fulfilledb...</td>\n",
       "      <td>37</td>\n",
       "      <td>[-0.04704395309090614, 0.028241679072380066, -...</td>\n",
       "    </tr>\n",
       "  </tbody>\n",
       "</table>\n",
       "<p>5 rows × 21 columns</p>\n",
       "</div>"
      ],
      "text/plain": [
       "      tim_day seller_nickname  \\\n",
       "0  2024-08-01      89a50330de   \n",
       "1  2024-08-01      7da042e7e6   \n",
       "2  2024-08-01      91329752da   \n",
       "3  2024-08-01      e49a9f303b   \n",
       "4  2024-08-01      d56f8825ad   \n",
       "\n",
       "                                              titulo seller_reputation stock  \\\n",
       "0  30 Piezas En Forma De T Botella De Vino Corcho...      green_silver    46   \n",
       "1    Pala Recolectora De Heces Popo De Mascotas 28cm    green_platinum   108   \n",
       "2  Un Par De Herramientas De Soporte Para Los Oíd...      green_silver   100   \n",
       "3  Suero Verde Hidratante Ere Perez Tipo De Piel ...      green_silver     2   \n",
       "4  Inyector Gasolina Sentra Tsuru 1997 2000 2001 ...    green_platinum     5   \n",
       "\n",
       "  logistic_type condition is_refurbished   price regular_price  ...  \\\n",
       "0            DS       new              0  265.06        278.91  ...   \n",
       "1           FBM       new              0   66.75          89.0  ...   \n",
       "2            DS       new              0   261.7        308.09  ...   \n",
       "3           FBM       new              0   738.0         820.0  ...   \n",
       "4           FBM       new              0   674.1         749.0  ...   \n",
       "\n",
       "                                                 url           category_id  \\\n",
       "0  https://articulo.mercadolibre.com.mx/MLM-20363...       HOUSEHOLD ITEMS   \n",
       "1  https://articulo.mercadolibre.com.mx/MLM-19567...                   PET   \n",
       "2  https://articulo.mercadolibre.com.mx/MLM-31927...                   PET   \n",
       "3  https://articulo.mercadolibre.com.mx/MLM-19101...  BEAUTY PERSONAL CARE   \n",
       "4  https://articulo.mercadolibre.com.mx/MLM-17967...       ACC CARS & VANS   \n",
       "\n",
       "                        category_name Kmeans  AgC Siglas_lt  \\\n",
       "0                 ARTÍCULOS DEL HOGAR    2.0  1.0        DS   \n",
       "1                            MASCOTAS    2.0  2.0       FBM   \n",
       "2                            MASCOTAS    2.0  1.0        DS   \n",
       "3          CUIDADO PERSONAL Y BELLEZA    3.0  0.0       FBM   \n",
       "4  ACCESORIOS PARA AUTOS Y CAMIONETAS    1.0  3.0       FBM   \n",
       "\n",
       "                    Lt                                                mix  \\\n",
       "0         DropShipping  Stock: 46; Refurbished: 0; Logistic: DropShipp...   \n",
       "1  FulfilledbyMerchant  Stock: 108; Refurbished: 0; Logistic: Fulfille...   \n",
       "2         DropShipping  Stock: 100; Refurbished: 0; Logistic: DropShip...   \n",
       "3  FulfilledbyMerchant  Stock: 2; Refurbished: 0; Logistic: Fulfilledb...   \n",
       "4  FulfilledbyMerchant  Stock: 5; Refurbished: 0; Logistic: Fulfilledb...   \n",
       "\n",
       "  tokens                                          embedding  \n",
       "0     33  [0.0070685939863324165, 0.035163041204214096, ...  \n",
       "1     32  [-0.02699536643922329, 0.028292439877986908, -...  \n",
       "2     30  [-0.01750161498785019, 0.02213890291750431, -0...  \n",
       "3     37  [-0.020844023674726486, 0.025340864434838295, ...  \n",
       "4     37  [-0.04704395309090614, 0.028241679072380066, -...  \n",
       "\n",
       "[5 rows x 21 columns]"
      ]
     },
     "execution_count": 30,
     "metadata": {},
     "output_type": "execute_result"
    }
   ],
   "source": [
    "dfy.head(5)"
   ]
  },
  {
   "cell_type": "code",
   "execution_count": 31,
   "id": "d47bd0f0",
   "metadata": {},
   "outputs": [
    {
     "name": "stdout",
     "output_type": "stream",
     "text": [
      "(200,)\n"
     ]
    },
    {
     "data": {
      "text/plain": [
       "0      [0.0070685939863324165, 0.035163041204214096, ...\n",
       "1      [-0.02699536643922329, 0.028292439877986908, -...\n",
       "2      [-0.01750161498785019, 0.02213890291750431, -0...\n",
       "3      [-0.020844023674726486, 0.025340864434838295, ...\n",
       "4      [-0.04704395309090614, 0.028241679072380066, -...\n",
       "                             ...                        \n",
       "195    [-0.036176372319459915, 0.048606064170598984, ...\n",
       "196    [-0.023767990991473198, 0.03342093899846077, -...\n",
       "197    [-0.04059247672557831, 0.022805044427514076, -...\n",
       "198    [-0.0067464630119502544, 0.00943252444267273, ...\n",
       "199    [0.0032425422687083483, 0.03199721872806549, -...\n",
       "Name: embedding, Length: 200, dtype: object"
      ]
     },
     "execution_count": 31,
     "metadata": {},
     "output_type": "execute_result"
    }
   ],
   "source": [
    "#ahora vemos nuestras lista los embedding desde 3-small de la muestra de nuestros datos.\n",
    "print(dfy['embedding'].shape)\n",
    "dfy['embedding']"
   ]
  },
  {
   "cell_type": "markdown",
   "id": "05051b1b",
   "metadata": {},
   "source": [
    "<a id=\"4\"></a> <br>\n",
    "# 4. Exportacion del Embedding"
   ]
  },
  {
   "cell_type": "code",
   "execution_count": null,
   "id": "6b713504",
   "metadata": {},
   "outputs": [],
   "source": [
    "dfy.to_csv(\"data/data_embedding_270.csv\")\n"
   ]
  }
 ],
 "metadata": {
  "kernelspec": {
   "display_name": "openai",
   "language": "python",
   "name": "python3"
  },
  "language_info": {
   "codemirror_mode": {
    "name": "ipython",
    "version": 3
   },
   "file_extension": ".py",
   "mimetype": "text/x-python",
   "name": "python",
   "nbconvert_exporter": "python",
   "pygments_lexer": "ipython3",
   "version": "3.11.13"
  }
 },
 "nbformat": 4,
 "nbformat_minor": 5
}
