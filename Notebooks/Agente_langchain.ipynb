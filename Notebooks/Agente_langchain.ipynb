{
 "cells": [
  {
   "cell_type": "markdown",
   "id": "17ad01d5",
   "metadata": {},
   "source": [
    "# Agente Simple con LANG-CHAIN"
   ]
  },
  {
   "cell_type": "code",
   "execution_count": 41,
   "id": "3f8cf0fc",
   "metadata": {},
   "outputs": [],
   "source": [
    "from dotenv import load_dotenv\n",
    "import os\n",
    "import pandas as pd\n",
    "import numpy as np\n",
    "\n",
    "from langchain_classic.prompts import PromptTemplate\n",
    "from langchain_openai import ChatOpenAI\n",
    "from langchain_classic import LLMChain\n",
    "from langchain_classic.chains import sequential\n",
    "from langchain_classic.chains.sequential import SimpleSequentialChain\n",
    "from langchain_classic.schema import SystemMessage,AIMessage,HumanMessage\n"
   ]
  },
  {
   "cell_type": "code",
   "execution_count": 42,
   "id": "0efd22f5",
   "metadata": {},
   "outputs": [
    {
     "data": {
      "text/plain": [
       "True"
      ]
     },
     "execution_count": 42,
     "metadata": {},
     "output_type": "execute_result"
    }
   ],
   "source": [
    "load_dotenv()"
   ]
  },
  {
   "cell_type": "code",
   "execution_count": 43,
   "id": "d88047cf",
   "metadata": {},
   "outputs": [],
   "source": [
    "#cargamos el archivo clusterizado con 2000 registros\n",
    "\n",
    "df=pd.read_csv(\"D:\\Clustering_MeLi\\src\\data\\processed\\data_cluster_m2.csv\", sep=\"|\")\n",
    "dfc=pd.DataFrame(data={\"cluster\":[0,1,2,3],\n",
    "                  \"namec\":[\"Premium Sellers\", \"Premium Products\", \"Low Inventory, High Price\", \"High Value Customers\"]})\n",
    "\n",
    "df1 = pd.merge(left=df,right=dfc,how=\"left\",on='cluster')\n",
    "df1[\"mix\"]= df1[\"mix\"]+\" ;segmento:\" + df1[\"namec\"]\n"
   ]
  },
  {
   "cell_type": "code",
   "execution_count": 44,
   "id": "a70f0be2",
   "metadata": {},
   "outputs": [],
   "source": [
    "data=df1.mix[50]"
   ]
  },
  {
   "cell_type": "code",
   "execution_count": 45,
   "id": "3e8a9f8d",
   "metadata": {},
   "outputs": [
    {
     "data": {
      "text/html": [
       "<div>\n",
       "<style scoped>\n",
       "    .dataframe tbody tr th:only-of-type {\n",
       "        vertical-align: middle;\n",
       "    }\n",
       "\n",
       "    .dataframe tbody tr th {\n",
       "        vertical-align: top;\n",
       "    }\n",
       "\n",
       "    .dataframe thead th {\n",
       "        text-align: right;\n",
       "    }\n",
       "</style>\n",
       "<table border=\"1\" class=\"dataframe\">\n",
       "  <thead>\n",
       "    <tr style=\"text-align: right;\">\n",
       "      <th></th>\n",
       "      <th>Unnamed: 0.1</th>\n",
       "      <th>Unnamed: 0</th>\n",
       "      <th>seller_nickname</th>\n",
       "      <th>products</th>\n",
       "      <th>stock</th>\n",
       "      <th>price</th>\n",
       "      <th>seller_reputation</th>\n",
       "      <th>Lt</th>\n",
       "      <th>condition</th>\n",
       "      <th>isrefu</th>\n",
       "      <th>category_id</th>\n",
       "      <th>regular_price1</th>\n",
       "      <th>pxp</th>\n",
       "      <th>mix</th>\n",
       "      <th>tokens</th>\n",
       "      <th>totalcat</th>\n",
       "      <th>embedding</th>\n",
       "      <th>cluster</th>\n",
       "      <th>namec</th>\n",
       "    </tr>\n",
       "  </thead>\n",
       "  <tbody>\n",
       "    <tr>\n",
       "      <th>0</th>\n",
       "      <td>0</td>\n",
       "      <td>0</td>\n",
       "      <td>000631669c</td>\n",
       "      <td>1</td>\n",
       "      <td>10</td>\n",
       "      <td>799.0</td>\n",
       "      <td>newbie</td>\n",
       "      <td>Other</td>\n",
       "      <td>new</td>\n",
       "      <td>not refubirshed</td>\n",
       "      <td>OTHER</td>\n",
       "      <td>no</td>\n",
       "      <td>79.90</td>\n",
       "      <td>reputation: newbie; products: 1; stock: 10; pr...</td>\n",
       "      <td>53</td>\n",
       "      <td>1</td>\n",
       "      <td>[-0.01950474 -0.00050762 -0.01950474 ...  0.00...</td>\n",
       "      <td>2</td>\n",
       "      <td>Low Inventory, High Price</td>\n",
       "    </tr>\n",
       "    <tr>\n",
       "      <th>1</th>\n",
       "      <td>1</td>\n",
       "      <td>1</td>\n",
       "      <td>0007153bca</td>\n",
       "      <td>2</td>\n",
       "      <td>55</td>\n",
       "      <td>798.0</td>\n",
       "      <td>green</td>\n",
       "      <td>Cross Docking</td>\n",
       "      <td>new</td>\n",
       "      <td>not refubirshed</td>\n",
       "      <td>OTHER</td>\n",
       "      <td>no</td>\n",
       "      <td>14.51</td>\n",
       "      <td>reputation: green; products: 2; stock: 55; pri...</td>\n",
       "      <td>55</td>\n",
       "      <td>1</td>\n",
       "      <td>[-0.00240626  0.00175491  0.0243417  ... -0.01...</td>\n",
       "      <td>1</td>\n",
       "      <td>Premium Products</td>\n",
       "    </tr>\n",
       "  </tbody>\n",
       "</table>\n",
       "</div>"
      ],
      "text/plain": [
       "   Unnamed: 0.1  Unnamed: 0 seller_nickname  products  stock  price  \\\n",
       "0             0           0      000631669c         1     10  799.0   \n",
       "1             1           1      0007153bca         2     55  798.0   \n",
       "\n",
       "  seller_reputation             Lt condition           isrefu category_id  \\\n",
       "0            newbie          Other       new  not refubirshed       OTHER   \n",
       "1             green  Cross Docking       new  not refubirshed       OTHER   \n",
       "\n",
       "  regular_price1    pxp                                                mix  \\\n",
       "0             no  79.90  reputation: newbie; products: 1; stock: 10; pr...   \n",
       "1             no  14.51  reputation: green; products: 2; stock: 55; pri...   \n",
       "\n",
       "   tokens  totalcat                                          embedding  \\\n",
       "0      53         1  [-0.01950474 -0.00050762 -0.01950474 ...  0.00...   \n",
       "1      55         1  [-0.00240626  0.00175491  0.0243417  ... -0.01...   \n",
       "\n",
       "   cluster                      namec  \n",
       "0        2  Low Inventory, High Price  \n",
       "1        1           Premium Products  "
      ]
     },
     "execution_count": 45,
     "metadata": {},
     "output_type": "execute_result"
    }
   ],
   "source": [
    "df1.head(2)"
   ]
  },
  {
   "cell_type": "code",
   "execution_count": 46,
   "id": "48579944",
   "metadata": {},
   "outputs": [
    {
     "data": {
      "text/plain": [
       "'reputation: green_silver; products: 6; stock: 187; priceproduct: 159.37; logistictype: Other,Cross Docking; refurbished: not refubirshed; conditionproduct: used,new; totalCategories: 4; regularprice: no; Cluster:1 ;segmento:Premium Products'"
      ]
     },
     "execution_count": 46,
     "metadata": {},
     "output_type": "execute_result"
    }
   ],
   "source": [
    "data"
   ]
  },
  {
   "cell_type": "code",
   "execution_count": 47,
   "id": "4563eb62",
   "metadata": {},
   "outputs": [],
   "source": [
    "\n",
    "from langchain.agents import create_agent\n",
    "\n",
    "llm = ChatOpenAI(temperature=0, model=\"gpt-3.5-turbo\")\n",
    "\n",
    "def get_data(sellers: str) -> str:\n",
    "    \"\"\"data sellers.\"\"\"\n",
    "\n",
    "    return f\"Datos del seller {sellers}!\"\n",
    "\n",
    "agent = create_agent(\n",
    "    \n",
    "    model=llm,\n",
    "    tools=[get_data],\n",
    "    system_prompt=\"Eres un especialista en mercadeo, marketing con alta experiencia en e-commerce, muy experimentado,\" \\\n",
    "    \" que actividades promocionales podrian activarse a los vendedores con las siguientes caracteristicas\",\n",
    ")\n",
    "\n",
    "# Run the agent\n",
    "output =agent.invoke(\n",
    "    {\"messages\": [{\"role\": \"user\", \"content\":data }]}\n",
    ")"
   ]
  },
  {
   "cell_type": "code",
   "execution_count": 49,
   "id": "f5a317f7",
   "metadata": {},
   "outputs": [
    {
     "name": "stdout",
     "output_type": "stream",
     "text": [
      "Para el vendedor \"green_silver\" con las siguientes características:\n",
      "\n",
      "- Productos: 6\n",
      "- Stock: 187\n",
      "- Precio del producto: $159.37\n",
      "- Tipo de logística: Other, Cross Docking\n",
      "- Producto no reacondicionado\n",
      "- Condición del producto: usado, nuevo\n",
      "- Total de categorías: 4\n",
      "- Precio regular: no\n",
      "- Cluster: 1\n",
      "- Segmento: Premium Products\n",
      "\n",
      "Se pueden activar las siguientes actividades promocionales:\n",
      "\n",
      "1. Ofertas especiales para productos premium: Puedes crear ofertas exclusivas para los productos premium que ofrece el vendedor green_silver, como descuentos especiales o promociones por tiempo limitado.\n",
      "\n",
      "2. Promociones de envío rápido: Dado que el vendedor utiliza Cross Docking como tipo de logística, puedes promocionar envíos rápidos o gratuitos para incentivar a los clientes a realizar compras.\n",
      "\n",
      "3. Descuentos por cantidad: Ofrece descuentos por la compra de múltiples productos del vendedor green_silver, lo que puede incentivar a los clientes a aumentar su carrito de compras.\n",
      "\n",
      "4. Programas de fidelización: Implementa programas de fidelización para premiar a los clientes recurrentes que compran productos del vendedor green_silver, ofreciendo descuentos exclusivos o beneficios adicionales.\n",
      "\n",
      "Estas actividades promocionales pueden ayudar a aumentar las ventas y la visibilidad de los productos del vendedor green_silver en el e-commerce.\n"
     ]
    }
   ],
   "source": [
    "print(output['messages'][3].content)\n"
   ]
  }
 ],
 "metadata": {
  "kernelspec": {
   "display_name": "newopenai",
   "language": "python",
   "name": "python3"
  },
  "language_info": {
   "codemirror_mode": {
    "name": "ipython",
    "version": 3
   },
   "file_extension": ".py",
   "mimetype": "text/x-python",
   "name": "python",
   "nbconvert_exporter": "python",
   "pygments_lexer": "ipython3",
   "version": "3.11.13"
  }
 },
 "nbformat": 4,
 "nbformat_minor": 5
}
