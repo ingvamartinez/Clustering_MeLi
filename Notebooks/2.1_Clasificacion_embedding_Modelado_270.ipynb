{
 "cells": [
  {
   "cell_type": "markdown",
   "id": "65571438",
   "metadata": {},
   "source": [
    "![](../src/image/meli3.JPG)"
   ]
  },
  {
   "cell_type": "markdown",
   "id": "4bba15d6",
   "metadata": {},
   "source": [
    "# Entrenamiento, y Modelado y Validacion del Classifier\n",
    "\n",
    "#### Ya teniendo en nuestro embedding de la data fuente, realizaremos el entrenamiento de 3 modelos de Clasificacion, RandomForest, SVMClassifier y el XGBOOST. para ver cual de ellos nos clasifica mejor."
   ]
  },
  {
   "cell_type": "markdown",
   "id": "10a905b6",
   "metadata": {},
   "source": [
    "\n",
    "### Pasos\n",
    "1. [Preparacion de la data.](#1)\n",
    "1. [Modelado y entrenamiento](#2)\n",
    "1. [Validacion](#3)"
   ]
  },
  {
   "cell_type": "markdown",
   "id": "94f6ce91",
   "metadata": {},
   "source": [
    "<a id=\"1\"></a> <br>\n",
    "# 1. Preparacion de la Data"
   ]
  },
  {
   "cell_type": "code",
   "execution_count": 1,
   "id": "1697ede0",
   "metadata": {},
   "outputs": [],
   "source": [
    "import pandas as pd\n",
    "import numpy as np\n",
    "from sklearn.ensemble import RandomForestClassifier\n",
    "from sklearn.svm import SVC\n",
    "from xgboost import XGBClassifier\n",
    "from sklearn.model_selection import train_test_split\n",
    "from sklearn.metrics import ConfusionMatrixDisplay, confusion_matrix\n",
    "from sklearn.metrics import classification_report\n",
    "from ast import literal_eval\n"
   ]
  },
  {
   "cell_type": "code",
   "execution_count": 2,
   "id": "c46dd326",
   "metadata": {},
   "outputs": [],
   "source": [
    "#Leo los datos ya procesados con los embeddings de 3-small\n",
    "df_270 = pd.read_csv(\"./data/data_embedding_270.csv\")\n"
   ]
  },
  {
   "cell_type": "code",
   "execution_count": 3,
   "id": "4a6b62a8",
   "metadata": {},
   "outputs": [
    {
     "name": "stdout",
     "output_type": "stream",
     "text": [
      "(260, 22)\n"
     ]
    },
    {
     "data": {
      "text/html": [
       "<div>\n",
       "<style scoped>\n",
       "    .dataframe tbody tr th:only-of-type {\n",
       "        vertical-align: middle;\n",
       "    }\n",
       "\n",
       "    .dataframe tbody tr th {\n",
       "        vertical-align: top;\n",
       "    }\n",
       "\n",
       "    .dataframe thead th {\n",
       "        text-align: right;\n",
       "    }\n",
       "</style>\n",
       "<table border=\"1\" class=\"dataframe\">\n",
       "  <thead>\n",
       "    <tr style=\"text-align: right;\">\n",
       "      <th></th>\n",
       "      <th>Unnamed: 0</th>\n",
       "      <th>tim_day</th>\n",
       "      <th>seller_nickname</th>\n",
       "      <th>titulo</th>\n",
       "      <th>seller_reputation</th>\n",
       "      <th>stock</th>\n",
       "      <th>logistic_type</th>\n",
       "      <th>condition</th>\n",
       "      <th>is_refurbished</th>\n",
       "      <th>price</th>\n",
       "      <th>...</th>\n",
       "      <th>url</th>\n",
       "      <th>category_id</th>\n",
       "      <th>category_name</th>\n",
       "      <th>Kmeans</th>\n",
       "      <th>AgC</th>\n",
       "      <th>Siglas_lt</th>\n",
       "      <th>Lt</th>\n",
       "      <th>mix</th>\n",
       "      <th>tokens</th>\n",
       "      <th>embedding</th>\n",
       "    </tr>\n",
       "  </thead>\n",
       "  <tbody>\n",
       "    <tr>\n",
       "      <th>0</th>\n",
       "      <td>0</td>\n",
       "      <td>2024-08-01</td>\n",
       "      <td>acb750cbf4</td>\n",
       "      <td>Closet Armable Organizador De Ropa Metalico Ex...</td>\n",
       "      <td>light_green</td>\n",
       "      <td>14</td>\n",
       "      <td>DS</td>\n",
       "      <td>new</td>\n",
       "      <td>0</td>\n",
       "      <td>5292.0</td>\n",
       "      <td>...</td>\n",
       "      <td>https://articulo.mercadolibre.com.mx/MLM-85145...</td>\n",
       "      <td>FURNITURE</td>\n",
       "      <td>MUEBLES</td>\n",
       "      <td>3.0</td>\n",
       "      <td>3.0</td>\n",
       "      <td>DS</td>\n",
       "      <td>DropShipping</td>\n",
       "      <td>reputation: light_green; Stock: 14; Refurbishe...</td>\n",
       "      <td>40</td>\n",
       "      <td>[0.0016295177629217505, 0.007548635359853506, ...</td>\n",
       "    </tr>\n",
       "    <tr>\n",
       "      <th>1</th>\n",
       "      <td>1</td>\n",
       "      <td>2024-08-01</td>\n",
       "      <td>0e497a915d</td>\n",
       "      <td>Junta De Carter Mazda 6 3.0 2005</td>\n",
       "      <td>green_silver</td>\n",
       "      <td>4</td>\n",
       "      <td>XD</td>\n",
       "      <td>new</td>\n",
       "      <td>0</td>\n",
       "      <td>400.0</td>\n",
       "      <td>...</td>\n",
       "      <td>https://articulo.mercadolibre.com.mx/MLM-20651...</td>\n",
       "      <td>ACC CARS &amp; VANS</td>\n",
       "      <td>ACCESORIOS PARA AUTOS Y CAMIONETAS</td>\n",
       "      <td>3.0</td>\n",
       "      <td>0.0</td>\n",
       "      <td>XD</td>\n",
       "      <td>Cross Docking</td>\n",
       "      <td>reputation: green_silver; Stock: 4; Refurbishe...</td>\n",
       "      <td>43</td>\n",
       "      <td>[-0.008773032575845718, -0.005519047379493713,...</td>\n",
       "    </tr>\n",
       "  </tbody>\n",
       "</table>\n",
       "<p>2 rows × 22 columns</p>\n",
       "</div>"
      ],
      "text/plain": [
       "   Unnamed: 0     tim_day seller_nickname  \\\n",
       "0           0  2024-08-01      acb750cbf4   \n",
       "1           1  2024-08-01      0e497a915d   \n",
       "\n",
       "                                              titulo seller_reputation  stock  \\\n",
       "0  Closet Armable Organizador De Ropa Metalico Ex...       light_green     14   \n",
       "1                   Junta De Carter Mazda 6 3.0 2005      green_silver      4   \n",
       "\n",
       "  logistic_type condition  is_refurbished   price  ...  \\\n",
       "0            DS       new               0  5292.0  ...   \n",
       "1            XD       new               0   400.0  ...   \n",
       "\n",
       "                                                 url      category_id  \\\n",
       "0  https://articulo.mercadolibre.com.mx/MLM-85145...        FURNITURE   \n",
       "1  https://articulo.mercadolibre.com.mx/MLM-20651...  ACC CARS & VANS   \n",
       "\n",
       "                        category_name Kmeans  AgC  Siglas_lt             Lt  \\\n",
       "0                             MUEBLES    3.0  3.0         DS   DropShipping   \n",
       "1  ACCESORIOS PARA AUTOS Y CAMIONETAS    3.0  0.0         XD  Cross Docking   \n",
       "\n",
       "                                                 mix tokens  \\\n",
       "0  reputation: light_green; Stock: 14; Refurbishe...     40   \n",
       "1  reputation: green_silver; Stock: 4; Refurbishe...     43   \n",
       "\n",
       "                                           embedding  \n",
       "0  [0.0016295177629217505, 0.007548635359853506, ...  \n",
       "1  [-0.008773032575845718, -0.005519047379493713,...  \n",
       "\n",
       "[2 rows x 22 columns]"
      ]
     },
     "execution_count": 3,
     "metadata": {},
     "output_type": "execute_result"
    }
   ],
   "source": [
    "df_270[\"embedding\"] = df_270.embedding.apply(literal_eval).apply(np.array)\n",
    "print(df_270.shape)\n",
    "df_270.head(2)"
   ]
  },
  {
   "cell_type": "code",
   "execution_count": 4,
   "id": "3aa221a3",
   "metadata": {},
   "outputs": [
    {
     "name": "stdout",
     "output_type": "stream",
     "text": [
      "(10, 22)\n"
     ]
    },
    {
     "data": {
      "text/html": [
       "<div>\n",
       "<style scoped>\n",
       "    .dataframe tbody tr th:only-of-type {\n",
       "        vertical-align: middle;\n",
       "    }\n",
       "\n",
       "    .dataframe tbody tr th {\n",
       "        vertical-align: top;\n",
       "    }\n",
       "\n",
       "    .dataframe thead th {\n",
       "        text-align: right;\n",
       "    }\n",
       "</style>\n",
       "<table border=\"1\" class=\"dataframe\">\n",
       "  <thead>\n",
       "    <tr style=\"text-align: right;\">\n",
       "      <th></th>\n",
       "      <th>Unnamed: 0</th>\n",
       "      <th>tim_day</th>\n",
       "      <th>seller_nickname</th>\n",
       "      <th>titulo</th>\n",
       "      <th>seller_reputation</th>\n",
       "      <th>stock</th>\n",
       "      <th>logistic_type</th>\n",
       "      <th>condition</th>\n",
       "      <th>is_refurbished</th>\n",
       "      <th>price</th>\n",
       "      <th>...</th>\n",
       "      <th>url</th>\n",
       "      <th>category_id</th>\n",
       "      <th>category_name</th>\n",
       "      <th>Kmeans</th>\n",
       "      <th>AgC</th>\n",
       "      <th>Siglas_lt</th>\n",
       "      <th>Lt</th>\n",
       "      <th>mix</th>\n",
       "      <th>tokens</th>\n",
       "      <th>embedding</th>\n",
       "    </tr>\n",
       "  </thead>\n",
       "  <tbody>\n",
       "    <tr>\n",
       "      <th>0</th>\n",
       "      <td>0</td>\n",
       "      <td>2024-08-01</td>\n",
       "      <td>acb750cbf4</td>\n",
       "      <td>Closet Armable Organizador De Ropa Metalico Ex...</td>\n",
       "      <td>light_green</td>\n",
       "      <td>14</td>\n",
       "      <td>DS</td>\n",
       "      <td>new</td>\n",
       "      <td>0</td>\n",
       "      <td>5292.0</td>\n",
       "      <td>...</td>\n",
       "      <td>https://articulo.mercadolibre.com.mx/MLM-85145...</td>\n",
       "      <td>FURNITURE</td>\n",
       "      <td>MUEBLES</td>\n",
       "      <td>3.0</td>\n",
       "      <td>3.0</td>\n",
       "      <td>DS</td>\n",
       "      <td>DropShipping</td>\n",
       "      <td>reputation: light_green; Stock: 14; Refurbishe...</td>\n",
       "      <td>40</td>\n",
       "      <td>[0.0016295177629217505, 0.007548635359853506, ...</td>\n",
       "    </tr>\n",
       "    <tr>\n",
       "      <th>1</th>\n",
       "      <td>1</td>\n",
       "      <td>2024-08-01</td>\n",
       "      <td>0e497a915d</td>\n",
       "      <td>Junta De Carter Mazda 6 3.0 2005</td>\n",
       "      <td>green_silver</td>\n",
       "      <td>4</td>\n",
       "      <td>XD</td>\n",
       "      <td>new</td>\n",
       "      <td>0</td>\n",
       "      <td>400.0</td>\n",
       "      <td>...</td>\n",
       "      <td>https://articulo.mercadolibre.com.mx/MLM-20651...</td>\n",
       "      <td>ACC CARS &amp; VANS</td>\n",
       "      <td>ACCESORIOS PARA AUTOS Y CAMIONETAS</td>\n",
       "      <td>3.0</td>\n",
       "      <td>0.0</td>\n",
       "      <td>XD</td>\n",
       "      <td>Cross Docking</td>\n",
       "      <td>reputation: green_silver; Stock: 4; Refurbishe...</td>\n",
       "      <td>43</td>\n",
       "      <td>[-0.008773032575845718, -0.005519047379493713,...</td>\n",
       "    </tr>\n",
       "  </tbody>\n",
       "</table>\n",
       "<p>2 rows × 22 columns</p>\n",
       "</div>"
      ],
      "text/plain": [
       "   Unnamed: 0     tim_day seller_nickname  \\\n",
       "0           0  2024-08-01      acb750cbf4   \n",
       "1           1  2024-08-01      0e497a915d   \n",
       "\n",
       "                                              titulo seller_reputation  stock  \\\n",
       "0  Closet Armable Organizador De Ropa Metalico Ex...       light_green     14   \n",
       "1                   Junta De Carter Mazda 6 3.0 2005      green_silver      4   \n",
       "\n",
       "  logistic_type condition  is_refurbished   price  ...  \\\n",
       "0            DS       new               0  5292.0  ...   \n",
       "1            XD       new               0   400.0  ...   \n",
       "\n",
       "                                                 url      category_id  \\\n",
       "0  https://articulo.mercadolibre.com.mx/MLM-85145...        FURNITURE   \n",
       "1  https://articulo.mercadolibre.com.mx/MLM-20651...  ACC CARS & VANS   \n",
       "\n",
       "                        category_name Kmeans  AgC  Siglas_lt             Lt  \\\n",
       "0                             MUEBLES    3.0  3.0         DS   DropShipping   \n",
       "1  ACCESORIOS PARA AUTOS Y CAMIONETAS    3.0  0.0         XD  Cross Docking   \n",
       "\n",
       "                                                 mix tokens  \\\n",
       "0  reputation: light_green; Stock: 14; Refurbishe...     40   \n",
       "1  reputation: green_silver; Stock: 4; Refurbishe...     43   \n",
       "\n",
       "                                           embedding  \n",
       "0  [0.0016295177629217505, 0.007548635359853506, ...  \n",
       "1  [-0.008773032575845718, -0.005519047379493713,...  \n",
       "\n",
       "[2 rows x 22 columns]"
      ]
     },
     "execution_count": 4,
     "metadata": {},
     "output_type": "execute_result"
    }
   ],
   "source": [
    "# Separo la data de validacion de la train y test,\n",
    "df_val=df_270[df_270['Kmeans'].isnull()]\n",
    "print(df_val.shape)\n",
    "df_270=df_270[df_270['Kmeans'].isnull()==False]\n",
    "df_270[df_270['Kmeans'].isnull()] # Valido que ninguno no tengan datos con valores en la etiqueta\n",
    "df270 = df_270.iloc[np.random.permutation(len(df_270))].reset_index(drop=True)\n",
    "df_270.head(2)"
   ]
  },
  {
   "cell_type": "code",
   "execution_count": 5,
   "id": "18f00f8c",
   "metadata": {},
   "outputs": [
    {
     "data": {
      "text/plain": [
       "AgC\n",
       "3.0    50\n",
       "0.0    50\n",
       "4.0    50\n",
       "2.0    50\n",
       "1.0    50\n",
       "Name: count, dtype: int64"
      ]
     },
     "execution_count": 5,
     "metadata": {},
     "output_type": "execute_result"
    }
   ],
   "source": [
    "# Obtenemos los datos de entrenamiento y de test\n",
    "\n",
    "x_train,x_test,y_train,y_test = train_test_split(\n",
    "    list(df_270.embedding.values),df_270.Kmeans,test_size=20,random_state=13\n",
    ")\n",
    "\n",
    "df_270['AgC'].value_counts()"
   ]
  },
  {
   "cell_type": "markdown",
   "id": "ce25bd09",
   "metadata": {},
   "source": [
    "<a id=\"2\"></a> <br>\n",
    "# 2. Modelado y entrenamiento."
   ]
  },
  {
   "cell_type": "markdown",
   "id": "2994bf65",
   "metadata": {},
   "source": [
    "# RANDOM-FOREST - CLASSIFIER"
   ]
  },
  {
   "cell_type": "code",
   "execution_count": 6,
   "id": "425097cc",
   "metadata": {},
   "outputs": [
    {
     "name": "stderr",
     "output_type": "stream",
     "text": [
      "c:\\Users\\Usuario\\anaconda3\\envs\\openai\\Lib\\site-packages\\sklearn\\metrics\\_classification.py:1731: UndefinedMetricWarning: Precision is ill-defined and being set to 0.0 in labels with no predicted samples. Use `zero_division` parameter to control this behavior.\n",
      "  _warn_prf(average, modifier, f\"{metric.capitalize()} is\", result.shape[0])\n",
      "c:\\Users\\Usuario\\anaconda3\\envs\\openai\\Lib\\site-packages\\sklearn\\metrics\\_classification.py:1731: UndefinedMetricWarning: Precision is ill-defined and being set to 0.0 in labels with no predicted samples. Use `zero_division` parameter to control this behavior.\n",
      "  _warn_prf(average, modifier, f\"{metric.capitalize()} is\", result.shape[0])\n",
      "c:\\Users\\Usuario\\anaconda3\\envs\\openai\\Lib\\site-packages\\sklearn\\metrics\\_classification.py:1731: UndefinedMetricWarning: Precision is ill-defined and being set to 0.0 in labels with no predicted samples. Use `zero_division` parameter to control this behavior.\n",
      "  _warn_prf(average, modifier, f\"{metric.capitalize()} is\", result.shape[0])\n"
     ]
    },
    {
     "name": "stdout",
     "output_type": "stream",
     "text": [
      "              precision    recall  f1-score   support\n",
      "\n",
      "         0.0       0.75      0.75      0.75         4\n",
      "         1.0       0.00      0.00      0.00         1\n",
      "         2.0       0.50      0.60      0.55         5\n",
      "         3.0       0.75      0.67      0.71         9\n",
      "         4.0       0.00      0.00      0.00         1\n",
      "\n",
      "    accuracy                           0.60        20\n",
      "   macro avg       0.40      0.40      0.40        20\n",
      "weighted avg       0.61      0.60      0.60        20\n",
      "\n"
     ]
    },
    {
     "data": {
      "text/plain": [
       "<sklearn.metrics._plot.confusion_matrix.ConfusionMatrixDisplay at 0x2456c1ff650>"
      ]
     },
     "execution_count": 6,
     "metadata": {},
     "output_type": "execute_result"
    },
    {
     "data": {
      "image/png": "[encoded data removed]",
      "text/plain": [
       "<Figure size 640x480 with 2 Axes>"
      ]
     },
     "metadata": {},
     "output_type": "display_data"
    }
   ],
   "source": [
    "# Modelado, Entrenamiento, Evaluacion\n",
    "clf = RandomForestClassifier(n_estimators=100) #iniciamos el modelo\n",
    "clf.fit(x_train, y_train) #entrenamos el modelo\n",
    "predicts = clf.predict(x_test) #realizamos las predicciones\n",
    "probas = clf.predict_proba(x_test) #realizamos las probabilidades\n",
    "\n",
    "report = classification_report(y_test, predicts)\n",
    "print(report)\n",
    "matrix = confusion_matrix(y_pred= predicts ,y_true= y_test)\n",
    "disp=ConfusionMatrixDisplay(matrix)\n",
    "disp.plot()"
   ]
  },
  {
   "cell_type": "markdown",
   "id": "f8b8dcfa",
   "metadata": {},
   "source": [
    "## SUPPORT VECTOR MACHINE - CLASSIFIER"
   ]
  },
  {
   "cell_type": "code",
   "execution_count": 8,
   "id": "78082bde",
   "metadata": {},
   "outputs": [
    {
     "name": "stdout",
     "output_type": "stream",
     "text": [
      "              precision    recall  f1-score   support\n",
      "\n",
      "         0.0       0.75      0.75      0.75         4\n",
      "         1.0       0.00      0.00      0.00         1\n",
      "         2.0       0.33      0.40      0.36         5\n",
      "         3.0       0.40      0.44      0.42         9\n",
      "         4.0       0.00      0.00      0.00         1\n",
      "\n",
      "    accuracy                           0.45        20\n",
      "   macro avg       0.30      0.32      0.31        20\n",
      "weighted avg       0.41      0.45      0.43        20\n",
      "\n"
     ]
    },
    {
     "name": "stderr",
     "output_type": "stream",
     "text": [
      "c:\\Users\\Usuario\\anaconda3\\envs\\openai\\Lib\\site-packages\\sklearn\\metrics\\_classification.py:1731: UndefinedMetricWarning: Precision is ill-defined and being set to 0.0 in labels with no predicted samples. Use `zero_division` parameter to control this behavior.\n",
      "  _warn_prf(average, modifier, f\"{metric.capitalize()} is\", result.shape[0])\n",
      "c:\\Users\\Usuario\\anaconda3\\envs\\openai\\Lib\\site-packages\\sklearn\\metrics\\_classification.py:1731: UndefinedMetricWarning: Precision is ill-defined and being set to 0.0 in labels with no predicted samples. Use `zero_division` parameter to control this behavior.\n",
      "  _warn_prf(average, modifier, f\"{metric.capitalize()} is\", result.shape[0])\n",
      "c:\\Users\\Usuario\\anaconda3\\envs\\openai\\Lib\\site-packages\\sklearn\\metrics\\_classification.py:1731: UndefinedMetricWarning: Precision is ill-defined and being set to 0.0 in labels with no predicted samples. Use `zero_division` parameter to control this behavior.\n",
      "  _warn_prf(average, modifier, f\"{metric.capitalize()} is\", result.shape[0])\n"
     ]
    },
    {
     "data": {
      "text/plain": [
       "<sklearn.metrics._plot.confusion_matrix.ConfusionMatrixDisplay at 0x245744bd4d0>"
      ]
     },
     "execution_count": 8,
     "metadata": {},
     "output_type": "execute_result"
    },
    {
     "data": {
      "image/png": "[encoded data removed]",
      "text/plain": [
       "<Figure size 640x480 with 2 Axes>"
      ]
     },
     "metadata": {},
     "output_type": "display_data"
    }
   ],
   "source": [
    "# Modelado, Entrenamiento, Evaluacion\n",
    "clf = SVC() #iniciamos el modelo\n",
    "clf.fit(x_train, y_train) #entrenamos el modelo\n",
    "predicts = clf.predict(x_test) #realizamos las predicciones\n",
    "\n",
    "\n",
    "report = classification_report(y_test, predicts)\n",
    "print(report)\n",
    "matrix = confusion_matrix(y_pred= predicts ,y_true= y_test)\n",
    "disp=ConfusionMatrixDisplay(matrix)\n",
    "disp.plot()"
   ]
  },
  {
   "cell_type": "markdown",
   "id": "9dfec480",
   "metadata": {},
   "source": [
    "# XGBOOST - CLASSIFIER"
   ]
  },
  {
   "cell_type": "code",
   "execution_count": 9,
   "id": "4ff179c6",
   "metadata": {},
   "outputs": [
    {
     "name": "stdout",
     "output_type": "stream",
     "text": [
      "              precision    recall  f1-score   support\n",
      "\n",
      "         0.0       0.33      0.50      0.40         4\n",
      "         1.0       0.25      1.00      0.40         1\n",
      "         2.0       0.40      0.40      0.40         5\n",
      "         3.0       0.75      0.33      0.46         9\n",
      "         4.0       0.00      0.00      0.00         1\n",
      "\n",
      "    accuracy                           0.40        20\n",
      "   macro avg       0.35      0.45      0.33        20\n",
      "weighted avg       0.52      0.40      0.41        20\n",
      "\n"
     ]
    },
    {
     "data": {
      "text/plain": [
       "<sklearn.metrics._plot.confusion_matrix.ConfusionMatrixDisplay at 0x24574485ed0>"
      ]
     },
     "execution_count": 9,
     "metadata": {},
     "output_type": "execute_result"
    },
    {
     "data": {
      "image/png": "[encoded data removed]",
      "text/plain": [
       "<Figure size 640x480 with 2 Axes>"
      ]
     },
     "metadata": {},
     "output_type": "display_data"
    }
   ],
   "source": [
    "# Modelado, Entrenamiento, Evaluacion\n",
    "clf = XGBClassifier() #iniciamos el modelo\n",
    "clf.fit(x_train, y_train) #entrenamos el modelo\n",
    "predicts = clf.predict(x_test) #realizamos las predicciones\n",
    "\n",
    "\n",
    "report = classification_report(y_test, predicts)\n",
    "print(report)\n",
    "matrix = confusion_matrix(y_pred= predicts ,y_true= y_test)\n",
    "disp=ConfusionMatrixDisplay(matrix)\n",
    "disp.plot()"
   ]
  },
  {
   "cell_type": "markdown",
   "id": "4422cbeb",
   "metadata": {},
   "source": [
    "<a id=\"3\"></a> <br>\n",
    "# 3. Validacion"
   ]
  },
  {
   "cell_type": "code",
   "execution_count": null,
   "id": "2f86b78c",
   "metadata": {},
   "outputs": [],
   "source": []
  }
 ],
 "metadata": {
  "kernelspec": {
   "display_name": "openai",
   "language": "python",
   "name": "python3"
  },
  "language_info": {
   "codemirror_mode": {
    "name": "ipython",
    "version": 3
   },
   "file_extension": ".py",
   "mimetype": "text/x-python",
   "name": "python",
   "nbconvert_exporter": "python",
   "pygments_lexer": "ipython3",
   "version": "3.11.13"
  }
 },
 "nbformat": 4,
 "nbformat_minor": 5
}
